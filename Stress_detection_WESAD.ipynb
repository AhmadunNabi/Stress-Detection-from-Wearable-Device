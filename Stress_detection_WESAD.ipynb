{
 "cells": [
  {
   "cell_type": "code",
   "execution_count": 1,
   "metadata": {
    "colab": {
     "base_uri": "https://localhost:8080/"
    },
    "executionInfo": {
     "elapsed": 4358,
     "status": "ok",
     "timestamp": 1685598147888,
     "user": {
      "displayName": "S M Asiful Huda",
      "userId": "03210826033376966785"
     },
     "user_tz": -540
    },
    "id": "LeZ6vLC4dAtv",
    "outputId": "df7c57bd-aec8-4311-bb16-52b5cee2b261"
   },
   "outputs": [
    {
     "name": "stdout",
     "output_type": "stream",
     "text": [
      "Requirement already satisfied: graphviz in c:\\users\\andrew\\appdata\\roaming\\python\\python39\\site-packages (0.20.3)Note: you may need to restart the kernel to use updated packages.\n",
      "\n"
     ]
    }
   ],
   "source": [
    "pip install graphviz"
   ]
  },
  {
   "cell_type": "code",
   "execution_count": 2,
   "metadata": {
    "colab": {
     "base_uri": "https://localhost:8080/"
    },
    "executionInfo": {
     "elapsed": 8893,
     "status": "ok",
     "timestamp": 1685598157490,
     "user": {
      "displayName": "S M Asiful Huda",
      "userId": "03210826033376966785"
     },
     "user_tz": -540
    },
    "id": "-uiPHj9bdAty",
    "outputId": "a63c097a-3f6f-4e65-8d28-cd207adcd0ba"
   },
   "outputs": [
    {
     "name": "stdout",
     "output_type": "stream",
     "text": [
      "Requirement already satisfied: xgboost in c:\\users\\andrew\\anaconda3\\lib\\site-packages (2.0.3)\n",
      "Requirement already satisfied: numpy in c:\\users\\andrew\\anaconda3\\lib\\site-packages (from xgboost) (1.24.3)\n",
      "Requirement already satisfied: scipy in c:\\users\\andrew\\anaconda3\\lib\\site-packages (from xgboost) (1.13.0)\n",
      "Note: you may need to restart the kernel to use updated packages.\n"
     ]
    }
   ],
   "source": [
    "pip install xgboost"
   ]
  },
  {
   "cell_type": "code",
   "execution_count": 3,
   "metadata": {
    "executionInfo": {
     "elapsed": 334,
     "status": "ok",
     "timestamp": 1685598157823,
     "user": {
      "displayName": "S M Asiful Huda",
      "userId": "03210826033376966785"
     },
     "user_tz": -540
    },
    "id": "kkWuHcpLdAtz"
   },
   "outputs": [
    {
     "ename": "SyntaxError",
     "evalue": "invalid syntax (3320287223.py, line 2)",
     "output_type": "error",
     "traceback": [
      "\u001b[1;36m  Input \u001b[1;32mIn [3]\u001b[1;36m\u001b[0m\n\u001b[1;33m    pip install seaborn\u001b[0m\n\u001b[1;37m        ^\u001b[0m\n\u001b[1;31mSyntaxError\u001b[0m\u001b[1;31m:\u001b[0m invalid syntax\n"
     ]
    }
   ],
   "source": [
    "# Importing all the necessary libraries\n",
    "pip install seaborn"
   ]
  },
  {
   "cell_type": "code",
   "execution_count": 4,
   "metadata": {
    "executionInfo": {
     "elapsed": 3,
     "status": "ok",
     "timestamp": 1685598157823,
     "user": {
      "displayName": "S M Asiful Huda",
      "userId": "03210826033376966785"
     },
     "user_tz": -540
    },
    "id": "s7Be_hArdAtz"
   },
   "outputs": [],
   "source": [
    "#from sklearn.datasets import fetch_mldata\n",
    "import seaborn as sns\n",
    "import sklearn as sklearn\n",
    "from sklearn.neighbors import KNeighborsClassifier\n",
    "import sklearn.linear_model as skl_lm\n",
    "from sklearn.discriminant_analysis import LinearDiscriminantAnalysis\n",
    "from sklearn.discriminant_analysis import QuadraticDiscriminantAnalysis\n",
    "from sklearn.metrics import accuracy_score\n",
    "from sklearn.metrics import confusion_matrix\n",
    "from sklearn.metrics import roc_curve\n",
    "from sklearn.metrics import classification_report\n",
    "\n",
    "from sklearn.model_selection import cross_val_score\n",
    "from sklearn.model_selection import cross_val_predict\n",
    "from sklearn.tree import DecisionTreeClassifier # Import Decision Tree Classifier\n",
    "\n",
    "import graphviz \n",
    "import statsmodels.api as sm\n",
    "from sklearn import tree\n",
    "import xgboost as xgb\n",
    "from sklearn.decomposition import PCA"
   ]
  },
  {
   "cell_type": "code",
   "execution_count": 5,
   "metadata": {
    "executionInfo": {
     "elapsed": 3,
     "status": "ok",
     "timestamp": 1685598157824,
     "user": {
      "displayName": "S M Asiful Huda",
      "userId": "03210826033376966785"
     },
     "user_tz": -540
    },
    "id": "Ng_ivsZudAt0"
   },
   "outputs": [],
   "source": [
    "#%matplotlib inline\n",
    "import pickle\n",
    "import numpy as np\n",
    "import pandas as pd\n",
    "import matplotlib\n",
    "import matplotlib.pyplot as plt\n",
    "import pandas as pd\n",
    "import csv\n",
    "from sklearn.model_selection import train_test_split\n",
    "\n"
   ]
  },
  {
   "cell_type": "code",
   "execution_count": 6,
   "metadata": {
    "colab": {
     "base_uri": "https://localhost:8080/",
     "height": 226
    },
    "executionInfo": {
     "elapsed": 3,
     "status": "error",
     "timestamp": 1685598157824,
     "user": {
      "displayName": "S M Asiful Huda",
      "userId": "03210826033376966785"
     },
     "user_tz": -540
    },
    "id": "b9mRVX6cdAt0",
    "outputId": "e6f6efb5-2385-4290-86dc-6204a9c7c22f"
   },
   "outputs": [],
   "source": [
    "\n",
    "#data_set = r\"C:\\Users\\A\\Desktop\\neural networks\\WESAD-data\\S2\"\n",
    "\n",
    "s2_path = r\"C:\\Users\\pc\\S2.pkl\"\n",
    "#s2_path = data_set + 'S2/S2.pkl'\n",
    "\n",
    "with open(s2_path, 'rb') as file:\n",
    "  s2_data = pickle.load(file, encoding='latin1')\n",
    "\n"
   ]
  },
  {
   "cell_type": "code",
   "execution_count": 7,
   "metadata": {
    "colab": {
     "base_uri": "https://localhost:8080/"
    },
    "executionInfo": {
     "elapsed": 18553,
     "status": "ok",
     "timestamp": 1685593971565,
     "user": {
      "displayName": "S M Asiful Huda",
      "userId": "03210826033376966785"
     },
     "user_tz": -540
    },
    "id": "YNwcaJsWdp_1",
    "outputId": "77beb7dd-6e0a-4a48-cc06-6bb31ee21d58"
   },
   "outputs": [
    {
     "ename": "ModuleNotFoundError",
     "evalue": "No module named 'google.colab'",
     "output_type": "error",
     "traceback": [
      "\u001b[1;31m---------------------------------------------------------------------------\u001b[0m",
      "\u001b[1;31mModuleNotFoundError\u001b[0m                       Traceback (most recent call last)",
      "Cell \u001b[1;32mIn[7], line 1\u001b[0m\n\u001b[1;32m----> 1\u001b[0m \u001b[38;5;28;01mfrom\u001b[39;00m \u001b[38;5;21;01mgoogle\u001b[39;00m\u001b[38;5;21;01m.\u001b[39;00m\u001b[38;5;21;01mcolab\u001b[39;00m \u001b[38;5;28;01mimport\u001b[39;00m drive\n\u001b[0;32m      2\u001b[0m drive\u001b[38;5;241m.\u001b[39mmount(\u001b[38;5;124m'\u001b[39m\u001b[38;5;124m/content/drive\u001b[39m\u001b[38;5;124m'\u001b[39m)\n",
      "\u001b[1;31mModuleNotFoundError\u001b[0m: No module named 'google.colab'"
     ]
    }
   ],
   "source": [
    "from google.colab import drive\n",
    "drive.mount('/content/drive')"
   ]
  },
  {
   "cell_type": "code",
   "execution_count": null,
   "metadata": {
    "colab": {
     "base_uri": "https://localhost:8080/",
     "height": 362
    },
    "executionInfo": {
     "elapsed": 3484,
     "status": "error",
     "timestamp": 1685594072820,
     "user": {
      "displayName": "S M Asiful Huda",
      "userId": "03210826033376966785"
     },
     "user_tz": -540
    },
    "id": "U37h_FS7d3-Q",
    "outputId": "976a1acb-30cf-4ea9-8bd4-a578bb81b37a"
   },
   "outputs": [],
   "source": [
    "from google.colab import files\n",
    "files.upload()"
   ]
  },
  {
   "cell_type": "code",
   "execution_count": 8,
   "metadata": {
    "id": "rzbGQWF9dAt0",
    "outputId": "9247bced-260d-4e2f-d551-bd3a3564a616"
   },
   "outputs": [
    {
     "name": "stdout",
     "output_type": "stream",
     "text": [
      "Done\n"
     ]
    }
   ],
   "source": [
    "c_ax=s2_data['signal']['chest']['ACC'][0:,0]#[baseline_to_plot]\n",
    "c_ay=s2_data['signal']['chest']['ACC'][0:,1]#[baseline_to_plot]#[0:100] # hundred values\n",
    "c_az=s2_data['signal']['chest']['ACC'][0:,2]#[baseline_to_plot]\n",
    "c_ecg=s2_data['signal']['chest']['ECG'][:,0]#[baseline_to_plot]\n",
    "c_emg=s2_data['signal']['chest']['EMG'][:,0]#[baseline_to_plot]\n",
    "c_eda=s2_data['signal']['chest']['EDA'][:,0]#[baseline_to_plot]\n",
    "c_temp=s2_data['signal']['chest']['Temp'][:,0]#[baseline_to_plot]\n",
    "c_resp=s2_data['signal']['chest']['Resp'][:,0]#[baseline_to_plot]\n",
    "w_ax=s2_data['signal']['wrist']['ACC'][0:,0]#[stress_to_plot]\n",
    "w_ay=s2_data['signal']['wrist']['ACC'][0:,1]#[stress_to_plot]\n",
    "w_az=s2_data['signal']['wrist']['ACC'][0:,2]#[stress_to_plot]\n",
    "w_bvp=s2_data['signal']['wrist']['BVP'][:,0]#[stress_to_plot]\n",
    "w_eda=s2_data['signal']['wrist']['EDA'][:,0]#[stress_to_plot]\n",
    "w_temp=s2_data['signal']['wrist']['TEMP'][:,0]#[stress_to_plot]\n",
    "w_label=s2_data['label']\n",
    "\n",
    "print(\"Done\")"
   ]
  },
  {
   "cell_type": "code",
   "execution_count": null,
   "metadata": {
    "id": "LBe03RoNdAt1"
   },
   "outputs": [],
   "source": []
  },
  {
   "cell_type": "code",
   "execution_count": 9,
   "metadata": {
    "id": "PF-HEaLldAt1",
    "outputId": "395c3a23-f928-4c43-b1f7-def5b2777ece"
   },
   "outputs": [
    {
     "name": "stdout",
     "output_type": "stream",
     "text": [
      "data frame combined\n"
     ]
    }
   ],
   "source": [
    "numpy_data1=np.array([c_ax, c_ay, c_az,c_ecg,c_emg,c_eda,c_temp,c_resp,w_label])\n",
    "numpy_data1=numpy_data1.T\n",
    "\n",
    "#df = pd.DataFrame(data=numpy_data1, columns=[\"c_ax\", \"c_ay\", \"c_az\",\"c_ecg\",\"c_emg\",\"c_eda\",\"c_temp\",\"c_resp\",\"w_ax\",\"w_ay\",\"w_az\",\"w_bvp\",\"w_eda\",\"w_temp\"],orient='index') \n",
    "df = pd.DataFrame(data=numpy_data1, columns=[\"c_ax\", \"c_ay\", \"c_az\",\"c_ecg\",\"c_emg\",\"c_eda\",\"c_temp\",\"c_resp\",\"w_label\"]) \n",
    "\n",
    "print(\"data frame combined\")\n",
    "\n"
   ]
  },
  {
   "cell_type": "code",
   "execution_count": 10,
   "metadata": {
    "id": "VbqO8kVVdAt2",
    "outputId": "bb7b70c2-5af0-4b3f-e970-5f94118601d7"
   },
   "outputs": [
    {
     "data": {
      "text/plain": [
       "(4255300, 9)"
      ]
     },
     "metadata": {},
     "output_type": "display_data"
    },
    {
     "data": {
      "text/plain": [
       "<bound method DataFrame.info of            c_ax    c_ay    c_az     c_ecg     c_emg     c_eda     c_temp  \\\n",
       "0        0.9554 -0.2220 -0.5580  0.021423 -0.004440  5.250549  30.120758   \n",
       "1        0.9258 -0.2216 -0.5538  0.020325  0.004349  5.267334  30.129517   \n",
       "2        0.9082 -0.2196 -0.5392  0.016525  0.005173  5.243301  30.138214   \n",
       "3        0.8974 -0.2102 -0.5122  0.016708  0.007187  5.249405  30.129517   \n",
       "4        0.8882 -0.2036 -0.4824  0.011673 -0.015152  5.286407  30.130951   \n",
       "...         ...     ...     ...       ...       ...       ...        ...   \n",
       "4255295  0.8750 -0.1234 -0.2974 -0.013138  0.020370  0.400162  31.457733   \n",
       "4255296  0.8750 -0.1262 -0.2988 -0.010345  0.019592  0.355911  31.476898   \n",
       "4255297  0.8718 -0.1238 -0.3042 -0.005447 -0.017166  0.360489  31.459229   \n",
       "4255298  0.8730 -0.1234 -0.3026  0.000137 -0.028976  0.365829  31.484283   \n",
       "4255299  0.8702 -0.1220 -0.3022  0.004074 -0.023575  0.365448  31.456268   \n",
       "\n",
       "           c_resp  w_label  \n",
       "0       -1.148987      0.0  \n",
       "1       -1.124573      0.0  \n",
       "2       -1.152039      0.0  \n",
       "3       -1.158142      0.0  \n",
       "4       -1.161194      0.0  \n",
       "...           ...      ...  \n",
       "4255295 -1.063538      0.0  \n",
       "4255296 -1.106262      0.0  \n",
       "4255297 -1.103210      0.0  \n",
       "4255298 -1.086426      0.0  \n",
       "4255299 -1.097107      0.0  \n",
       "\n",
       "[4255300 rows x 9 columns]>"
      ]
     },
     "metadata": {},
     "output_type": "display_data"
    },
    {
     "data": {
      "text/plain": [
       "<bound method NDFrame.describe of            c_ax    c_ay    c_az     c_ecg     c_emg     c_eda     c_temp  \\\n",
       "0        0.9554 -0.2220 -0.5580  0.021423 -0.004440  5.250549  30.120758   \n",
       "1        0.9258 -0.2216 -0.5538  0.020325  0.004349  5.267334  30.129517   \n",
       "2        0.9082 -0.2196 -0.5392  0.016525  0.005173  5.243301  30.138214   \n",
       "3        0.8974 -0.2102 -0.5122  0.016708  0.007187  5.249405  30.129517   \n",
       "4        0.8882 -0.2036 -0.4824  0.011673 -0.015152  5.286407  30.130951   \n",
       "...         ...     ...     ...       ...       ...       ...        ...   \n",
       "4255295  0.8750 -0.1234 -0.2974 -0.013138  0.020370  0.400162  31.457733   \n",
       "4255296  0.8750 -0.1262 -0.2988 -0.010345  0.019592  0.355911  31.476898   \n",
       "4255297  0.8718 -0.1238 -0.3042 -0.005447 -0.017166  0.360489  31.459229   \n",
       "4255298  0.8730 -0.1234 -0.3026  0.000137 -0.028976  0.365829  31.484283   \n",
       "4255299  0.8702 -0.1220 -0.3022  0.004074 -0.023575  0.365448  31.456268   \n",
       "\n",
       "           c_resp  w_label  \n",
       "0       -1.148987      0.0  \n",
       "1       -1.124573      0.0  \n",
       "2       -1.152039      0.0  \n",
       "3       -1.158142      0.0  \n",
       "4       -1.161194      0.0  \n",
       "...           ...      ...  \n",
       "4255295 -1.063538      0.0  \n",
       "4255296 -1.106262      0.0  \n",
       "4255297 -1.103210      0.0  \n",
       "4255298 -1.086426      0.0  \n",
       "4255299 -1.097107      0.0  \n",
       "\n",
       "[4255300 rows x 9 columns]>"
      ]
     },
     "metadata": {},
     "output_type": "display_data"
    }
   ],
   "source": [
    "display(df.shape)\n",
    "display(df.info)\n",
    "display(df.describe)"
   ]
  },
  {
   "cell_type": "code",
   "execution_count": 11,
   "metadata": {
    "id": "dW6EQ1BVdAt2"
   },
   "outputs": [],
   "source": [
    "# Calculating the interquartile range"
   ]
  },
  {
   "cell_type": "code",
   "execution_count": 12,
   "metadata": {
    "id": "pTkCFDmUdAt2",
    "outputId": "04ea6ec7-b213-491e-fe8f-f857167bf15b"
   },
   "outputs": [
    {
     "name": "stdout",
     "output_type": "stream",
     "text": [
      "IQR is\n",
      " c_ax       0.271200\n",
      "c_ay       0.054000\n",
      "c_az       0.507400\n",
      "c_ecg      0.112335\n",
      "c_emg      0.012314\n",
      "c_eda      0.746918\n",
      "c_temp     1.240173\n",
      "c_resp     3.100586\n",
      "w_label    2.000000\n",
      "dtype: float64\n"
     ]
    }
   ],
   "source": [
    "Q1 = df.quantile(0.25)\n",
    "Q3 = df.quantile(0.75)\n",
    "IQR = Q3 - Q1\n",
    "print(\"IQR is\\n\", IQR)\n",
    "#print((df < (Q1 - 1.5 * IQR)) |(df > (Q3 + 1.5 * IQR)) )"
   ]
  },
  {
   "cell_type": "code",
   "execution_count": null,
   "metadata": {
    "id": "3olEU1JYdAt3"
   },
   "outputs": [],
   "source": []
  },
  {
   "cell_type": "code",
   "execution_count": 13,
   "metadata": {
    "id": "n5aQTzO2dAt3",
    "outputId": "a30689f0-0cad-49f2-cb48-a32409d4b351"
   },
   "outputs": [
    {
     "name": "stdout",
     "output_type": "stream",
     "text": [
      "(2100456, 9)\n"
     ]
    }
   ],
   "source": [
    "df_out = df[~((df < (Q1 - 1.5 * IQR)) |(df > (Q3 + 1.5 * IQR))).any(axis=1)]\n",
    "print(df_out.shape)\n"
   ]
  },
  {
   "cell_type": "code",
   "execution_count": null,
   "metadata": {
    "id": "c7G0ds77dAt3"
   },
   "outputs": [],
   "source": []
  },
  {
   "cell_type": "code",
   "execution_count": 14,
   "metadata": {
    "id": "Zujd4Xj0dAt3"
   },
   "outputs": [],
   "source": [
    "#mean normalization \n",
    "norm_df_out=(df_out-df_out.mean())/df_out.std()\n",
    "#min-max normalization:\n",
    "#norm_df_out=(df_out-df_out.min())/(df_out.max()-df_out.min())\n",
    "\n",
    "norm_y = df_out.w_label #keep original labels Dont normalize labels\n",
    "norm_x = norm_df_out.drop('w_label',axis=1)\n",
    "\n",
    "\n",
    "norm_x_train,norm_x_test,norm_y_train,norm_y_test=train_test_split(norm_x,norm_y,test_size=0.2)\n"
   ]
  },
  {
   "cell_type": "code",
   "execution_count": 15,
   "metadata": {
    "id": "Z-F6udyAdAt4",
    "outputId": "6cf195d3-537d-4a12-98ac-a94e66697da2"
   },
   "outputs": [
    {
     "data": {
      "text/html": [
       "<div>\n",
       "<style scoped>\n",
       "    .dataframe tbody tr th:only-of-type {\n",
       "        vertical-align: middle;\n",
       "    }\n",
       "\n",
       "    .dataframe tbody tr th {\n",
       "        vertical-align: top;\n",
       "    }\n",
       "\n",
       "    .dataframe thead th {\n",
       "        text-align: right;\n",
       "    }\n",
       "</style>\n",
       "<table border=\"1\" class=\"dataframe\">\n",
       "  <thead>\n",
       "    <tr style=\"text-align: right;\">\n",
       "      <th></th>\n",
       "      <th>c_ax</th>\n",
       "      <th>c_ay</th>\n",
       "      <th>c_az</th>\n",
       "      <th>c_ecg</th>\n",
       "      <th>c_emg</th>\n",
       "      <th>c_eda</th>\n",
       "      <th>c_temp</th>\n",
       "      <th>c_resp</th>\n",
       "      <th>w_label</th>\n",
       "    </tr>\n",
       "  </thead>\n",
       "  <tbody>\n",
       "    <tr>\n",
       "      <th>393691</th>\n",
       "      <td>-1.678430</td>\n",
       "      <td>2.251221</td>\n",
       "      <td>-1.593856</td>\n",
       "      <td>-0.326259</td>\n",
       "      <td>-0.675595</td>\n",
       "      <td>3.563482</td>\n",
       "      <td>-4.750996</td>\n",
       "      <td>-0.416753</td>\n",
       "      <td>-0.108962</td>\n",
       "    </tr>\n",
       "    <tr>\n",
       "      <th>394476</th>\n",
       "      <td>-1.697992</td>\n",
       "      <td>2.116280</td>\n",
       "      <td>-1.564093</td>\n",
       "      <td>-1.913346</td>\n",
       "      <td>-1.408406</td>\n",
       "      <td>3.553901</td>\n",
       "      <td>-4.753546</td>\n",
       "      <td>0.864869</td>\n",
       "      <td>-0.108962</td>\n",
       "    </tr>\n",
       "    <tr>\n",
       "      <th>395154</th>\n",
       "      <td>-1.710440</td>\n",
       "      <td>2.244120</td>\n",
       "      <td>-1.574550</td>\n",
       "      <td>0.843406</td>\n",
       "      <td>1.302484</td>\n",
       "      <td>3.587000</td>\n",
       "      <td>-4.748553</td>\n",
       "      <td>-0.731728</td>\n",
       "      <td>-0.108962</td>\n",
       "    </tr>\n",
       "    <tr>\n",
       "      <th>396635</th>\n",
       "      <td>-1.746005</td>\n",
       "      <td>1.952928</td>\n",
       "      <td>-1.606727</td>\n",
       "      <td>-1.452419</td>\n",
       "      <td>0.221203</td>\n",
       "      <td>3.586129</td>\n",
       "      <td>-4.753546</td>\n",
       "      <td>1.121464</td>\n",
       "      <td>-0.108962</td>\n",
       "    </tr>\n",
       "    <tr>\n",
       "      <th>402178</th>\n",
       "      <td>-1.712218</td>\n",
       "      <td>2.158892</td>\n",
       "      <td>-1.596269</td>\n",
       "      <td>0.766310</td>\n",
       "      <td>-0.537232</td>\n",
       "      <td>3.553901</td>\n",
       "      <td>-4.571494</td>\n",
       "      <td>0.949722</td>\n",
       "      <td>-0.108962</td>\n",
       "    </tr>\n",
       "  </tbody>\n",
       "</table>\n",
       "</div>"
      ],
      "text/plain": [
       "            c_ax      c_ay      c_az     c_ecg     c_emg     c_eda    c_temp  \\\n",
       "393691 -1.678430  2.251221 -1.593856 -0.326259 -0.675595  3.563482 -4.750996   \n",
       "394476 -1.697992  2.116280 -1.564093 -1.913346 -1.408406  3.553901 -4.753546   \n",
       "395154 -1.710440  2.244120 -1.574550  0.843406  1.302484  3.587000 -4.748553   \n",
       "396635 -1.746005  1.952928 -1.606727 -1.452419  0.221203  3.586129 -4.753546   \n",
       "402178 -1.712218  2.158892 -1.596269  0.766310 -0.537232  3.553901 -4.571494   \n",
       "\n",
       "          c_resp   w_label  \n",
       "393691 -0.416753 -0.108962  \n",
       "394476  0.864869 -0.108962  \n",
       "395154 -0.731728 -0.108962  \n",
       "396635  1.121464 -0.108962  \n",
       "402178  0.949722 -0.108962  "
      ]
     },
     "execution_count": 15,
     "metadata": {},
     "output_type": "execute_result"
    }
   ],
   "source": [
    "norm_df_out.head()"
   ]
  },
  {
   "cell_type": "code",
   "execution_count": 16,
   "metadata": {
    "id": "SWWFEtbgdAt4",
    "outputId": "34a7923d-7dbd-4c9e-e140-714c61d1674a"
   },
   "outputs": [
    {
     "data": {
      "text/html": [
       "<div>\n",
       "<style scoped>\n",
       "    .dataframe tbody tr th:only-of-type {\n",
       "        vertical-align: middle;\n",
       "    }\n",
       "\n",
       "    .dataframe tbody tr th {\n",
       "        vertical-align: top;\n",
       "    }\n",
       "\n",
       "    .dataframe thead th {\n",
       "        text-align: right;\n",
       "    }\n",
       "</style>\n",
       "<table border=\"1\" class=\"dataframe\">\n",
       "  <thead>\n",
       "    <tr style=\"text-align: right;\">\n",
       "      <th></th>\n",
       "      <th>c_ax</th>\n",
       "      <th>c_ay</th>\n",
       "      <th>c_az</th>\n",
       "      <th>c_ecg</th>\n",
       "      <th>c_emg</th>\n",
       "      <th>c_eda</th>\n",
       "      <th>c_temp</th>\n",
       "      <th>c_resp</th>\n",
       "      <th>w_label</th>\n",
       "    </tr>\n",
       "  </thead>\n",
       "  <tbody>\n",
       "    <tr>\n",
       "      <th>count</th>\n",
       "      <td>2.100456e+06</td>\n",
       "      <td>2.100456e+06</td>\n",
       "      <td>2.100456e+06</td>\n",
       "      <td>2.100456e+06</td>\n",
       "      <td>2.100456e+06</td>\n",
       "      <td>2.100456e+06</td>\n",
       "      <td>2.100456e+06</td>\n",
       "      <td>2.100456e+06</td>\n",
       "      <td>2.100456e+06</td>\n",
       "    </tr>\n",
       "    <tr>\n",
       "      <th>mean</th>\n",
       "      <td>1.682200e-16</td>\n",
       "      <td>6.227062e-17</td>\n",
       "      <td>-1.660144e-16</td>\n",
       "      <td>6.819729e-18</td>\n",
       "      <td>-1.407246e-17</td>\n",
       "      <td>-3.169550e-16</td>\n",
       "      <td>-2.865856e-15</td>\n",
       "      <td>-1.104147e-17</td>\n",
       "      <td>4.483701e-16</td>\n",
       "    </tr>\n",
       "    <tr>\n",
       "      <th>std</th>\n",
       "      <td>1.000000e+00</td>\n",
       "      <td>1.000000e+00</td>\n",
       "      <td>1.000000e+00</td>\n",
       "      <td>1.000000e+00</td>\n",
       "      <td>1.000000e+00</td>\n",
       "      <td>1.000000e+00</td>\n",
       "      <td>1.000000e+00</td>\n",
       "      <td>1.000000e+00</td>\n",
       "      <td>1.000000e+00</td>\n",
       "    </tr>\n",
       "    <tr>\n",
       "      <th>min</th>\n",
       "      <td>-4.534372e+00</td>\n",
       "      <td>-3.814046e+00</td>\n",
       "      <td>-2.495604e+00</td>\n",
       "      <td>-2.629794e+00</td>\n",
       "      <td>-2.776663e+00</td>\n",
       "      <td>-1.856971e+00</td>\n",
       "      <td>-4.756042e+00</td>\n",
       "      <td>-2.715254e+00</td>\n",
       "      <td>-7.712019e-01</td>\n",
       "    </tr>\n",
       "    <tr>\n",
       "      <th>25%</th>\n",
       "      <td>-1.750292e-02</td>\n",
       "      <td>-6.535731e-01</td>\n",
       "      <td>-4.483708e-01</td>\n",
       "      <td>-5.757211e-01</td>\n",
       "      <td>-6.448473e-01</td>\n",
       "      <td>-7.211407e-01</td>\n",
       "      <td>-6.176719e-01</td>\n",
       "      <td>-7.154357e-01</td>\n",
       "      <td>-7.712019e-01</td>\n",
       "    </tr>\n",
       "    <tr>\n",
       "      <th>50%</th>\n",
       "      <td>4.164009e-01</td>\n",
       "      <td>-8.539912e-02</td>\n",
       "      <td>1.235676e-01</td>\n",
       "      <td>2.470093e-01</td>\n",
       "      <td>6.234153e-02</td>\n",
       "      <td>-1.995722e-02</td>\n",
       "      <td>-1.520821e-01</td>\n",
       "      <td>-1.092451e-01</td>\n",
       "      <td>-7.712019e-01</td>\n",
       "    </tr>\n",
       "    <tr>\n",
       "      <th>75%</th>\n",
       "      <td>6.226834e-01</td>\n",
       "      <td>5.537980e-01</td>\n",
       "      <td>5.812790e-01</td>\n",
       "      <td>6.049576e-01</td>\n",
       "      <td>6.619147e-01</td>\n",
       "      <td>3.711377e-01</td>\n",
       "      <td>7.266278e-01</td>\n",
       "      <td>7.331766e-01</td>\n",
       "      <td>5.532788e-01</td>\n",
       "    </tr>\n",
       "    <tr>\n",
       "      <th>max</th>\n",
       "      <td>4.150819e+00</td>\n",
       "      <td>3.856315e+00</td>\n",
       "      <td>3.420860e+00</td>\n",
       "      <td>2.775776e+00</td>\n",
       "      <td>2.732236e+00</td>\n",
       "      <td>3.596582e+00</td>\n",
       "      <td>3.874975e+00</td>\n",
       "      <td>2.802235e+00</td>\n",
       "      <td>1.877759e+00</td>\n",
       "    </tr>\n",
       "  </tbody>\n",
       "</table>\n",
       "</div>"
      ],
      "text/plain": [
       "               c_ax          c_ay          c_az         c_ecg         c_emg  \\\n",
       "count  2.100456e+06  2.100456e+06  2.100456e+06  2.100456e+06  2.100456e+06   \n",
       "mean   1.682200e-16  6.227062e-17 -1.660144e-16  6.819729e-18 -1.407246e-17   \n",
       "std    1.000000e+00  1.000000e+00  1.000000e+00  1.000000e+00  1.000000e+00   \n",
       "min   -4.534372e+00 -3.814046e+00 -2.495604e+00 -2.629794e+00 -2.776663e+00   \n",
       "25%   -1.750292e-02 -6.535731e-01 -4.483708e-01 -5.757211e-01 -6.448473e-01   \n",
       "50%    4.164009e-01 -8.539912e-02  1.235676e-01  2.470093e-01  6.234153e-02   \n",
       "75%    6.226834e-01  5.537980e-01  5.812790e-01  6.049576e-01  6.619147e-01   \n",
       "max    4.150819e+00  3.856315e+00  3.420860e+00  2.775776e+00  2.732236e+00   \n",
       "\n",
       "              c_eda        c_temp        c_resp       w_label  \n",
       "count  2.100456e+06  2.100456e+06  2.100456e+06  2.100456e+06  \n",
       "mean  -3.169550e-16 -2.865856e-15 -1.104147e-17  4.483701e-16  \n",
       "std    1.000000e+00  1.000000e+00  1.000000e+00  1.000000e+00  \n",
       "min   -1.856971e+00 -4.756042e+00 -2.715254e+00 -7.712019e-01  \n",
       "25%   -7.211407e-01 -6.176719e-01 -7.154357e-01 -7.712019e-01  \n",
       "50%   -1.995722e-02 -1.520821e-01 -1.092451e-01 -7.712019e-01  \n",
       "75%    3.711377e-01  7.266278e-01  7.331766e-01  5.532788e-01  \n",
       "max    3.596582e+00  3.874975e+00  2.802235e+00  1.877759e+00  "
      ]
     },
     "execution_count": 16,
     "metadata": {},
     "output_type": "execute_result"
    }
   ],
   "source": [
    "norm_df_out.describe()"
   ]
  },
  {
   "cell_type": "code",
   "execution_count": 17,
   "metadata": {
    "id": "-gpmWXjxdAt4",
    "outputId": "2eef84a0-bec7-4dd7-e093-43d1f6f4cf1a"
   },
   "outputs": [
    {
     "name": "stdout",
     "output_type": "stream",
     "text": [
      "<class 'pandas.core.frame.DataFrame'>\n",
      "Index: 2100456 entries, 393691 to 4255299\n",
      "Data columns (total 9 columns):\n",
      " #   Column   Dtype  \n",
      "---  ------   -----  \n",
      " 0   c_ax     float64\n",
      " 1   c_ay     float64\n",
      " 2   c_az     float64\n",
      " 3   c_ecg    float64\n",
      " 4   c_emg    float64\n",
      " 5   c_eda    float64\n",
      " 6   c_temp   float64\n",
      " 7   c_resp   float64\n",
      " 8   w_label  float64\n",
      "dtypes: float64(9)\n",
      "memory usage: 160.3 MB\n"
     ]
    }
   ],
   "source": [
    "norm_df_out.info()"
   ]
  },
  {
   "cell_type": "code",
   "execution_count": 18,
   "metadata": {
    "id": "vLIIH6i-dAt4",
    "outputId": "7f227345-6d9e-4cd7-a5c7-f0d9c9988f6a"
   },
   "outputs": [
    {
     "data": {
      "text/plain": [
       "(2100456, 9)"
      ]
     },
     "execution_count": 18,
     "metadata": {},
     "output_type": "execute_result"
    }
   ],
   "source": [
    "norm_df_out.shape"
   ]
  },
  {
   "cell_type": "code",
   "execution_count": 19,
   "metadata": {
    "id": "fBvSYuyEdAt4",
    "outputId": "14855975-ff93-44b3-b7e8-9226831f8c83"
   },
   "outputs": [
    {
     "data": {
      "image/png": "[encoded data removed]",
      "text/plain": [
       "<Figure size 1200x1000 with 2 Axes>"
      ]
     },
     "metadata": {},
     "output_type": "display_data"
    }
   ],
   "source": [
    "import seaborn as sns\n",
    "plt.figure(figsize=(12,10))\n",
    "cor = norm_x.corr()\n",
    "sns.heatmap(cor, annot=True, cmap=plt.cm.Reds)\n",
    "plt.show()"
   ]
  },
  {
   "cell_type": "code",
   "execution_count": null,
   "metadata": {
    "id": "FuVEZvtzdAt5"
   },
   "outputs": [],
   "source": []
  },
  {
   "cell_type": "code",
   "execution_count": 20,
   "metadata": {
    "id": "Bh6xMHapdAt5",
    "outputId": "96dd3e22-d17b-4d22-b4cb-72934032e405"
   },
   "outputs": [
    {
     "data": {
      "text/plain": [
       "const     0.000000e+00\n",
       "c_ax      0.000000e+00\n",
       "c_ay      0.000000e+00\n",
       "c_az      0.000000e+00\n",
       "c_ecg     7.723874e-02\n",
       "c_emg     3.922825e-33\n",
       "c_eda     0.000000e+00\n",
       "c_temp    0.000000e+00\n",
       "c_resp    0.000000e+00\n",
       "dtype: float64"
      ]
     },
     "execution_count": 20,
     "metadata": {},
     "output_type": "execute_result"
    }
   ],
   "source": [
    "\n",
    "X_1 = sm.add_constant(norm_x)\n",
    "#Fitting sm.OLS model\n",
    "model = sm.OLS(norm_y,X_1).fit()\n",
    "model.pvalues"
   ]
  },
  {
   "cell_type": "code",
   "execution_count": 21,
   "metadata": {
    "id": "q6wUlegcdAt5",
    "outputId": "2fc00b11-4b34-43ff-9577-4112f7d3737a"
   },
   "outputs": [
    {
     "name": "stdout",
     "output_type": "stream",
     "text": [
      "Requirement already satisfied: mlxtend in c:\\users\\pc\\.conda\\envs\\wesad\\lib\\site-packages (0.22.0)\n",
      "Requirement already satisfied: scipy>=1.2.1 in c:\\users\\pc\\.conda\\envs\\wesad\\lib\\site-packages (from mlxtend) (1.11.1)\n",
      "Requirement already satisfied: numpy>=1.16.2 in c:\\users\\pc\\.conda\\envs\\wesad\\lib\\site-packages (from mlxtend) (1.26.0)\n",
      "Requirement already satisfied: pandas>=0.24.2 in c:\\users\\pc\\.conda\\envs\\wesad\\lib\\site-packages (from mlxtend) (2.1.1)\n",
      "Requirement already satisfied: scikit-learn>=1.0.2 in c:\\users\\pc\\.conda\\envs\\wesad\\lib\\site-packages (from mlxtend) (1.3.1)\n",
      "Requirement already satisfied: matplotlib>=3.0.0 in c:\\users\\pc\\.conda\\envs\\wesad\\lib\\site-packages (from mlxtend) (3.8.0)\n",
      "Requirement already satisfied: joblib>=0.13.2 in c:\\users\\pc\\.conda\\envs\\wesad\\lib\\site-packages (from mlxtend) (1.3.2)\n",
      "Requirement already satisfied: setuptools in c:\\users\\pc\\.conda\\envs\\wesad\\lib\\site-packages (from mlxtend) (68.0.0)\n",
      "Requirement already satisfied: contourpy>=1.0.1 in c:\\users\\pc\\.conda\\envs\\wesad\\lib\\site-packages (from matplotlib>=3.0.0->mlxtend) (1.1.1)\n",
      "Requirement already satisfied: cycler>=0.10 in c:\\users\\pc\\.conda\\envs\\wesad\\lib\\site-packages (from matplotlib>=3.0.0->mlxtend) (0.11.0)\n",
      "Requirement already satisfied: fonttools>=4.22.0 in c:\\users\\pc\\.conda\\envs\\wesad\\lib\\site-packages (from matplotlib>=3.0.0->mlxtend) (4.42.1)\n",
      "Requirement already satisfied: kiwisolver>=1.0.1 in c:\\users\\pc\\.conda\\envs\\wesad\\lib\\site-packages (from matplotlib>=3.0.0->mlxtend) (1.4.5)\n",
      "Requirement already satisfied: packaging>=20.0 in c:\\users\\pc\\.conda\\envs\\wesad\\lib\\site-packages (from matplotlib>=3.0.0->mlxtend) (23.1)\n",
      "Requirement already satisfied: pillow>=6.2.0 in c:\\users\\pc\\.conda\\envs\\wesad\\lib\\site-packages (from matplotlib>=3.0.0->mlxtend) (10.0.1)\n",
      "Requirement already satisfied: pyparsing>=2.3.1 in c:\\users\\pc\\.conda\\envs\\wesad\\lib\\site-packages (from matplotlib>=3.0.0->mlxtend) (3.1.1)\n",
      "Requirement already satisfied: python-dateutil>=2.7 in c:\\users\\pc\\.conda\\envs\\wesad\\lib\\site-packages (from matplotlib>=3.0.0->mlxtend) (2.8.2)\n",
      "Requirement already satisfied: importlib-resources>=3.2.0 in c:\\users\\pc\\.conda\\envs\\wesad\\lib\\site-packages (from matplotlib>=3.0.0->mlxtend) (6.1.0)\n",
      "Requirement already satisfied: pytz>=2020.1 in c:\\users\\pc\\.conda\\envs\\wesad\\lib\\site-packages (from pandas>=0.24.2->mlxtend) (2023.3.post1)\n",
      "Requirement already satisfied: tzdata>=2022.1 in c:\\users\\pc\\.conda\\envs\\wesad\\lib\\site-packages (from pandas>=0.24.2->mlxtend) (2023.3)\n",
      "Requirement already satisfied: threadpoolctl>=2.0.0 in c:\\users\\pc\\.conda\\envs\\wesad\\lib\\site-packages (from scikit-learn>=1.0.2->mlxtend) (3.2.0)\n",
      "Requirement already satisfied: zipp>=3.1.0 in c:\\users\\pc\\.conda\\envs\\wesad\\lib\\site-packages (from importlib-resources>=3.2.0->matplotlib>=3.0.0->mlxtend) (3.11.0)\n",
      "Requirement already satisfied: six>=1.5 in c:\\users\\pc\\.conda\\envs\\wesad\\lib\\site-packages (from python-dateutil>=2.7->matplotlib>=3.0.0->mlxtend) (1.16.0)\n",
      "Note: you may need to restart the kernel to use updated packages.\n"
     ]
    }
   ],
   "source": [
    " pip install mlxtend"
   ]
  },
  {
   "cell_type": "code",
   "execution_count": 22,
   "metadata": {
    "id": "8Auq0T9udAt5",
    "outputId": "0431e55c-29eb-4963-9c93-85f062255f33"
   },
   "outputs": [
    {
     "data": {
      "text/plain": [
       "('c_ay', 'c_az', 'c_ecg', 'c_emg', 'c_eda', 'c_temp', 'c_resp')"
      ]
     },
     "execution_count": 22,
     "metadata": {},
     "output_type": "execute_result"
    }
   ],
   "source": [
    "#https://towardsdatascience.com/feature-selection-with-pandas-e3690ad8504b\n",
    "#https://towardsdatascience.com/feature-selection-using-wrapper-methods-in-python-f0d352b346f\n",
    "\n",
    "\n",
    "from mlxtend.feature_selection import SequentialFeatureSelector as SFS\n",
    "# Sequential Forward Selection(sfs)\n",
    "sfs = SFS(QuadraticDiscriminantAnalysis(),\n",
    "           k_features=7,\n",
    "           forward=True,\n",
    "           floating=False,\n",
    "           scoring = 'r2',\n",
    "           cv = 0)\n",
    "sfs.fit(norm_x, norm_y)\n",
    "sfs.k_feature_names_     # to get the final set of features"
   ]
  },
  {
   "cell_type": "code",
   "execution_count": 23,
   "metadata": {
    "id": "6jxE01scdAt5",
    "outputId": "f4a7e90b-812d-411a-8ac9-5df8c58e12d5"
   },
   "outputs": [
    {
     "data": {
      "text/plain": [
       "('c_ay', 'c_az', 'c_ecg', 'c_emg', 'c_eda', 'c_temp', 'c_resp')"
      ]
     },
     "execution_count": 23,
     "metadata": {},
     "output_type": "execute_result"
    }
   ],
   "source": [
    "sfs = SFS(QuadraticDiscriminantAnalysis(),\n",
    "           k_features=7,\n",
    "           forward=False,\n",
    "           floating=False,\n",
    "           scoring = 'r2',\n",
    "           cv = 0)\n",
    "sfs.fit(norm_x, norm_y)\n",
    "sfs.k_feature_names_     # to get the final set of features"
   ]
  },
  {
   "cell_type": "code",
   "execution_count": null,
   "metadata": {
    "id": "DEKFdLPEdAt5"
   },
   "outputs": [],
   "source": []
  },
  {
   "cell_type": "code",
   "execution_count": 24,
   "metadata": {
    "id": "Baoege1AdAt5",
    "outputId": "7290fbcf-a69b-44ff-bfd6-77e1b0df1e9a"
   },
   "outputs": [
    {
     "data": {
      "text/html": [
       "<div>\n",
       "<style scoped>\n",
       "    .dataframe tbody tr th:only-of-type {\n",
       "        vertical-align: middle;\n",
       "    }\n",
       "\n",
       "    .dataframe tbody tr th {\n",
       "        vertical-align: top;\n",
       "    }\n",
       "\n",
       "    .dataframe thead th {\n",
       "        text-align: right;\n",
       "    }\n",
       "</style>\n",
       "<table border=\"1\" class=\"dataframe\">\n",
       "  <thead>\n",
       "    <tr style=\"text-align: right;\">\n",
       "      <th></th>\n",
       "      <th>c_ax</th>\n",
       "      <th>c_ay</th>\n",
       "      <th>c_az</th>\n",
       "      <th>c_ecg</th>\n",
       "      <th>c_emg</th>\n",
       "      <th>c_eda</th>\n",
       "      <th>c_temp</th>\n",
       "      <th>c_resp</th>\n",
       "    </tr>\n",
       "  </thead>\n",
       "  <tbody>\n",
       "    <tr>\n",
       "      <th>3525332</th>\n",
       "      <td>0.603122</td>\n",
       "      <td>-0.866640</td>\n",
       "      <td>0.508882</td>\n",
       "      <td>0.448562</td>\n",
       "      <td>-0.573104</td>\n",
       "      <td>-0.813470</td>\n",
       "      <td>1.636671</td>\n",
       "      <td>1.452731</td>\n",
       "    </tr>\n",
       "    <tr>\n",
       "      <th>3481659</th>\n",
       "      <td>0.734715</td>\n",
       "      <td>-0.809822</td>\n",
       "      <td>0.997965</td>\n",
       "      <td>0.399550</td>\n",
       "      <td>0.123836</td>\n",
       "      <td>-0.863119</td>\n",
       "      <td>1.180906</td>\n",
       "      <td>-0.722224</td>\n",
       "    </tr>\n",
       "    <tr>\n",
       "      <th>3181103</th>\n",
       "      <td>0.683145</td>\n",
       "      <td>-0.397894</td>\n",
       "      <td>0.573235</td>\n",
       "      <td>-0.994245</td>\n",
       "      <td>0.866897</td>\n",
       "      <td>-0.763821</td>\n",
       "      <td>-0.167430</td>\n",
       "      <td>2.138344</td>\n",
       "    </tr>\n",
       "    <tr>\n",
       "      <th>1662101</th>\n",
       "      <td>0.466193</td>\n",
       "      <td>-0.966070</td>\n",
       "      <td>0.190334</td>\n",
       "      <td>0.006358</td>\n",
       "      <td>0.790029</td>\n",
       "      <td>0.414689</td>\n",
       "      <td>-0.433603</td>\n",
       "      <td>-0.001312</td>\n",
       "    </tr>\n",
       "    <tr>\n",
       "      <th>2759155</th>\n",
       "      <td>0.700928</td>\n",
       "      <td>0.717148</td>\n",
       "      <td>0.803297</td>\n",
       "      <td>1.368764</td>\n",
       "      <td>-1.024065</td>\n",
       "      <td>-0.371856</td>\n",
       "      <td>1.266302</td>\n",
       "      <td>-0.194098</td>\n",
       "    </tr>\n",
       "    <tr>\n",
       "      <th>...</th>\n",
       "      <td>...</td>\n",
       "      <td>...</td>\n",
       "      <td>...</td>\n",
       "      <td>...</td>\n",
       "      <td>...</td>\n",
       "      <td>...</td>\n",
       "      <td>...</td>\n",
       "      <td>...</td>\n",
       "    </tr>\n",
       "    <tr>\n",
       "      <th>3655545</th>\n",
       "      <td>0.580004</td>\n",
       "      <td>1.803783</td>\n",
       "      <td>0.286864</td>\n",
       "      <td>-0.193542</td>\n",
       "      <td>-0.660221</td>\n",
       "      <td>-1.074781</td>\n",
       "      <td>0.974266</td>\n",
       "      <td>2.141059</td>\n",
       "    </tr>\n",
       "    <tr>\n",
       "      <th>1496772</th>\n",
       "      <td>0.505316</td>\n",
       "      <td>0.589308</td>\n",
       "      <td>0.256296</td>\n",
       "      <td>-2.108291</td>\n",
       "      <td>-0.839580</td>\n",
       "      <td>0.040144</td>\n",
       "      <td>-1.458198</td>\n",
       "      <td>-0.954382</td>\n",
       "    </tr>\n",
       "    <tr>\n",
       "      <th>2106682</th>\n",
       "      <td>0.327486</td>\n",
       "      <td>0.227098</td>\n",
       "      <td>-0.118561</td>\n",
       "      <td>0.575771</td>\n",
       "      <td>-1.080435</td>\n",
       "      <td>2.594891</td>\n",
       "      <td>-1.531857</td>\n",
       "      <td>0.837716</td>\n",
       "    </tr>\n",
       "    <tr>\n",
       "      <th>2915782</th>\n",
       "      <td>-2.005637</td>\n",
       "      <td>0.319425</td>\n",
       "      <td>-1.749912</td>\n",
       "      <td>0.057021</td>\n",
       "      <td>0.964264</td>\n",
       "      <td>-0.389276</td>\n",
       "      <td>-0.203330</td>\n",
       "      <td>-0.506358</td>\n",
       "    </tr>\n",
       "    <tr>\n",
       "      <th>1312511</th>\n",
       "      <td>0.592452</td>\n",
       "      <td>2.308039</td>\n",
       "      <td>0.134025</td>\n",
       "      <td>-0.525608</td>\n",
       "      <td>2.332520</td>\n",
       "      <td>0.126377</td>\n",
       "      <td>-0.464299</td>\n",
       "      <td>1.879033</td>\n",
       "    </tr>\n",
       "  </tbody>\n",
       "</table>\n",
       "<p>1680364 rows × 8 columns</p>\n",
       "</div>"
      ],
      "text/plain": [
       "             c_ax      c_ay      c_az     c_ecg     c_emg     c_eda    c_temp  \\\n",
       "3525332  0.603122 -0.866640  0.508882  0.448562 -0.573104 -0.813470  1.636671   \n",
       "3481659  0.734715 -0.809822  0.997965  0.399550  0.123836 -0.863119  1.180906   \n",
       "3181103  0.683145 -0.397894  0.573235 -0.994245  0.866897 -0.763821 -0.167430   \n",
       "1662101  0.466193 -0.966070  0.190334  0.006358  0.790029  0.414689 -0.433603   \n",
       "2759155  0.700928  0.717148  0.803297  1.368764 -1.024065 -0.371856  1.266302   \n",
       "...           ...       ...       ...       ...       ...       ...       ...   \n",
       "3655545  0.580004  1.803783  0.286864 -0.193542 -0.660221 -1.074781  0.974266   \n",
       "1496772  0.505316  0.589308  0.256296 -2.108291 -0.839580  0.040144 -1.458198   \n",
       "2106682  0.327486  0.227098 -0.118561  0.575771 -1.080435  2.594891 -1.531857   \n",
       "2915782 -2.005637  0.319425 -1.749912  0.057021  0.964264 -0.389276 -0.203330   \n",
       "1312511  0.592452  2.308039  0.134025 -0.525608  2.332520  0.126377 -0.464299   \n",
       "\n",
       "           c_resp  \n",
       "3525332  1.452731  \n",
       "3481659 -0.722224  \n",
       "3181103  2.138344  \n",
       "1662101 -0.001312  \n",
       "2759155 -0.194098  \n",
       "...           ...  \n",
       "3655545  2.141059  \n",
       "1496772 -0.954382  \n",
       "2106682  0.837716  \n",
       "2915782 -0.506358  \n",
       "1312511  1.879033  \n",
       "\n",
       "[1680364 rows x 8 columns]"
      ]
     },
     "execution_count": 24,
     "metadata": {},
     "output_type": "execute_result"
    }
   ],
   "source": [
    "norm_x_train"
   ]
  },
  {
   "cell_type": "code",
   "execution_count": 25,
   "metadata": {
    "id": "AnsuO4zndAt6",
    "outputId": "02df00fc-56df-4f18-c043-7faf7cc244e2"
   },
   "outputs": [
    {
     "data": {
      "text/plain": [
       "3525332    3.0\n",
       "3481659    3.0\n",
       "3181103    0.0\n",
       "1662101    2.0\n",
       "2759155    0.0\n",
       "          ... \n",
       "3655545    0.0\n",
       "1496772    0.0\n",
       "2106682    0.0\n",
       "2915782    4.0\n",
       "1312511    0.0\n",
       "Name: w_label, Length: 1680364, dtype: float64"
      ]
     },
     "execution_count": 25,
     "metadata": {},
     "output_type": "execute_result"
    }
   ],
   "source": [
    "norm_y_train"
   ]
  },
  {
   "cell_type": "code",
   "execution_count": 26,
   "metadata": {
    "id": "8Ot3z_29dAt6",
    "outputId": "a53f8f84-90fa-4d5b-aa50-45f90c1ed745"
   },
   "outputs": [
    {
     "data": {
      "text/html": [
       "<div>\n",
       "<style scoped>\n",
       "    .dataframe tbody tr th:only-of-type {\n",
       "        vertical-align: middle;\n",
       "    }\n",
       "\n",
       "    .dataframe tbody tr th {\n",
       "        vertical-align: top;\n",
       "    }\n",
       "\n",
       "    .dataframe thead th {\n",
       "        text-align: right;\n",
       "    }\n",
       "</style>\n",
       "<table border=\"1\" class=\"dataframe\">\n",
       "  <thead>\n",
       "    <tr style=\"text-align: right;\">\n",
       "      <th></th>\n",
       "      <th>c_ax</th>\n",
       "      <th>c_ay</th>\n",
       "      <th>c_az</th>\n",
       "      <th>c_ecg</th>\n",
       "      <th>c_emg</th>\n",
       "      <th>c_eda</th>\n",
       "      <th>c_temp</th>\n",
       "      <th>c_resp</th>\n",
       "    </tr>\n",
       "  </thead>\n",
       "  <tbody>\n",
       "    <tr>\n",
       "      <th>2086152</th>\n",
       "      <td>0.281250</td>\n",
       "      <td>0.198689</td>\n",
       "      <td>-0.067078</td>\n",
       "      <td>0.770715</td>\n",
       "      <td>-0.547481</td>\n",
       "      <td>3.366628</td>\n",
       "      <td>-1.722193</td>\n",
       "      <td>0.202336</td>\n",
       "    </tr>\n",
       "    <tr>\n",
       "      <th>2951073</th>\n",
       "      <td>-2.144343</td>\n",
       "      <td>0.184484</td>\n",
       "      <td>-1.791742</td>\n",
       "      <td>-1.743734</td>\n",
       "      <td>-0.603851</td>\n",
       "      <td>-0.406697</td>\n",
       "      <td>-0.149533</td>\n",
       "      <td>0.621849</td>\n",
       "    </tr>\n",
       "    <tr>\n",
       "      <th>2751906</th>\n",
       "      <td>0.821853</td>\n",
       "      <td>0.624821</td>\n",
       "      <td>0.838692</td>\n",
       "      <td>-0.116997</td>\n",
       "      <td>-0.117018</td>\n",
       "      <td>-0.347467</td>\n",
       "      <td>1.134437</td>\n",
       "      <td>-0.158120</td>\n",
       "    </tr>\n",
       "    <tr>\n",
       "      <th>2303026</th>\n",
       "      <td>-0.773279</td>\n",
       "      <td>-0.312669</td>\n",
       "      <td>-1.062138</td>\n",
       "      <td>-0.849414</td>\n",
       "      <td>1.148748</td>\n",
       "      <td>0.499180</td>\n",
       "      <td>0.209577</td>\n",
       "      <td>-0.243652</td>\n",
       "    </tr>\n",
       "    <tr>\n",
       "      <th>3611979</th>\n",
       "      <td>0.580004</td>\n",
       "      <td>2.514001</td>\n",
       "      <td>0.284450</td>\n",
       "      <td>-0.176471</td>\n",
       "      <td>-0.163139</td>\n",
       "      <td>-1.168853</td>\n",
       "      <td>1.844266</td>\n",
       "      <td>-1.783906</td>\n",
       "    </tr>\n",
       "    <tr>\n",
       "      <th>...</th>\n",
       "      <td>...</td>\n",
       "      <td>...</td>\n",
       "      <td>...</td>\n",
       "      <td>...</td>\n",
       "      <td>...</td>\n",
       "      <td>...</td>\n",
       "      <td>...</td>\n",
       "      <td>...</td>\n",
       "    </tr>\n",
       "    <tr>\n",
       "      <th>1077921</th>\n",
       "      <td>0.114090</td>\n",
       "      <td>0.227098</td>\n",
       "      <td>-0.350232</td>\n",
       "      <td>-2.392997</td>\n",
       "      <td>1.363979</td>\n",
       "      <td>0.186478</td>\n",
       "      <td>-0.737588</td>\n",
       "      <td>-0.406570</td>\n",
       "    </tr>\n",
       "    <tr>\n",
       "      <th>1805210</th>\n",
       "      <td>0.341713</td>\n",
       "      <td>-0.362384</td>\n",
       "      <td>0.087369</td>\n",
       "      <td>-1.496474</td>\n",
       "      <td>-1.167552</td>\n",
       "      <td>0.986960</td>\n",
       "      <td>-0.528240</td>\n",
       "      <td>-0.695071</td>\n",
       "    </tr>\n",
       "    <tr>\n",
       "      <th>1606293</th>\n",
       "      <td>0.423514</td>\n",
       "      <td>0.994135</td>\n",
       "      <td>0.129199</td>\n",
       "      <td>1.915048</td>\n",
       "      <td>0.728534</td>\n",
       "      <td>0.308423</td>\n",
       "      <td>-0.126431</td>\n",
       "      <td>0.081505</td>\n",
       "    </tr>\n",
       "    <tr>\n",
       "      <th>1329682</th>\n",
       "      <td>0.281250</td>\n",
       "      <td>-0.717493</td>\n",
       "      <td>-0.071905</td>\n",
       "      <td>0.151189</td>\n",
       "      <td>1.922556</td>\n",
       "      <td>0.000948</td>\n",
       "      <td>-0.798873</td>\n",
       "      <td>0.467756</td>\n",
       "    </tr>\n",
       "    <tr>\n",
       "      <th>3577450</th>\n",
       "      <td>0.604900</td>\n",
       "      <td>-0.980275</td>\n",
       "      <td>0.496815</td>\n",
       "      <td>0.234894</td>\n",
       "      <td>-0.706342</td>\n",
       "      <td>-1.076523</td>\n",
       "      <td>2.273531</td>\n",
       "      <td>-0.344797</td>\n",
       "    </tr>\n",
       "  </tbody>\n",
       "</table>\n",
       "<p>420092 rows × 8 columns</p>\n",
       "</div>"
      ],
      "text/plain": [
       "             c_ax      c_ay      c_az     c_ecg     c_emg     c_eda    c_temp  \\\n",
       "2086152  0.281250  0.198689 -0.067078  0.770715 -0.547481  3.366628 -1.722193   \n",
       "2951073 -2.144343  0.184484 -1.791742 -1.743734 -0.603851 -0.406697 -0.149533   \n",
       "2751906  0.821853  0.624821  0.838692 -0.116997 -0.117018 -0.347467  1.134437   \n",
       "2303026 -0.773279 -0.312669 -1.062138 -0.849414  1.148748  0.499180  0.209577   \n",
       "3611979  0.580004  2.514001  0.284450 -0.176471 -0.163139 -1.168853  1.844266   \n",
       "...           ...       ...       ...       ...       ...       ...       ...   \n",
       "1077921  0.114090  0.227098 -0.350232 -2.392997  1.363979  0.186478 -0.737588   \n",
       "1805210  0.341713 -0.362384  0.087369 -1.496474 -1.167552  0.986960 -0.528240   \n",
       "1606293  0.423514  0.994135  0.129199  1.915048  0.728534  0.308423 -0.126431   \n",
       "1329682  0.281250 -0.717493 -0.071905  0.151189  1.922556  0.000948 -0.798873   \n",
       "3577450  0.604900 -0.980275  0.496815  0.234894 -0.706342 -1.076523  2.273531   \n",
       "\n",
       "           c_resp  \n",
       "2086152  0.202336  \n",
       "2951073  0.621849  \n",
       "2751906 -0.158120  \n",
       "2303026 -0.243652  \n",
       "3611979 -1.783906  \n",
       "...           ...  \n",
       "1077921 -0.406570  \n",
       "1805210 -0.695071  \n",
       "1606293  0.081505  \n",
       "1329682  0.467756  \n",
       "3577450 -0.344797  \n",
       "\n",
       "[420092 rows x 8 columns]"
      ]
     },
     "execution_count": 26,
     "metadata": {},
     "output_type": "execute_result"
    }
   ],
   "source": [
    "norm_x_test"
   ]
  },
  {
   "cell_type": "code",
   "execution_count": 27,
   "metadata": {
    "id": "XnGX7pLKdAt6",
    "outputId": "f310d2ae-aeaf-4ed5-f9ca-8363bf7b46db"
   },
   "outputs": [
    {
     "data": {
      "text/plain": [
       "2086152    0.0\n",
       "2951073    4.0\n",
       "2751906    0.0\n",
       "2303026    0.0\n",
       "3611979    0.0\n",
       "          ... \n",
       "1077921    0.0\n",
       "1805210    2.0\n",
       "1606293    2.0\n",
       "1329682    0.0\n",
       "3577450    3.0\n",
       "Name: w_label, Length: 420092, dtype: float64"
      ]
     },
     "execution_count": 27,
     "metadata": {},
     "output_type": "execute_result"
    }
   ],
   "source": [
    "norm_y_test"
   ]
  },
  {
   "cell_type": "code",
   "execution_count": 28,
   "metadata": {
    "id": "U7T57FbxdAt6",
    "outputId": "94102393-d1b8-4d2c-d006-9622240a14db"
   },
   "outputs": [
    {
     "data": {
      "text/plain": [
       "393691     1.0\n",
       "394476     1.0\n",
       "395154     1.0\n",
       "396635     1.0\n",
       "402178     1.0\n",
       "          ... \n",
       "4255293    0.0\n",
       "4255295    0.0\n",
       "4255296    0.0\n",
       "4255297    0.0\n",
       "4255299    0.0\n",
       "Name: w_label, Length: 2100456, dtype: float64"
      ]
     },
     "execution_count": 28,
     "metadata": {},
     "output_type": "execute_result"
    }
   ],
   "source": [
    "\n",
    "y=df_out.w_label\n",
    "x=df_out.drop('w_label',axis=1)\n",
    "#print(x)\n",
    "#print(\"\\n-----\\n\")\n",
    "#print(y)\n",
    "x_train,x_test,y_train,y_test=train_test_split(x,y,test_size=0.2)\n",
    "\n",
    "y"
   ]
  },
  {
   "cell_type": "code",
   "execution_count": 29,
   "metadata": {
    "id": "WvzSo3MAdAt6",
    "outputId": "f3a7a444-fbde-4f28-c048-1c4bf2d5e0e3"
   },
   "outputs": [
    {
     "data": {
      "text/html": [
       "<div>\n",
       "<style scoped>\n",
       "    .dataframe tbody tr th:only-of-type {\n",
       "        vertical-align: middle;\n",
       "    }\n",
       "\n",
       "    .dataframe tbody tr th {\n",
       "        vertical-align: top;\n",
       "    }\n",
       "\n",
       "    .dataframe thead th {\n",
       "        text-align: right;\n",
       "    }\n",
       "</style>\n",
       "<table border=\"1\" class=\"dataframe\">\n",
       "  <thead>\n",
       "    <tr style=\"text-align: right;\">\n",
       "      <th></th>\n",
       "      <th>c_ax</th>\n",
       "      <th>c_ay</th>\n",
       "      <th>c_az</th>\n",
       "      <th>c_ecg</th>\n",
       "      <th>c_emg</th>\n",
       "      <th>c_eda</th>\n",
       "      <th>c_temp</th>\n",
       "      <th>c_resp</th>\n",
       "    </tr>\n",
       "  </thead>\n",
       "  <tbody>\n",
       "    <tr>\n",
       "      <th>4175630</th>\n",
       "      <td>0.9002</td>\n",
       "      <td>-0.1222</td>\n",
       "      <td>0.1434</td>\n",
       "      <td>0.012405</td>\n",
       "      <td>-0.003479</td>\n",
       "      <td>0.510025</td>\n",
       "      <td>32.217224</td>\n",
       "      <td>1.756287</td>\n",
       "    </tr>\n",
       "    <tr>\n",
       "      <th>3369671</th>\n",
       "      <td>0.9094</td>\n",
       "      <td>-0.1512</td>\n",
       "      <td>-0.0718</td>\n",
       "      <td>-0.113251</td>\n",
       "      <td>0.002518</td>\n",
       "      <td>0.762558</td>\n",
       "      <td>31.844757</td>\n",
       "      <td>2.369690</td>\n",
       "    </tr>\n",
       "    <tr>\n",
       "      <th>4200772</th>\n",
       "      <td>0.8706</td>\n",
       "      <td>-0.1182</td>\n",
       "      <td>-0.2014</td>\n",
       "      <td>0.122360</td>\n",
       "      <td>0.018494</td>\n",
       "      <td>0.394440</td>\n",
       "      <td>31.906952</td>\n",
       "      <td>3.144836</td>\n",
       "    </tr>\n",
       "    <tr>\n",
       "      <th>1826088</th>\n",
       "      <td>0.8740</td>\n",
       "      <td>-0.1108</td>\n",
       "      <td>-0.2870</td>\n",
       "      <td>-0.008194</td>\n",
       "      <td>0.003616</td>\n",
       "      <td>1.475143</td>\n",
       "      <td>31.075409</td>\n",
       "      <td>-2.174377</td>\n",
       "    </tr>\n",
       "    <tr>\n",
       "      <th>1490586</th>\n",
       "      <td>0.8910</td>\n",
       "      <td>-0.1288</td>\n",
       "      <td>-0.2274</td>\n",
       "      <td>0.058273</td>\n",
       "      <td>-0.005035</td>\n",
       "      <td>1.147079</td>\n",
       "      <td>30.672791</td>\n",
       "      <td>2.639771</td>\n",
       "    </tr>\n",
       "    <tr>\n",
       "      <th>...</th>\n",
       "      <td>...</td>\n",
       "      <td>...</td>\n",
       "      <td>...</td>\n",
       "      <td>...</td>\n",
       "      <td>...</td>\n",
       "      <td>...</td>\n",
       "      <td>...</td>\n",
       "      <td>...</td>\n",
       "    </tr>\n",
       "    <tr>\n",
       "      <th>3187136</th>\n",
       "      <td>0.9006</td>\n",
       "      <td>-0.1386</td>\n",
       "      <td>-0.1846</td>\n",
       "      <td>-0.045364</td>\n",
       "      <td>-0.016617</td>\n",
       "      <td>0.767136</td>\n",
       "      <td>31.404694</td>\n",
       "      <td>2.537537</td>\n",
       "    </tr>\n",
       "    <tr>\n",
       "      <th>1726730</th>\n",
       "      <td>0.8904</td>\n",
       "      <td>-0.1514</td>\n",
       "      <td>-0.2518</td>\n",
       "      <td>0.040100</td>\n",
       "      <td>-0.005173</td>\n",
       "      <td>1.466751</td>\n",
       "      <td>31.392914</td>\n",
       "      <td>0.067139</td>\n",
       "    </tr>\n",
       "    <tr>\n",
       "      <th>1448173</th>\n",
       "      <td>0.8878</td>\n",
       "      <td>-0.0898</td>\n",
       "      <td>-0.2594</td>\n",
       "      <td>-0.157654</td>\n",
       "      <td>0.004166</td>\n",
       "      <td>1.129532</td>\n",
       "      <td>30.664001</td>\n",
       "      <td>-0.032043</td>\n",
       "    </tr>\n",
       "    <tr>\n",
       "      <th>1026304</th>\n",
       "      <td>0.8078</td>\n",
       "      <td>-0.1220</td>\n",
       "      <td>-0.4732</td>\n",
       "      <td>-0.035202</td>\n",
       "      <td>-0.014511</td>\n",
       "      <td>1.255417</td>\n",
       "      <td>29.499786</td>\n",
       "      <td>1.383972</td>\n",
       "    </tr>\n",
       "    <tr>\n",
       "      <th>4202264</th>\n",
       "      <td>0.8642</td>\n",
       "      <td>-0.0522</td>\n",
       "      <td>-0.1906</td>\n",
       "      <td>0.059143</td>\n",
       "      <td>-0.014465</td>\n",
       "      <td>0.407791</td>\n",
       "      <td>31.883270</td>\n",
       "      <td>-0.355530</td>\n",
       "    </tr>\n",
       "  </tbody>\n",
       "</table>\n",
       "<p>1680364 rows × 8 columns</p>\n",
       "</div>"
      ],
      "text/plain": [
       "           c_ax    c_ay    c_az     c_ecg     c_emg     c_eda     c_temp  \\\n",
       "4175630  0.9002 -0.1222  0.1434  0.012405 -0.003479  0.510025  32.217224   \n",
       "3369671  0.9094 -0.1512 -0.0718 -0.113251  0.002518  0.762558  31.844757   \n",
       "4200772  0.8706 -0.1182 -0.2014  0.122360  0.018494  0.394440  31.906952   \n",
       "1826088  0.8740 -0.1108 -0.2870 -0.008194  0.003616  1.475143  31.075409   \n",
       "1490586  0.8910 -0.1288 -0.2274  0.058273 -0.005035  1.147079  30.672791   \n",
       "...         ...     ...     ...       ...       ...       ...        ...   \n",
       "3187136  0.9006 -0.1386 -0.1846 -0.045364 -0.016617  0.767136  31.404694   \n",
       "1726730  0.8904 -0.1514 -0.2518  0.040100 -0.005173  1.466751  31.392914   \n",
       "1448173  0.8878 -0.0898 -0.2594 -0.157654  0.004166  1.129532  30.664001   \n",
       "1026304  0.8078 -0.1220 -0.4732 -0.035202 -0.014511  1.255417  29.499786   \n",
       "4202264  0.8642 -0.0522 -0.1906  0.059143 -0.014465  0.407791  31.883270   \n",
       "\n",
       "           c_resp  \n",
       "4175630  1.756287  \n",
       "3369671  2.369690  \n",
       "4200772  3.144836  \n",
       "1826088 -2.174377  \n",
       "1490586  2.639771  \n",
       "...           ...  \n",
       "3187136  2.537537  \n",
       "1726730  0.067139  \n",
       "1448173 -0.032043  \n",
       "1026304  1.383972  \n",
       "4202264 -0.355530  \n",
       "\n",
       "[1680364 rows x 8 columns]"
      ]
     },
     "execution_count": 29,
     "metadata": {},
     "output_type": "execute_result"
    }
   ],
   "source": [
    "(x_train)\n"
   ]
  },
  {
   "cell_type": "code",
   "execution_count": 30,
   "metadata": {
    "id": "Gy4GNp5wdAt6",
    "outputId": "64184da5-ad5e-46fd-9e23-aacb84a9d0ef"
   },
   "outputs": [
    {
     "data": {
      "text/plain": [
       "4175630    0.0\n",
       "3369671    3.0\n",
       "4200772    0.0\n",
       "1826088    2.0\n",
       "1490586    0.0\n",
       "          ... \n",
       "3187136    0.0\n",
       "1726730    2.0\n",
       "1448173    0.0\n",
       "1026304    0.0\n",
       "4202264    0.0\n",
       "Name: w_label, Length: 1680364, dtype: float64"
      ]
     },
     "execution_count": 30,
     "metadata": {},
     "output_type": "execute_result"
    }
   ],
   "source": [
    "\n",
    "(y_train)\n"
   ]
  },
  {
   "cell_type": "code",
   "execution_count": 31,
   "metadata": {
    "id": "vb_N2FizdAt7",
    "outputId": "82d92025-4502-4900-d00e-017e4d9ee9e6"
   },
   "outputs": [
    {
     "data": {
      "text/html": [
       "<div>\n",
       "<style scoped>\n",
       "    .dataframe tbody tr th:only-of-type {\n",
       "        vertical-align: middle;\n",
       "    }\n",
       "\n",
       "    .dataframe tbody tr th {\n",
       "        vertical-align: top;\n",
       "    }\n",
       "\n",
       "    .dataframe thead th {\n",
       "        text-align: right;\n",
       "    }\n",
       "</style>\n",
       "<table border=\"1\" class=\"dataframe\">\n",
       "  <thead>\n",
       "    <tr style=\"text-align: right;\">\n",
       "      <th></th>\n",
       "      <th>c_ax</th>\n",
       "      <th>c_ay</th>\n",
       "      <th>c_az</th>\n",
       "      <th>c_ecg</th>\n",
       "      <th>c_emg</th>\n",
       "      <th>c_eda</th>\n",
       "      <th>c_temp</th>\n",
       "      <th>c_resp</th>\n",
       "    </tr>\n",
       "  </thead>\n",
       "  <tbody>\n",
       "    <tr>\n",
       "      <th>3600281</th>\n",
       "      <td>0.9038</td>\n",
       "      <td>-0.1000</td>\n",
       "      <td>-0.1996</td>\n",
       "      <td>0.004257</td>\n",
       "      <td>0.002426</td>\n",
       "      <td>0.569534</td>\n",
       "      <td>32.830811</td>\n",
       "      <td>3.160095</td>\n",
       "    </tr>\n",
       "    <tr>\n",
       "      <th>3779150</th>\n",
       "      <td>0.9088</td>\n",
       "      <td>-0.1042</td>\n",
       "      <td>0.0814</td>\n",
       "      <td>0.098373</td>\n",
       "      <td>-0.001877</td>\n",
       "      <td>0.744247</td>\n",
       "      <td>31.889160</td>\n",
       "      <td>3.675842</td>\n",
       "    </tr>\n",
       "    <tr>\n",
       "      <th>3810312</th>\n",
       "      <td>0.9114</td>\n",
       "      <td>-0.1222</td>\n",
       "      <td>0.0054</td>\n",
       "      <td>0.081619</td>\n",
       "      <td>-0.000916</td>\n",
       "      <td>0.662994</td>\n",
       "      <td>31.868469</td>\n",
       "      <td>-0.477600</td>\n",
       "    </tr>\n",
       "    <tr>\n",
       "      <th>2724187</th>\n",
       "      <td>0.8872</td>\n",
       "      <td>-0.1350</td>\n",
       "      <td>-0.2182</td>\n",
       "      <td>0.042343</td>\n",
       "      <td>-0.019455</td>\n",
       "      <td>1.004791</td>\n",
       "      <td>32.123596</td>\n",
       "      <td>-3.837585</td>\n",
       "    </tr>\n",
       "    <tr>\n",
       "      <th>3763914</th>\n",
       "      <td>0.9162</td>\n",
       "      <td>-0.1010</td>\n",
       "      <td>0.0616</td>\n",
       "      <td>-0.022751</td>\n",
       "      <td>-0.013275</td>\n",
       "      <td>0.714111</td>\n",
       "      <td>31.945496</td>\n",
       "      <td>-0.601196</td>\n",
       "    </tr>\n",
       "    <tr>\n",
       "      <th>...</th>\n",
       "      <td>...</td>\n",
       "      <td>...</td>\n",
       "      <td>...</td>\n",
       "      <td>...</td>\n",
       "      <td>...</td>\n",
       "      <td>...</td>\n",
       "      <td>...</td>\n",
       "      <td>...</td>\n",
       "    </tr>\n",
       "    <tr>\n",
       "      <th>2184180</th>\n",
       "      <td>0.8638</td>\n",
       "      <td>-0.1086</td>\n",
       "      <td>-0.3294</td>\n",
       "      <td>-0.183609</td>\n",
       "      <td>-0.005264</td>\n",
       "      <td>1.665878</td>\n",
       "      <td>30.729767</td>\n",
       "      <td>-2.050781</td>\n",
       "    </tr>\n",
       "    <tr>\n",
       "      <th>2771047</th>\n",
       "      <td>0.8888</td>\n",
       "      <td>-0.1350</td>\n",
       "      <td>-0.1568</td>\n",
       "      <td>-0.054474</td>\n",
       "      <td>-0.016525</td>\n",
       "      <td>0.911713</td>\n",
       "      <td>32.285675</td>\n",
       "      <td>3.045654</td>\n",
       "    </tr>\n",
       "    <tr>\n",
       "      <th>4159380</th>\n",
       "      <td>0.9026</td>\n",
       "      <td>-0.1006</td>\n",
       "      <td>0.1538</td>\n",
       "      <td>0.012131</td>\n",
       "      <td>0.021561</td>\n",
       "      <td>0.522614</td>\n",
       "      <td>32.123596</td>\n",
       "      <td>-0.434875</td>\n",
       "    </tr>\n",
       "    <tr>\n",
       "      <th>2376902</th>\n",
       "      <td>0.8954</td>\n",
       "      <td>-0.1110</td>\n",
       "      <td>-0.3074</td>\n",
       "      <td>0.193130</td>\n",
       "      <td>-0.016800</td>\n",
       "      <td>1.546478</td>\n",
       "      <td>30.551605</td>\n",
       "      <td>0.193787</td>\n",
       "    </tr>\n",
       "    <tr>\n",
       "      <th>3492496</th>\n",
       "      <td>0.9130</td>\n",
       "      <td>-0.1426</td>\n",
       "      <td>-0.0564</td>\n",
       "      <td>-0.018814</td>\n",
       "      <td>-0.005447</td>\n",
       "      <td>0.688171</td>\n",
       "      <td>32.126526</td>\n",
       "      <td>1.081848</td>\n",
       "    </tr>\n",
       "  </tbody>\n",
       "</table>\n",
       "<p>420092 rows × 8 columns</p>\n",
       "</div>"
      ],
      "text/plain": [
       "           c_ax    c_ay    c_az     c_ecg     c_emg     c_eda     c_temp  \\\n",
       "3600281  0.9038 -0.1000 -0.1996  0.004257  0.002426  0.569534  32.830811   \n",
       "3779150  0.9088 -0.1042  0.0814  0.098373 -0.001877  0.744247  31.889160   \n",
       "3810312  0.9114 -0.1222  0.0054  0.081619 -0.000916  0.662994  31.868469   \n",
       "2724187  0.8872 -0.1350 -0.2182  0.042343 -0.019455  1.004791  32.123596   \n",
       "3763914  0.9162 -0.1010  0.0616 -0.022751 -0.013275  0.714111  31.945496   \n",
       "...         ...     ...     ...       ...       ...       ...        ...   \n",
       "2184180  0.8638 -0.1086 -0.3294 -0.183609 -0.005264  1.665878  30.729767   \n",
       "2771047  0.8888 -0.1350 -0.1568 -0.054474 -0.016525  0.911713  32.285675   \n",
       "4159380  0.9026 -0.1006  0.1538  0.012131  0.021561  0.522614  32.123596   \n",
       "2376902  0.8954 -0.1110 -0.3074  0.193130 -0.016800  1.546478  30.551605   \n",
       "3492496  0.9130 -0.1426 -0.0564 -0.018814 -0.005447  0.688171  32.126526   \n",
       "\n",
       "           c_resp  \n",
       "3600281  3.160095  \n",
       "3779150  3.675842  \n",
       "3810312 -0.477600  \n",
       "2724187 -3.837585  \n",
       "3763914 -0.601196  \n",
       "...           ...  \n",
       "2184180 -2.050781  \n",
       "2771047  3.045654  \n",
       "4159380 -0.434875  \n",
       "2376902  0.193787  \n",
       "3492496  1.081848  \n",
       "\n",
       "[420092 rows x 8 columns]"
      ]
     },
     "execution_count": 31,
     "metadata": {},
     "output_type": "execute_result"
    }
   ],
   "source": [
    "(x_test)\n"
   ]
  },
  {
   "cell_type": "code",
   "execution_count": 32,
   "metadata": {
    "id": "p4cwv4KwdAt7",
    "outputId": "d15728bc-afb5-4248-8c2f-cfa85060f11a"
   },
   "outputs": [
    {
     "data": {
      "text/plain": [
       "3600281    0.0\n",
       "3779150    0.0\n",
       "3810312    0.0\n",
       "2724187    0.0\n",
       "3763914    0.0\n",
       "          ... \n",
       "2184180    0.0\n",
       "2771047    0.0\n",
       "4159380    0.0\n",
       "2376902    0.0\n",
       "3492496    3.0\n",
       "Name: w_label, Length: 420092, dtype: float64"
      ]
     },
     "execution_count": 32,
     "metadata": {},
     "output_type": "execute_result"
    }
   ],
   "source": [
    "(y_test)\n"
   ]
  },
  {
   "cell_type": "code",
   "execution_count": 33,
   "metadata": {},
   "outputs": [
    {
     "name": "stderr",
     "output_type": "stream",
     "text": [
      "C:\\Users\\pc\\.conda\\envs\\wesad\\lib\\site-packages\\tensorflow\\python\\framework\\dtypes.py:585: FutureWarning: In the future `np.object` will be defined as the corresponding NumPy scalar.\n",
      "  np.object,\n"
     ]
    },
    {
     "ename": "AttributeError",
     "evalue": "module 'numpy' has no attribute 'object'.\n`np.object` was a deprecated alias for the builtin `object`. To avoid this error in existing code, use `object` by itself. Doing this will not modify any behavior and is safe. \nThe aliases was originally deprecated in NumPy 1.20; for more details and guidance see the original release note at:\n    https://numpy.org/devdocs/release/1.20.0-notes.html#deprecations",
     "output_type": "error",
     "traceback": [
      "\u001b[1;31m---------------------------------------------------------------------------\u001b[0m",
      "\u001b[1;31mAttributeError\u001b[0m                            Traceback (most recent call last)",
      "Cell \u001b[1;32mIn[33], line 1\u001b[0m\n\u001b[1;32m----> 1\u001b[0m \u001b[38;5;28;01mimport\u001b[39;00m \u001b[38;5;21;01mtensorflow\u001b[39;00m \u001b[38;5;28;01mas\u001b[39;00m \u001b[38;5;21;01mtf\u001b[39;00m\n",
      "File \u001b[1;32m~\\.conda\\envs\\wesad\\lib\\site-packages\\tensorflow\\__init__.py:41\u001b[0m\n\u001b[0;32m     38\u001b[0m \u001b[38;5;28;01mimport\u001b[39;00m \u001b[38;5;21;01msix\u001b[39;00m \u001b[38;5;28;01mas\u001b[39;00m \u001b[38;5;21;01m_six\u001b[39;00m\n\u001b[0;32m     39\u001b[0m \u001b[38;5;28;01mimport\u001b[39;00m \u001b[38;5;21;01msys\u001b[39;00m \u001b[38;5;28;01mas\u001b[39;00m \u001b[38;5;21;01m_sys\u001b[39;00m\n\u001b[1;32m---> 41\u001b[0m \u001b[38;5;28;01mfrom\u001b[39;00m \u001b[38;5;21;01mtensorflow\u001b[39;00m\u001b[38;5;21;01m.\u001b[39;00m\u001b[38;5;21;01mpython\u001b[39;00m\u001b[38;5;21;01m.\u001b[39;00m\u001b[38;5;21;01mtools\u001b[39;00m \u001b[38;5;28;01mimport\u001b[39;00m module_util \u001b[38;5;28;01mas\u001b[39;00m _module_util\n\u001b[0;32m     42\u001b[0m \u001b[38;5;28;01mfrom\u001b[39;00m \u001b[38;5;21;01mtensorflow\u001b[39;00m\u001b[38;5;21;01m.\u001b[39;00m\u001b[38;5;21;01mpython\u001b[39;00m\u001b[38;5;21;01m.\u001b[39;00m\u001b[38;5;21;01mutil\u001b[39;00m\u001b[38;5;21;01m.\u001b[39;00m\u001b[38;5;21;01mlazy_loader\u001b[39;00m \u001b[38;5;28;01mimport\u001b[39;00m LazyLoader \u001b[38;5;28;01mas\u001b[39;00m _LazyLoader\n\u001b[0;32m     44\u001b[0m \u001b[38;5;66;03m# Make sure code inside the TensorFlow codebase can use tf2.enabled() at import.\u001b[39;00m\n",
      "File \u001b[1;32m~\\.conda\\envs\\wesad\\lib\\site-packages\\tensorflow\\python\\__init__.py:46\u001b[0m\n\u001b[0;32m     41\u001b[0m \u001b[38;5;28;01mfrom\u001b[39;00m \u001b[38;5;21;01mtensorflow\u001b[39;00m\u001b[38;5;21;01m.\u001b[39;00m\u001b[38;5;21;01mpython\u001b[39;00m \u001b[38;5;28;01mimport\u001b[39;00m pywrap_tensorflow \u001b[38;5;28;01mas\u001b[39;00m _pywrap_tensorflow\n\u001b[0;32m     43\u001b[0m \u001b[38;5;66;03m# pylint: enable=wildcard-import\u001b[39;00m\n\u001b[0;32m     44\u001b[0m \n\u001b[0;32m     45\u001b[0m \u001b[38;5;66;03m# Bring in subpackages.\u001b[39;00m\n\u001b[1;32m---> 46\u001b[0m \u001b[38;5;28;01mfrom\u001b[39;00m \u001b[38;5;21;01mtensorflow\u001b[39;00m\u001b[38;5;21;01m.\u001b[39;00m\u001b[38;5;21;01mpython\u001b[39;00m \u001b[38;5;28;01mimport\u001b[39;00m data\n\u001b[0;32m     47\u001b[0m \u001b[38;5;28;01mfrom\u001b[39;00m \u001b[38;5;21;01mtensorflow\u001b[39;00m\u001b[38;5;21;01m.\u001b[39;00m\u001b[38;5;21;01mpython\u001b[39;00m \u001b[38;5;28;01mimport\u001b[39;00m distribute\n\u001b[0;32m     48\u001b[0m \u001b[38;5;66;03m# from tensorflow.python import keras\u001b[39;00m\n",
      "File \u001b[1;32m~\\.conda\\envs\\wesad\\lib\\site-packages\\tensorflow\\python\\data\\__init__.py:25\u001b[0m\n\u001b[0;32m     22\u001b[0m \u001b[38;5;28;01mfrom\u001b[39;00m \u001b[38;5;21;01m__future__\u001b[39;00m \u001b[38;5;28;01mimport\u001b[39;00m print_function\n\u001b[0;32m     24\u001b[0m \u001b[38;5;66;03m# pylint: disable=unused-import\u001b[39;00m\n\u001b[1;32m---> 25\u001b[0m \u001b[38;5;28;01mfrom\u001b[39;00m \u001b[38;5;21;01mtensorflow\u001b[39;00m\u001b[38;5;21;01m.\u001b[39;00m\u001b[38;5;21;01mpython\u001b[39;00m\u001b[38;5;21;01m.\u001b[39;00m\u001b[38;5;21;01mdata\u001b[39;00m \u001b[38;5;28;01mimport\u001b[39;00m experimental\n\u001b[0;32m     26\u001b[0m \u001b[38;5;28;01mfrom\u001b[39;00m \u001b[38;5;21;01mtensorflow\u001b[39;00m\u001b[38;5;21;01m.\u001b[39;00m\u001b[38;5;21;01mpython\u001b[39;00m\u001b[38;5;21;01m.\u001b[39;00m\u001b[38;5;21;01mdata\u001b[39;00m\u001b[38;5;21;01m.\u001b[39;00m\u001b[38;5;21;01mops\u001b[39;00m\u001b[38;5;21;01m.\u001b[39;00m\u001b[38;5;21;01mdataset_ops\u001b[39;00m \u001b[38;5;28;01mimport\u001b[39;00m AUTOTUNE\n\u001b[0;32m     27\u001b[0m \u001b[38;5;28;01mfrom\u001b[39;00m \u001b[38;5;21;01mtensorflow\u001b[39;00m\u001b[38;5;21;01m.\u001b[39;00m\u001b[38;5;21;01mpython\u001b[39;00m\u001b[38;5;21;01m.\u001b[39;00m\u001b[38;5;21;01mdata\u001b[39;00m\u001b[38;5;21;01m.\u001b[39;00m\u001b[38;5;21;01mops\u001b[39;00m\u001b[38;5;21;01m.\u001b[39;00m\u001b[38;5;21;01mdataset_ops\u001b[39;00m \u001b[38;5;28;01mimport\u001b[39;00m Dataset\n",
      "File \u001b[1;32m~\\.conda\\envs\\wesad\\lib\\site-packages\\tensorflow\\python\\data\\experimental\\__init__.py:97\u001b[0m\n\u001b[0;32m     94\u001b[0m \u001b[38;5;28;01mfrom\u001b[39;00m \u001b[38;5;21;01m__future__\u001b[39;00m \u001b[38;5;28;01mimport\u001b[39;00m print_function\n\u001b[0;32m     96\u001b[0m \u001b[38;5;66;03m# pylint: disable=unused-import\u001b[39;00m\n\u001b[1;32m---> 97\u001b[0m \u001b[38;5;28;01mfrom\u001b[39;00m \u001b[38;5;21;01mtensorflow\u001b[39;00m\u001b[38;5;21;01m.\u001b[39;00m\u001b[38;5;21;01mpython\u001b[39;00m\u001b[38;5;21;01m.\u001b[39;00m\u001b[38;5;21;01mdata\u001b[39;00m\u001b[38;5;21;01m.\u001b[39;00m\u001b[38;5;21;01mexperimental\u001b[39;00m \u001b[38;5;28;01mimport\u001b[39;00m service\n\u001b[0;32m     98\u001b[0m \u001b[38;5;28;01mfrom\u001b[39;00m \u001b[38;5;21;01mtensorflow\u001b[39;00m\u001b[38;5;21;01m.\u001b[39;00m\u001b[38;5;21;01mpython\u001b[39;00m\u001b[38;5;21;01m.\u001b[39;00m\u001b[38;5;21;01mdata\u001b[39;00m\u001b[38;5;21;01m.\u001b[39;00m\u001b[38;5;21;01mexperimental\u001b[39;00m\u001b[38;5;21;01m.\u001b[39;00m\u001b[38;5;21;01mops\u001b[39;00m\u001b[38;5;21;01m.\u001b[39;00m\u001b[38;5;21;01mbatching\u001b[39;00m \u001b[38;5;28;01mimport\u001b[39;00m dense_to_ragged_batch\n\u001b[0;32m     99\u001b[0m \u001b[38;5;28;01mfrom\u001b[39;00m \u001b[38;5;21;01mtensorflow\u001b[39;00m\u001b[38;5;21;01m.\u001b[39;00m\u001b[38;5;21;01mpython\u001b[39;00m\u001b[38;5;21;01m.\u001b[39;00m\u001b[38;5;21;01mdata\u001b[39;00m\u001b[38;5;21;01m.\u001b[39;00m\u001b[38;5;21;01mexperimental\u001b[39;00m\u001b[38;5;21;01m.\u001b[39;00m\u001b[38;5;21;01mops\u001b[39;00m\u001b[38;5;21;01m.\u001b[39;00m\u001b[38;5;21;01mbatching\u001b[39;00m \u001b[38;5;28;01mimport\u001b[39;00m dense_to_sparse_batch\n",
      "File \u001b[1;32m~\\.conda\\envs\\wesad\\lib\\site-packages\\tensorflow\\python\\data\\experimental\\service\\__init__.py:353\u001b[0m\n\u001b[0;32m    350\u001b[0m \u001b[38;5;28;01mfrom\u001b[39;00m \u001b[38;5;21;01m__future__\u001b[39;00m \u001b[38;5;28;01mimport\u001b[39;00m division\n\u001b[0;32m    351\u001b[0m \u001b[38;5;28;01mfrom\u001b[39;00m \u001b[38;5;21;01m__future__\u001b[39;00m \u001b[38;5;28;01mimport\u001b[39;00m print_function\n\u001b[1;32m--> 353\u001b[0m \u001b[38;5;28;01mfrom\u001b[39;00m \u001b[38;5;21;01mtensorflow\u001b[39;00m\u001b[38;5;21;01m.\u001b[39;00m\u001b[38;5;21;01mpython\u001b[39;00m\u001b[38;5;21;01m.\u001b[39;00m\u001b[38;5;21;01mdata\u001b[39;00m\u001b[38;5;21;01m.\u001b[39;00m\u001b[38;5;21;01mexperimental\u001b[39;00m\u001b[38;5;21;01m.\u001b[39;00m\u001b[38;5;21;01mops\u001b[39;00m\u001b[38;5;21;01m.\u001b[39;00m\u001b[38;5;21;01mdata_service_ops\u001b[39;00m \u001b[38;5;28;01mimport\u001b[39;00m distribute\n\u001b[0;32m    354\u001b[0m \u001b[38;5;28;01mfrom\u001b[39;00m \u001b[38;5;21;01mtensorflow\u001b[39;00m\u001b[38;5;21;01m.\u001b[39;00m\u001b[38;5;21;01mpython\u001b[39;00m\u001b[38;5;21;01m.\u001b[39;00m\u001b[38;5;21;01mdata\u001b[39;00m\u001b[38;5;21;01m.\u001b[39;00m\u001b[38;5;21;01mexperimental\u001b[39;00m\u001b[38;5;21;01m.\u001b[39;00m\u001b[38;5;21;01mops\u001b[39;00m\u001b[38;5;21;01m.\u001b[39;00m\u001b[38;5;21;01mdata_service_ops\u001b[39;00m \u001b[38;5;28;01mimport\u001b[39;00m from_dataset_id\n\u001b[0;32m    355\u001b[0m \u001b[38;5;28;01mfrom\u001b[39;00m \u001b[38;5;21;01mtensorflow\u001b[39;00m\u001b[38;5;21;01m.\u001b[39;00m\u001b[38;5;21;01mpython\u001b[39;00m\u001b[38;5;21;01m.\u001b[39;00m\u001b[38;5;21;01mdata\u001b[39;00m\u001b[38;5;21;01m.\u001b[39;00m\u001b[38;5;21;01mexperimental\u001b[39;00m\u001b[38;5;21;01m.\u001b[39;00m\u001b[38;5;21;01mops\u001b[39;00m\u001b[38;5;21;01m.\u001b[39;00m\u001b[38;5;21;01mdata_service_ops\u001b[39;00m \u001b[38;5;28;01mimport\u001b[39;00m register_dataset\n",
      "File \u001b[1;32m~\\.conda\\envs\\wesad\\lib\\site-packages\\tensorflow\\python\\data\\experimental\\ops\\data_service_ops.py:26\u001b[0m\n\u001b[0;32m     24\u001b[0m \u001b[38;5;28;01mfrom\u001b[39;00m \u001b[38;5;21;01mtensorflow\u001b[39;00m\u001b[38;5;21;01m.\u001b[39;00m\u001b[38;5;21;01mpython\u001b[39;00m \u001b[38;5;28;01mimport\u001b[39;00m tf2\n\u001b[0;32m     25\u001b[0m \u001b[38;5;28;01mfrom\u001b[39;00m \u001b[38;5;21;01mtensorflow\u001b[39;00m\u001b[38;5;21;01m.\u001b[39;00m\u001b[38;5;21;01mpython\u001b[39;00m\u001b[38;5;21;01m.\u001b[39;00m\u001b[38;5;21;01mcompat\u001b[39;00m \u001b[38;5;28;01mimport\u001b[39;00m compat\n\u001b[1;32m---> 26\u001b[0m \u001b[38;5;28;01mfrom\u001b[39;00m \u001b[38;5;21;01mtensorflow\u001b[39;00m\u001b[38;5;21;01m.\u001b[39;00m\u001b[38;5;21;01mpython\u001b[39;00m\u001b[38;5;21;01m.\u001b[39;00m\u001b[38;5;21;01mdata\u001b[39;00m\u001b[38;5;21;01m.\u001b[39;00m\u001b[38;5;21;01mexperimental\u001b[39;00m\u001b[38;5;21;01m.\u001b[39;00m\u001b[38;5;21;01mops\u001b[39;00m \u001b[38;5;28;01mimport\u001b[39;00m compression_ops\n\u001b[0;32m     27\u001b[0m \u001b[38;5;28;01mfrom\u001b[39;00m \u001b[38;5;21;01mtensorflow\u001b[39;00m\u001b[38;5;21;01m.\u001b[39;00m\u001b[38;5;21;01mpython\u001b[39;00m\u001b[38;5;21;01m.\u001b[39;00m\u001b[38;5;21;01mdata\u001b[39;00m\u001b[38;5;21;01m.\u001b[39;00m\u001b[38;5;21;01mexperimental\u001b[39;00m\u001b[38;5;21;01m.\u001b[39;00m\u001b[38;5;21;01mops\u001b[39;00m\u001b[38;5;21;01m.\u001b[39;00m\u001b[38;5;21;01mdistribute_options\u001b[39;00m \u001b[38;5;28;01mimport\u001b[39;00m AutoShardPolicy\n\u001b[0;32m     28\u001b[0m \u001b[38;5;28;01mfrom\u001b[39;00m \u001b[38;5;21;01mtensorflow\u001b[39;00m\u001b[38;5;21;01m.\u001b[39;00m\u001b[38;5;21;01mpython\u001b[39;00m\u001b[38;5;21;01m.\u001b[39;00m\u001b[38;5;21;01mdata\u001b[39;00m\u001b[38;5;21;01m.\u001b[39;00m\u001b[38;5;21;01mexperimental\u001b[39;00m\u001b[38;5;21;01m.\u001b[39;00m\u001b[38;5;21;01mops\u001b[39;00m\u001b[38;5;21;01m.\u001b[39;00m\u001b[38;5;21;01mdistribute_options\u001b[39;00m \u001b[38;5;28;01mimport\u001b[39;00m ExternalStatePolicy\n",
      "File \u001b[1;32m~\\.conda\\envs\\wesad\\lib\\site-packages\\tensorflow\\python\\data\\experimental\\ops\\compression_ops.py:20\u001b[0m\n\u001b[0;32m     17\u001b[0m \u001b[38;5;28;01mfrom\u001b[39;00m \u001b[38;5;21;01m__future__\u001b[39;00m \u001b[38;5;28;01mimport\u001b[39;00m division\n\u001b[0;32m     18\u001b[0m \u001b[38;5;28;01mfrom\u001b[39;00m \u001b[38;5;21;01m__future__\u001b[39;00m \u001b[38;5;28;01mimport\u001b[39;00m print_function\n\u001b[1;32m---> 20\u001b[0m \u001b[38;5;28;01mfrom\u001b[39;00m \u001b[38;5;21;01mtensorflow\u001b[39;00m\u001b[38;5;21;01m.\u001b[39;00m\u001b[38;5;21;01mpython\u001b[39;00m\u001b[38;5;21;01m.\u001b[39;00m\u001b[38;5;21;01mdata\u001b[39;00m\u001b[38;5;21;01m.\u001b[39;00m\u001b[38;5;21;01mutil\u001b[39;00m \u001b[38;5;28;01mimport\u001b[39;00m structure\n\u001b[0;32m     21\u001b[0m \u001b[38;5;28;01mfrom\u001b[39;00m \u001b[38;5;21;01mtensorflow\u001b[39;00m\u001b[38;5;21;01m.\u001b[39;00m\u001b[38;5;21;01mpython\u001b[39;00m\u001b[38;5;21;01m.\u001b[39;00m\u001b[38;5;21;01mops\u001b[39;00m \u001b[38;5;28;01mimport\u001b[39;00m gen_experimental_dataset_ops \u001b[38;5;28;01mas\u001b[39;00m ged_ops\n\u001b[0;32m     24\u001b[0m \u001b[38;5;28;01mdef\u001b[39;00m \u001b[38;5;21mcompress\u001b[39m(element):\n",
      "File \u001b[1;32m~\\.conda\\envs\\wesad\\lib\\site-packages\\tensorflow\\python\\data\\util\\structure.py:26\u001b[0m\n\u001b[0;32m     23\u001b[0m \u001b[38;5;28;01mimport\u001b[39;00m \u001b[38;5;21;01msix\u001b[39;00m\n\u001b[0;32m     24\u001b[0m \u001b[38;5;28;01mimport\u001b[39;00m \u001b[38;5;21;01mwrapt\u001b[39;00m\n\u001b[1;32m---> 26\u001b[0m \u001b[38;5;28;01mfrom\u001b[39;00m \u001b[38;5;21;01mtensorflow\u001b[39;00m\u001b[38;5;21;01m.\u001b[39;00m\u001b[38;5;21;01mpython\u001b[39;00m\u001b[38;5;21;01m.\u001b[39;00m\u001b[38;5;21;01mdata\u001b[39;00m\u001b[38;5;21;01m.\u001b[39;00m\u001b[38;5;21;01mutil\u001b[39;00m \u001b[38;5;28;01mimport\u001b[39;00m nest\n\u001b[0;32m     27\u001b[0m \u001b[38;5;28;01mfrom\u001b[39;00m \u001b[38;5;21;01mtensorflow\u001b[39;00m\u001b[38;5;21;01m.\u001b[39;00m\u001b[38;5;21;01mpython\u001b[39;00m\u001b[38;5;21;01m.\u001b[39;00m\u001b[38;5;21;01mframework\u001b[39;00m \u001b[38;5;28;01mimport\u001b[39;00m composite_tensor\n\u001b[0;32m     28\u001b[0m \u001b[38;5;28;01mfrom\u001b[39;00m \u001b[38;5;21;01mtensorflow\u001b[39;00m\u001b[38;5;21;01m.\u001b[39;00m\u001b[38;5;21;01mpython\u001b[39;00m\u001b[38;5;21;01m.\u001b[39;00m\u001b[38;5;21;01mframework\u001b[39;00m \u001b[38;5;28;01mimport\u001b[39;00m ops\n",
      "File \u001b[1;32m~\\.conda\\envs\\wesad\\lib\\site-packages\\tensorflow\\python\\data\\util\\nest.py:40\u001b[0m\n\u001b[0;32m     36\u001b[0m \u001b[38;5;28;01mfrom\u001b[39;00m \u001b[38;5;21;01m__future__\u001b[39;00m \u001b[38;5;28;01mimport\u001b[39;00m print_function\n\u001b[0;32m     38\u001b[0m \u001b[38;5;28;01mimport\u001b[39;00m \u001b[38;5;21;01msix\u001b[39;00m \u001b[38;5;28;01mas\u001b[39;00m \u001b[38;5;21;01m_six\u001b[39;00m\n\u001b[1;32m---> 40\u001b[0m \u001b[38;5;28;01mfrom\u001b[39;00m \u001b[38;5;21;01mtensorflow\u001b[39;00m\u001b[38;5;21;01m.\u001b[39;00m\u001b[38;5;21;01mpython\u001b[39;00m\u001b[38;5;21;01m.\u001b[39;00m\u001b[38;5;21;01mframework\u001b[39;00m \u001b[38;5;28;01mimport\u001b[39;00m sparse_tensor \u001b[38;5;28;01mas\u001b[39;00m _sparse_tensor\n\u001b[0;32m     41\u001b[0m \u001b[38;5;28;01mfrom\u001b[39;00m \u001b[38;5;21;01mtensorflow\u001b[39;00m\u001b[38;5;21;01m.\u001b[39;00m\u001b[38;5;21;01mpython\u001b[39;00m\u001b[38;5;21;01m.\u001b[39;00m\u001b[38;5;21;01mutil\u001b[39;00m \u001b[38;5;28;01mimport\u001b[39;00m _pywrap_utils\n\u001b[0;32m     42\u001b[0m \u001b[38;5;28;01mfrom\u001b[39;00m \u001b[38;5;21;01mtensorflow\u001b[39;00m\u001b[38;5;21;01m.\u001b[39;00m\u001b[38;5;21;01mpython\u001b[39;00m\u001b[38;5;21;01m.\u001b[39;00m\u001b[38;5;21;01mutil\u001b[39;00m \u001b[38;5;28;01mimport\u001b[39;00m nest\n",
      "File \u001b[1;32m~\\.conda\\envs\\wesad\\lib\\site-packages\\tensorflow\\python\\framework\\sparse_tensor.py:28\u001b[0m\n\u001b[0;32m     26\u001b[0m \u001b[38;5;28;01mfrom\u001b[39;00m \u001b[38;5;21;01mtensorflow\u001b[39;00m\u001b[38;5;21;01m.\u001b[39;00m\u001b[38;5;21;01mpython\u001b[39;00m \u001b[38;5;28;01mimport\u001b[39;00m tf2\n\u001b[0;32m     27\u001b[0m \u001b[38;5;28;01mfrom\u001b[39;00m \u001b[38;5;21;01mtensorflow\u001b[39;00m\u001b[38;5;21;01m.\u001b[39;00m\u001b[38;5;21;01mpython\u001b[39;00m\u001b[38;5;21;01m.\u001b[39;00m\u001b[38;5;21;01mframework\u001b[39;00m \u001b[38;5;28;01mimport\u001b[39;00m composite_tensor\n\u001b[1;32m---> 28\u001b[0m \u001b[38;5;28;01mfrom\u001b[39;00m \u001b[38;5;21;01mtensorflow\u001b[39;00m\u001b[38;5;21;01m.\u001b[39;00m\u001b[38;5;21;01mpython\u001b[39;00m\u001b[38;5;21;01m.\u001b[39;00m\u001b[38;5;21;01mframework\u001b[39;00m \u001b[38;5;28;01mimport\u001b[39;00m constant_op\n\u001b[0;32m     29\u001b[0m \u001b[38;5;28;01mfrom\u001b[39;00m \u001b[38;5;21;01mtensorflow\u001b[39;00m\u001b[38;5;21;01m.\u001b[39;00m\u001b[38;5;21;01mpython\u001b[39;00m\u001b[38;5;21;01m.\u001b[39;00m\u001b[38;5;21;01mframework\u001b[39;00m \u001b[38;5;28;01mimport\u001b[39;00m dtypes\n\u001b[0;32m     30\u001b[0m \u001b[38;5;28;01mfrom\u001b[39;00m \u001b[38;5;21;01mtensorflow\u001b[39;00m\u001b[38;5;21;01m.\u001b[39;00m\u001b[38;5;21;01mpython\u001b[39;00m\u001b[38;5;21;01m.\u001b[39;00m\u001b[38;5;21;01mframework\u001b[39;00m \u001b[38;5;28;01mimport\u001b[39;00m ops\n",
      "File \u001b[1;32m~\\.conda\\envs\\wesad\\lib\\site-packages\\tensorflow\\python\\framework\\constant_op.py:29\u001b[0m\n\u001b[0;32m     27\u001b[0m \u001b[38;5;28;01mfrom\u001b[39;00m \u001b[38;5;21;01mtensorflow\u001b[39;00m\u001b[38;5;21;01m.\u001b[39;00m\u001b[38;5;21;01mcore\u001b[39;00m\u001b[38;5;21;01m.\u001b[39;00m\u001b[38;5;21;01mframework\u001b[39;00m \u001b[38;5;28;01mimport\u001b[39;00m types_pb2\n\u001b[0;32m     28\u001b[0m \u001b[38;5;28;01mfrom\u001b[39;00m \u001b[38;5;21;01mtensorflow\u001b[39;00m\u001b[38;5;21;01m.\u001b[39;00m\u001b[38;5;21;01mpython\u001b[39;00m\u001b[38;5;21;01m.\u001b[39;00m\u001b[38;5;21;01meager\u001b[39;00m \u001b[38;5;28;01mimport\u001b[39;00m context\n\u001b[1;32m---> 29\u001b[0m \u001b[38;5;28;01mfrom\u001b[39;00m \u001b[38;5;21;01mtensorflow\u001b[39;00m\u001b[38;5;21;01m.\u001b[39;00m\u001b[38;5;21;01mpython\u001b[39;00m\u001b[38;5;21;01m.\u001b[39;00m\u001b[38;5;21;01meager\u001b[39;00m \u001b[38;5;28;01mimport\u001b[39;00m execute\n\u001b[0;32m     30\u001b[0m \u001b[38;5;28;01mfrom\u001b[39;00m \u001b[38;5;21;01mtensorflow\u001b[39;00m\u001b[38;5;21;01m.\u001b[39;00m\u001b[38;5;21;01mpython\u001b[39;00m\u001b[38;5;21;01m.\u001b[39;00m\u001b[38;5;21;01mframework\u001b[39;00m \u001b[38;5;28;01mimport\u001b[39;00m dtypes\n\u001b[0;32m     31\u001b[0m \u001b[38;5;28;01mfrom\u001b[39;00m \u001b[38;5;21;01mtensorflow\u001b[39;00m\u001b[38;5;21;01m.\u001b[39;00m\u001b[38;5;21;01mpython\u001b[39;00m\u001b[38;5;21;01m.\u001b[39;00m\u001b[38;5;21;01mframework\u001b[39;00m \u001b[38;5;28;01mimport\u001b[39;00m op_callbacks\n",
      "File \u001b[1;32m~\\.conda\\envs\\wesad\\lib\\site-packages\\tensorflow\\python\\eager\\execute.py:27\u001b[0m\n\u001b[0;32m     25\u001b[0m \u001b[38;5;28;01mfrom\u001b[39;00m \u001b[38;5;21;01mtensorflow\u001b[39;00m\u001b[38;5;21;01m.\u001b[39;00m\u001b[38;5;21;01mpython\u001b[39;00m \u001b[38;5;28;01mimport\u001b[39;00m pywrap_tfe\n\u001b[0;32m     26\u001b[0m \u001b[38;5;28;01mfrom\u001b[39;00m \u001b[38;5;21;01mtensorflow\u001b[39;00m\u001b[38;5;21;01m.\u001b[39;00m\u001b[38;5;21;01mpython\u001b[39;00m\u001b[38;5;21;01m.\u001b[39;00m\u001b[38;5;21;01meager\u001b[39;00m \u001b[38;5;28;01mimport\u001b[39;00m core\n\u001b[1;32m---> 27\u001b[0m \u001b[38;5;28;01mfrom\u001b[39;00m \u001b[38;5;21;01mtensorflow\u001b[39;00m\u001b[38;5;21;01m.\u001b[39;00m\u001b[38;5;21;01mpython\u001b[39;00m\u001b[38;5;21;01m.\u001b[39;00m\u001b[38;5;21;01mframework\u001b[39;00m \u001b[38;5;28;01mimport\u001b[39;00m dtypes\n\u001b[0;32m     28\u001b[0m \u001b[38;5;28;01mfrom\u001b[39;00m \u001b[38;5;21;01mtensorflow\u001b[39;00m\u001b[38;5;21;01m.\u001b[39;00m\u001b[38;5;21;01mpython\u001b[39;00m\u001b[38;5;21;01m.\u001b[39;00m\u001b[38;5;21;01mframework\u001b[39;00m \u001b[38;5;28;01mimport\u001b[39;00m ops\n\u001b[0;32m     29\u001b[0m \u001b[38;5;28;01mfrom\u001b[39;00m \u001b[38;5;21;01mtensorflow\u001b[39;00m\u001b[38;5;21;01m.\u001b[39;00m\u001b[38;5;21;01mpython\u001b[39;00m\u001b[38;5;21;01m.\u001b[39;00m\u001b[38;5;21;01mframework\u001b[39;00m \u001b[38;5;28;01mimport\u001b[39;00m tensor_shape\n",
      "File \u001b[1;32m~\\.conda\\envs\\wesad\\lib\\site-packages\\tensorflow\\python\\framework\\dtypes.py:585\u001b[0m\n\u001b[0;32m    556\u001b[0m     _NP_TO_TF[pdt] \u001b[38;5;241m=\u001b[39m \u001b[38;5;28mnext\u001b[39m(\n\u001b[0;32m    557\u001b[0m         _NP_TO_TF[dt] \u001b[38;5;28;01mfor\u001b[39;00m dt \u001b[38;5;129;01min\u001b[39;00m _NP_TO_TF \u001b[38;5;28;01mif\u001b[39;00m dt \u001b[38;5;241m==\u001b[39m pdt()\u001b[38;5;241m.\u001b[39mdtype)  \u001b[38;5;66;03m# pylint: disable=no-value-for-parameter\u001b[39;00m\n\u001b[0;32m    559\u001b[0m TF_VALUE_DTYPES \u001b[38;5;241m=\u001b[39m \u001b[38;5;28mset\u001b[39m(_NP_TO_TF\u001b[38;5;241m.\u001b[39mvalues())\n\u001b[0;32m    561\u001b[0m _TF_TO_NP \u001b[38;5;241m=\u001b[39m {\n\u001b[0;32m    562\u001b[0m     types_pb2\u001b[38;5;241m.\u001b[39mDT_HALF:\n\u001b[0;32m    563\u001b[0m         np\u001b[38;5;241m.\u001b[39mfloat16,\n\u001b[0;32m    564\u001b[0m     types_pb2\u001b[38;5;241m.\u001b[39mDT_FLOAT:\n\u001b[0;32m    565\u001b[0m         np\u001b[38;5;241m.\u001b[39mfloat32,\n\u001b[0;32m    566\u001b[0m     types_pb2\u001b[38;5;241m.\u001b[39mDT_DOUBLE:\n\u001b[0;32m    567\u001b[0m         np\u001b[38;5;241m.\u001b[39mfloat64,\n\u001b[0;32m    568\u001b[0m     types_pb2\u001b[38;5;241m.\u001b[39mDT_INT32:\n\u001b[0;32m    569\u001b[0m         np\u001b[38;5;241m.\u001b[39mint32,\n\u001b[0;32m    570\u001b[0m     types_pb2\u001b[38;5;241m.\u001b[39mDT_UINT8:\n\u001b[0;32m    571\u001b[0m         np\u001b[38;5;241m.\u001b[39muint8,\n\u001b[0;32m    572\u001b[0m     types_pb2\u001b[38;5;241m.\u001b[39mDT_UINT16:\n\u001b[0;32m    573\u001b[0m         np\u001b[38;5;241m.\u001b[39muint16,\n\u001b[0;32m    574\u001b[0m     types_pb2\u001b[38;5;241m.\u001b[39mDT_UINT32:\n\u001b[0;32m    575\u001b[0m         np\u001b[38;5;241m.\u001b[39muint32,\n\u001b[0;32m    576\u001b[0m     types_pb2\u001b[38;5;241m.\u001b[39mDT_UINT64:\n\u001b[0;32m    577\u001b[0m         np\u001b[38;5;241m.\u001b[39muint64,\n\u001b[0;32m    578\u001b[0m     types_pb2\u001b[38;5;241m.\u001b[39mDT_INT16:\n\u001b[0;32m    579\u001b[0m         np\u001b[38;5;241m.\u001b[39mint16,\n\u001b[0;32m    580\u001b[0m     types_pb2\u001b[38;5;241m.\u001b[39mDT_INT8:\n\u001b[0;32m    581\u001b[0m         np\u001b[38;5;241m.\u001b[39mint8,\n\u001b[0;32m    582\u001b[0m     \u001b[38;5;66;03m# NOTE(touts): For strings we use np.object as it supports variable length\u001b[39;00m\n\u001b[0;32m    583\u001b[0m     \u001b[38;5;66;03m# strings.\u001b[39;00m\n\u001b[0;32m    584\u001b[0m     types_pb2\u001b[38;5;241m.\u001b[39mDT_STRING:\n\u001b[1;32m--> 585\u001b[0m         \u001b[43mnp\u001b[49m\u001b[38;5;241;43m.\u001b[39;49m\u001b[43mobject\u001b[49m,\n\u001b[0;32m    586\u001b[0m     types_pb2\u001b[38;5;241m.\u001b[39mDT_COMPLEX64:\n\u001b[0;32m    587\u001b[0m         np\u001b[38;5;241m.\u001b[39mcomplex64,\n\u001b[0;32m    588\u001b[0m     types_pb2\u001b[38;5;241m.\u001b[39mDT_COMPLEX128:\n\u001b[0;32m    589\u001b[0m         np\u001b[38;5;241m.\u001b[39mcomplex128,\n\u001b[0;32m    590\u001b[0m     types_pb2\u001b[38;5;241m.\u001b[39mDT_INT64:\n\u001b[0;32m    591\u001b[0m         np\u001b[38;5;241m.\u001b[39mint64,\n\u001b[0;32m    592\u001b[0m     types_pb2\u001b[38;5;241m.\u001b[39mDT_BOOL:\n\u001b[0;32m    593\u001b[0m         np\u001b[38;5;241m.\u001b[39mbool_,\n\u001b[0;32m    594\u001b[0m     types_pb2\u001b[38;5;241m.\u001b[39mDT_QINT8:\n\u001b[0;32m    595\u001b[0m         _np_qint8,\n\u001b[0;32m    596\u001b[0m     types_pb2\u001b[38;5;241m.\u001b[39mDT_QUINT8:\n\u001b[0;32m    597\u001b[0m         _np_quint8,\n\u001b[0;32m    598\u001b[0m     types_pb2\u001b[38;5;241m.\u001b[39mDT_QINT16:\n\u001b[0;32m    599\u001b[0m         _np_qint16,\n\u001b[0;32m    600\u001b[0m     types_pb2\u001b[38;5;241m.\u001b[39mDT_QUINT16:\n\u001b[0;32m    601\u001b[0m         _np_quint16,\n\u001b[0;32m    602\u001b[0m     types_pb2\u001b[38;5;241m.\u001b[39mDT_QINT32:\n\u001b[0;32m    603\u001b[0m         _np_qint32,\n\u001b[0;32m    604\u001b[0m     types_pb2\u001b[38;5;241m.\u001b[39mDT_BFLOAT16:\n\u001b[0;32m    605\u001b[0m         _np_bfloat16,\n\u001b[0;32m    606\u001b[0m \n\u001b[0;32m    607\u001b[0m     \u001b[38;5;66;03m# Ref types\u001b[39;00m\n\u001b[0;32m    608\u001b[0m     types_pb2\u001b[38;5;241m.\u001b[39mDT_HALF_REF:\n\u001b[0;32m    609\u001b[0m         np\u001b[38;5;241m.\u001b[39mfloat16,\n\u001b[0;32m    610\u001b[0m     types_pb2\u001b[38;5;241m.\u001b[39mDT_FLOAT_REF:\n\u001b[0;32m    611\u001b[0m         np\u001b[38;5;241m.\u001b[39mfloat32,\n\u001b[0;32m    612\u001b[0m     types_pb2\u001b[38;5;241m.\u001b[39mDT_DOUBLE_REF:\n\u001b[0;32m    613\u001b[0m         np\u001b[38;5;241m.\u001b[39mfloat64,\n\u001b[0;32m    614\u001b[0m     types_pb2\u001b[38;5;241m.\u001b[39mDT_INT32_REF:\n\u001b[0;32m    615\u001b[0m         np\u001b[38;5;241m.\u001b[39mint32,\n\u001b[0;32m    616\u001b[0m     types_pb2\u001b[38;5;241m.\u001b[39mDT_UINT32_REF:\n\u001b[0;32m    617\u001b[0m         np\u001b[38;5;241m.\u001b[39muint32,\n\u001b[0;32m    618\u001b[0m     types_pb2\u001b[38;5;241m.\u001b[39mDT_UINT8_REF:\n\u001b[0;32m    619\u001b[0m         np\u001b[38;5;241m.\u001b[39muint8,\n\u001b[0;32m    620\u001b[0m     types_pb2\u001b[38;5;241m.\u001b[39mDT_UINT16_REF:\n\u001b[0;32m    621\u001b[0m         np\u001b[38;5;241m.\u001b[39muint16,\n\u001b[0;32m    622\u001b[0m     types_pb2\u001b[38;5;241m.\u001b[39mDT_INT16_REF:\n\u001b[0;32m    623\u001b[0m         np\u001b[38;5;241m.\u001b[39mint16,\n\u001b[0;32m    624\u001b[0m     types_pb2\u001b[38;5;241m.\u001b[39mDT_INT8_REF:\n\u001b[0;32m    625\u001b[0m         np\u001b[38;5;241m.\u001b[39mint8,\n\u001b[0;32m    626\u001b[0m     types_pb2\u001b[38;5;241m.\u001b[39mDT_STRING_REF:\n\u001b[0;32m    627\u001b[0m         np\u001b[38;5;241m.\u001b[39mobject,\n\u001b[0;32m    628\u001b[0m     types_pb2\u001b[38;5;241m.\u001b[39mDT_COMPLEX64_REF:\n\u001b[0;32m    629\u001b[0m         np\u001b[38;5;241m.\u001b[39mcomplex64,\n\u001b[0;32m    630\u001b[0m     types_pb2\u001b[38;5;241m.\u001b[39mDT_COMPLEX128_REF:\n\u001b[0;32m    631\u001b[0m         np\u001b[38;5;241m.\u001b[39mcomplex128,\n\u001b[0;32m    632\u001b[0m     types_pb2\u001b[38;5;241m.\u001b[39mDT_INT64_REF:\n\u001b[0;32m    633\u001b[0m         np\u001b[38;5;241m.\u001b[39mint64,\n\u001b[0;32m    634\u001b[0m     types_pb2\u001b[38;5;241m.\u001b[39mDT_UINT64_REF:\n\u001b[0;32m    635\u001b[0m         np\u001b[38;5;241m.\u001b[39muint64,\n\u001b[0;32m    636\u001b[0m     types_pb2\u001b[38;5;241m.\u001b[39mDT_BOOL_REF:\n\u001b[0;32m    637\u001b[0m         np\u001b[38;5;241m.\u001b[39mbool,\n\u001b[0;32m    638\u001b[0m     types_pb2\u001b[38;5;241m.\u001b[39mDT_QINT8_REF:\n\u001b[0;32m    639\u001b[0m         _np_qint8,\n\u001b[0;32m    640\u001b[0m     types_pb2\u001b[38;5;241m.\u001b[39mDT_QUINT8_REF:\n\u001b[0;32m    641\u001b[0m         _np_quint8,\n\u001b[0;32m    642\u001b[0m     types_pb2\u001b[38;5;241m.\u001b[39mDT_QINT16_REF:\n\u001b[0;32m    643\u001b[0m         _np_qint16,\n\u001b[0;32m    644\u001b[0m     types_pb2\u001b[38;5;241m.\u001b[39mDT_QUINT16_REF:\n\u001b[0;32m    645\u001b[0m         _np_quint16,\n\u001b[0;32m    646\u001b[0m     types_pb2\u001b[38;5;241m.\u001b[39mDT_QINT32_REF:\n\u001b[0;32m    647\u001b[0m         _np_qint32,\n\u001b[0;32m    648\u001b[0m     types_pb2\u001b[38;5;241m.\u001b[39mDT_BFLOAT16_REF:\n\u001b[0;32m    649\u001b[0m         _np_bfloat16,\n\u001b[0;32m    650\u001b[0m }\n\u001b[0;32m    652\u001b[0m _QUANTIZED_DTYPES_NO_REF \u001b[38;5;241m=\u001b[39m \u001b[38;5;28mfrozenset\u001b[39m([qint8, quint8, qint16, quint16, qint32])\n\u001b[0;32m    653\u001b[0m _QUANTIZED_DTYPES_REF \u001b[38;5;241m=\u001b[39m \u001b[38;5;28mfrozenset\u001b[39m(\n\u001b[0;32m    654\u001b[0m     [qint8_ref, quint8_ref, qint16_ref, quint16_ref, qint32_ref])\n",
      "File \u001b[1;32m~\\.conda\\envs\\wesad\\lib\\site-packages\\numpy\\__init__.py:352\u001b[0m, in \u001b[0;36m__getattr__\u001b[1;34m(attr)\u001b[0m\n\u001b[0;32m    347\u001b[0m     warnings\u001b[38;5;241m.\u001b[39mwarn(\n\u001b[0;32m    348\u001b[0m         \u001b[38;5;124mf\u001b[39m\u001b[38;5;124m\"\u001b[39m\u001b[38;5;124mIn the future `np.\u001b[39m\u001b[38;5;132;01m{\u001b[39;00mattr\u001b[38;5;132;01m}\u001b[39;00m\u001b[38;5;124m` will be defined as the \u001b[39m\u001b[38;5;124m\"\u001b[39m\n\u001b[0;32m    349\u001b[0m         \u001b[38;5;124m\"\u001b[39m\u001b[38;5;124mcorresponding NumPy scalar.\u001b[39m\u001b[38;5;124m\"\u001b[39m, \u001b[38;5;167;01mFutureWarning\u001b[39;00m, stacklevel\u001b[38;5;241m=\u001b[39m\u001b[38;5;241m2\u001b[39m)\n\u001b[0;32m    351\u001b[0m \u001b[38;5;28;01mif\u001b[39;00m attr \u001b[38;5;129;01min\u001b[39;00m __former_attrs__:\n\u001b[1;32m--> 352\u001b[0m     \u001b[38;5;28;01mraise\u001b[39;00m \u001b[38;5;167;01mAttributeError\u001b[39;00m(__former_attrs__[attr])\n\u001b[0;32m    354\u001b[0m \u001b[38;5;28;01mif\u001b[39;00m attr \u001b[38;5;241m==\u001b[39m \u001b[38;5;124m'\u001b[39m\u001b[38;5;124mtesting\u001b[39m\u001b[38;5;124m'\u001b[39m:\n\u001b[0;32m    355\u001b[0m     \u001b[38;5;28;01mimport\u001b[39;00m \u001b[38;5;21;01mnumpy\u001b[39;00m\u001b[38;5;21;01m.\u001b[39;00m\u001b[38;5;21;01mtesting\u001b[39;00m \u001b[38;5;28;01mas\u001b[39;00m \u001b[38;5;21;01mtesting\u001b[39;00m\n",
      "\u001b[1;31mAttributeError\u001b[0m: module 'numpy' has no attribute 'object'.\n`np.object` was a deprecated alias for the builtin `object`. To avoid this error in existing code, use `object` by itself. Doing this will not modify any behavior and is safe. \nThe aliases was originally deprecated in NumPy 1.20; for more details and guidance see the original release note at:\n    https://numpy.org/devdocs/release/1.20.0-notes.html#deprecations"
     ]
    }
   ],
   "source": [
    "import tensorflow as tf"
   ]
  },
  {
   "cell_type": "code",
   "execution_count": null,
   "metadata": {},
   "outputs": [],
   "source": [
    "pip uninstall numpy"
   ]
  },
  {
   "cell_type": "markdown",
   "metadata": {
    "id": "vU7KUn60dAt7"
   },
   "source": [
    "# Logistic Regression Base Model"
   ]
  },
  {
   "cell_type": "code",
   "execution_count": null,
   "metadata": {
    "id": "vSxi7VntdAt8",
    "outputId": "467f6aaf-0b33-4a92-aec2-1196d2fa26ee"
   },
   "outputs": [],
   "source": [
    "clf = skl_lm.LogisticRegression(solver='newton-cg',penalty='none')\n",
    "clf.fit(x_train,y_train)\n",
    "y_out = clf.predict(x_test)\n",
    "print(classification_report(y_test, y_out, digits=4))\n",
    "\n",
    "'''\n",
    "(C=1.0, class_weight=None, dual=False, fit_intercept=True, intercept_scaling=1, l1_ratio=None, max_iter=3,\n",
    "                   multi_class='warn', n_jobs=None, penalty='l2',\n",
    "                   random_state=None, solver='newton-cg', tol=0.0001, verbose=0,\n",
    "                   warm_start=False) or use slover=saga\n",
    "'''                 "
   ]
  },
  {
   "cell_type": "markdown",
   "metadata": {
    "id": "tsdIP5tudAt8"
   },
   "source": [
    "# Logistic Regression + L2 regularization"
   ]
  },
  {
   "cell_type": "code",
   "execution_count": null,
   "metadata": {
    "id": "FHFYyKlYdAuP",
    "outputId": "16786617-5bc6-44ae-905f-036ed707ed4e"
   },
   "outputs": [],
   "source": [
    "clf = skl_lm.LogisticRegression(solver='newton-cg',penalty='l2',multi_class='auto')\n",
    "clf.fit(x_train,y_train)\n",
    "y_out = clf.predict(x_test)\n",
    "print(classification_report(y_test, y_out, digits=4))\n",
    "\n"
   ]
  },
  {
   "cell_type": "code",
   "execution_count": null,
   "metadata": {
    "id": "GMv4EJiYdAuP",
    "outputId": "b3f06615-64c1-496d-d01b-87ef8895a8f8"
   },
   "outputs": [],
   "source": [
    "clf = skl_lm.LogisticRegression(solver='newton-cg',penalty='l2',multi_class='auto')\n",
    "y_out = cross_val_predict(clf, norm_x, norm_y, cv=5)\n",
    "print(classification_report(norm_y_test, y_out, digits=4))\n",
    "\n"
   ]
  },
  {
   "cell_type": "markdown",
   "metadata": {
    "id": "zjkx_IKidAuP"
   },
   "source": [
    "# LDA Basic Implementation"
   ]
  },
  {
   "cell_type": "code",
   "execution_count": null,
   "metadata": {
    "id": "rG7plcotdAuP",
    "outputId": "5c1607ef-17a0-4160-fda6-d08513539dd4"
   },
   "outputs": [],
   "source": [
    "LDA= LinearDiscriminantAnalysis(solver = 'svd')\n",
    "y_out = LDA.fit(x_train, y_train).predict(x_test)\n",
    "#confusion_matrix(y_test, y_out)\n",
    "print(classification_report(y_test, y_out, digits=4))#target_names=['Not Six', 'Six']"
   ]
  },
  {
   "cell_type": "markdown",
   "metadata": {
    "id": "h10wN6OVdAuQ"
   },
   "source": [
    "# LDA + Normalization + n_components &  5 Cross Validation"
   ]
  },
  {
   "cell_type": "code",
   "execution_count": null,
   "metadata": {
    "id": "WEgvacyTdAuQ",
    "outputId": "17a47238-e1a7-4ed0-beeb-514044f698f6"
   },
   "outputs": [],
   "source": [
    "LDA= LinearDiscriminantAnalysis(solver = 'svd')\n",
    "#norm_y_out = LDA.fit(norm_x_train, norm_y_train).predict(norm_x_test)\n",
    "norm_y_out = cross_val_predict(LDA, norm_x, norm_y, cv=5)\n",
    "print(classification_report(norm_y_test, norm_y_out, digits=4))"
   ]
  },
  {
   "cell_type": "markdown",
   "metadata": {
    "id": "kTFABwXDdAuQ"
   },
   "source": [
    "# QDA Basic Implementation"
   ]
  },
  {
   "cell_type": "code",
   "execution_count": null,
   "metadata": {
    "id": "-9GYi86HdAuQ",
    "outputId": "1b0d5608-b282-4099-a76d-7c7d424086f3"
   },
   "outputs": [],
   "source": [
    "qda_clf = QuadraticDiscriminantAnalysis()\n",
    "qda_clf.fit(x_train,y_train)\n",
    "y_out = qda_clf.fit(x_train, y_train).predict(x_test)\n",
    "print(classification_report(y_test, y_out, digits=4))#target_names=['Not Six', 'Six']\n",
    "#IF QDA is best, then data must be Gaussian"
   ]
  },
  {
   "cell_type": "code",
   "execution_count": null,
   "metadata": {
    "id": "d10X1DtsdAuQ"
   },
   "outputs": [],
   "source": []
  },
  {
   "cell_type": "code",
   "execution_count": null,
   "metadata": {
    "id": "q2KCZsBxdAuQ",
    "outputId": "cf7f46a8-0e08-4d67-e2eb-40bddbec8157"
   },
   "outputs": [],
   "source": [
    "qda_clf = QuadraticDiscriminantAnalysis()\n",
    "norm_y_out = cross_val_predict(qda_clf, norm_x, norm_y, cv=5)\n",
    "lm=(classification_report(norm_y, norm_y_out, digits=4))\n",
    "print(lm)"
   ]
  },
  {
   "cell_type": "markdown",
   "metadata": {
    "id": "1sZvU-FEdAuQ"
   },
   "source": [
    "# QDA + Normalization + Cross Validation = 10"
   ]
  },
  {
   "cell_type": "markdown",
   "metadata": {
    "id": "WVrv5IJcdAuR"
   },
   "source": [
    "# BEST MODEL *****++++****"
   ]
  },
  {
   "cell_type": "code",
   "execution_count": null,
   "metadata": {
    "id": "i0qdIFcRdAuR",
    "outputId": "33430eb6-2fe7-4226-a26a-fcd241e40f31"
   },
   "outputs": [],
   "source": [
    "qda_clf = QuadraticDiscriminantAnalysis(priors=None, reg_param=0)\n",
    "norm_y_out = cross_val_predict(qda_clf, norm_x, norm_y, cv=10)\n",
    "lm=(classification_report(norm_y, norm_y_out, digits=4))\n",
    "print(lm)\n",
    "'''\n",
    "https://scikit-learn.org/stable/modules/generated/sklearn.model_selection.cross_val_predict.html#sklearn.model_selection.cross_val_predict\n",
    "https://scikit-learn.org/stable/modules/generated/sklearn.model_selection.cross_validate.html#sklearn.model_selection.cross_validate\n",
    "'''    "
   ]
  },
  {
   "cell_type": "code",
   "execution_count": null,
   "metadata": {
    "id": "yUC8K7v1dAuR",
    "outputId": "64a45ca0-3703-4579-da4e-67bf3eebccdc"
   },
   "outputs": [],
   "source": [
    "qda_clf = QuadraticDiscriminantAnalysis(priors=None, reg_param=0.5)\n",
    "norm_y_out = cross_val_predict(qda_clf, norm_x, norm_y, cv=10)\n",
    "lm=(classification_report(norm_y, norm_y_out, digits=4))\n",
    "print(lm)"
   ]
  },
  {
   "cell_type": "code",
   "execution_count": null,
   "metadata": {
    "id": "kJ1SpUu3dAuR",
    "outputId": "1082e44f-8e6f-4a03-8ea0-58e3edef4be1"
   },
   "outputs": [],
   "source": [
    "qda_clf = QuadraticDiscriminantAnalysis(priors=None, reg_param=0.9)\n",
    "norm_y_out = cross_val_predict(qda_clf, norm_x, norm_y, cv=10)\n",
    "lm=(classification_report(norm_y, norm_y_out, digits=4))\n",
    "print(lm)"
   ]
  },
  {
   "cell_type": "code",
   "execution_count": null,
   "metadata": {
    "id": "33Hg8vmcdAuR",
    "outputId": "6df6a576-35d4-4357-97a2-fa79adc93a0d"
   },
   "outputs": [],
   "source": [
    "qda_clf = QuadraticDiscriminantAnalysis(priors=None, reg_param=0.7)\n",
    "norm_y_out = cross_val_predict(qda_clf, norm_x, norm_y, cv=10)\n",
    "lm=(classification_report(norm_y, norm_y_out, digits=4))\n",
    "print(lm)"
   ]
  },
  {
   "cell_type": "markdown",
   "metadata": {
    "id": "pEb9DxyVdAuR"
   },
   "source": [
    "# QDA + Normalization + Cross Validation = 20"
   ]
  },
  {
   "cell_type": "code",
   "execution_count": null,
   "metadata": {
    "id": "t_VnbhKGdAuR",
    "outputId": "b1b8ad0b-1255-4603-dab6-e96dca6533f2"
   },
   "outputs": [],
   "source": [
    "qda_clf = QuadraticDiscriminantAnalysis()\n",
    "norm_y_out = cross_val_predict(qda_clf, norm_x, norm_y, cv=20)\n",
    "lm=(classification_report(norm_y, norm_y_out, digits=4))\n",
    "print(lm)"
   ]
  },
  {
   "cell_type": "code",
   "execution_count": null,
   "metadata": {
    "id": "ko-UyeXWdAuS"
   },
   "outputs": [],
   "source": [
    "'''\n",
    "lm=(classification_report(y, y_out, digits=4))\n",
    "print(lm)\n",
    "scores = cross_val_score(qda_clf, x, y, cv=10, scoring='accuracy').mean()\n",
    "print(scores)\n",
    "\n",
    "#scoring='mean_squared_error'\n",
    "'''"
   ]
  },
  {
   "cell_type": "code",
   "execution_count": null,
   "metadata": {
    "id": "QvZYQiJAdAuS"
   },
   "outputs": [],
   "source": [
    "'''\n",
    "from sklearn.model_selection import LeaveOneOut\n",
    "loo = LeaveOneOut()\n",
    "\n",
    "y_out = cross_val_predict(qda_clf, x, y, cv=loo)\n",
    "lm=(classification_report(y, y_out, digits=4))\n",
    "lm=(classification_report(y, y_out, digits=4))\n",
    "print(lm)\n",
    "'''"
   ]
  },
  {
   "cell_type": "markdown",
   "metadata": {
    "id": "Qj742ZxEdAuS"
   },
   "source": [
    "# KNN + Cross Validation + K=3 + Normalization [ CV = 10, K = 3 ]"
   ]
  },
  {
   "cell_type": "code",
   "execution_count": null,
   "metadata": {
    "id": "uSwT-U2PdAuS",
    "outputId": "f72af515-1ff6-446e-f919-954ea36b4073"
   },
   "outputs": [],
   "source": [
    "#Do base mdel with test and train data, show improvement in next section with cross validation\n",
    "knn = KNeighborsClassifier(n_neighbors=3)\n",
    "norm_y_out = cross_val_predict(knn, norm_x, norm_y, cv=10)\n",
    "lm=(classification_report(norm_y, norm_y_out, digits=4))\n",
    "print(lm)\n",
    "#https://www.ritchieng.com/machine-learning-cross-validation/"
   ]
  },
  {
   "cell_type": "markdown",
   "metadata": {
    "id": "5a8lzV-8dAuS"
   },
   "source": [
    "# KNN + Cross Validation + K=5 + Normalization [ CV = 20, K = 5 ]"
   ]
  },
  {
   "cell_type": "code",
   "execution_count": null,
   "metadata": {
    "id": "WcJge0xDdAuS",
    "outputId": "9a1e7940-3a9e-43f8-dfa0-16021a44a9e3"
   },
   "outputs": [],
   "source": [
    "knn = KNeighborsClassifier(n_neighbors=5)\n",
    "norm_y_out = cross_val_predict(knn, norm_x, norm_y, cv=20)\n",
    "lm=(classification_report(norm_y, norm_y_out, digits=4))\n",
    "print(lm)"
   ]
  },
  {
   "cell_type": "markdown",
   "metadata": {
    "id": "WumGVD7vdAuS"
   },
   "source": [
    "# KNN + Cross Validation + K=10 + Normalization [ CV = 10, K = 10 ]"
   ]
  },
  {
   "cell_type": "code",
   "execution_count": null,
   "metadata": {
    "id": "0KBcE-h8dAuT",
    "outputId": "49332f75-06b2-4784-c132-a986b536d43a"
   },
   "outputs": [],
   "source": [
    "knn = KNeighborsClassifier(n_neighbors=10)\n",
    "norm_y_out = cross_val_predict(knn, norm_x, norm_y, cv=10)\n",
    "lm=(classification_report(norm_y, norm_y_out, digits=4))\n",
    "print(lm)"
   ]
  },
  {
   "cell_type": "markdown",
   "metadata": {
    "id": "-OIltATRdAuT"
   },
   "source": [
    "# KNN + Cross Validation [ CV = 10, K = 20 ]"
   ]
  },
  {
   "cell_type": "code",
   "execution_count": null,
   "metadata": {
    "id": "thHnP3-4dAuT",
    "outputId": "09891d43-6c42-4897-f366-47544ceb72b2"
   },
   "outputs": [],
   "source": [
    "knn = KNeighborsClassifier(n_neighbors=20)\n",
    "norm_y_out = cross_val_predict(knn, norm_x, norm_y, cv=10)\n",
    "lm=(classification_report(norm_y, norm_y_out, digits=4))\n",
    "print(lm)"
   ]
  },
  {
   "cell_type": "markdown",
   "metadata": {
    "id": "kLIDJoNzdAuT"
   },
   "source": [
    "# KNN + Cross Validation [ CV = 10, K = 30 ]"
   ]
  },
  {
   "cell_type": "code",
   "execution_count": null,
   "metadata": {
    "id": "lYHBhEXtdAuT",
    "outputId": "c6ff0ead-1ed2-48b7-f9a1-bf1a7e1613bd"
   },
   "outputs": [],
   "source": [
    "knn = KNeighborsClassifier(n_neighbors=30)\n",
    "norm_y_out = cross_val_predict(knn, norm_x, norm_y, cv=10)\n",
    "lm=(classification_report(norm_y, norm_y_out, digits=4))\n",
    "print(lm)"
   ]
  },
  {
   "cell_type": "markdown",
   "metadata": {
    "id": "ZP7CvVpBdAuT"
   },
   "source": [
    "# KNN + Cross Validation [ CV = 10, K = 40 ]"
   ]
  },
  {
   "cell_type": "code",
   "execution_count": null,
   "metadata": {
    "id": "fYw739uhdAuT",
    "outputId": "6dc44ea4-7f53-4fc4-95e3-380f96b044b6"
   },
   "outputs": [],
   "source": [
    "knn = KNeighborsClassifier(n_neighbors=40)\n",
    "norm_y_out = cross_val_predict(knn, norm_x, norm_y, cv=10)\n",
    "lm=(classification_report(norm_y, norm_y_out, digits=4))\n",
    "print(lm)"
   ]
  },
  {
   "cell_type": "markdown",
   "metadata": {
    "id": "xK2-H4zYdAuU"
   },
   "source": [
    "# KNN + Cross Validation [ CV = 10, K = 60 ]"
   ]
  },
  {
   "cell_type": "code",
   "execution_count": null,
   "metadata": {
    "id": "Y8XTdaQ4dAuU",
    "outputId": "17bfbd13-d8ad-435d-eeb2-94ac1209df5b"
   },
   "outputs": [],
   "source": [
    "knn = KNeighborsClassifier(n_neighbors=60)\n",
    "norm_y_out = cross_val_predict(knn, norm_x, norm_y, cv=10)\n",
    "lm=(classification_report(norm_y, norm_y_out, digits=4))\n",
    "print(lm)"
   ]
  },
  {
   "cell_type": "markdown",
   "metadata": {
    "id": "dOOLWVUJdAuU"
   },
   "source": [
    "# KNN + Cross Validation [ CV = 10, K = 100 ]"
   ]
  },
  {
   "cell_type": "code",
   "execution_count": null,
   "metadata": {
    "id": "0pU-HZIxdAuU",
    "outputId": "86654531-9a26-4fee-b093-b75713aa8b7d"
   },
   "outputs": [],
   "source": [
    "knn = KNeighborsClassifier(n_neighbors=100)\n",
    "norm_y_out = cross_val_predict(knn, norm_x, norm_y, cv=10)\n",
    "lm=(classification_report(norm_y, norm_y_out, digits=4))\n",
    "print(lm)"
   ]
  },
  {
   "cell_type": "markdown",
   "metadata": {
    "id": "e_lZIzDHdAuU"
   },
   "source": [
    "# Simple Decision Tree + Depth = 5"
   ]
  },
  {
   "cell_type": "code",
   "execution_count": null,
   "metadata": {
    "id": "0ghf7yVfdAuU",
    "outputId": "8b98e80f-f5a5-4849-8999-b112ed66a2ca"
   },
   "outputs": [],
   "source": [
    "\n",
    "clf = DecisionTreeClassifier(criterion=\"entropy\", max_depth=10)\n",
    "\n",
    "clf_i = clf.fit(x_train,y_train)\n",
    "\n",
    "y_out_i = clf_i.predict(x_test)\n",
    "\n",
    "lm_i=(classification_report(y_test, y_out_i, digits=4))\n",
    "print(lm_i)\n",
    "\n",
    " "
   ]
  },
  {
   "cell_type": "markdown",
   "metadata": {
    "id": "9fakB5xLdAuU"
   },
   "source": [
    "# Displaying and Drwaing the Tree"
   ]
  },
  {
   "cell_type": "code",
   "execution_count": null,
   "metadata": {
    "id": "BCEYtkF2dAuV"
   },
   "outputs": [],
   "source": [
    "tree.plot_tree(clf_i) "
   ]
  },
  {
   "cell_type": "code",
   "execution_count": null,
   "metadata": {
    "id": "YXIMQHlHdAuV",
    "outputId": "5873a48f-4adb-44fc-ee01-030099748a2a",
    "scrolled": true
   },
   "outputs": [],
   "source": [
    "#from sklearn import tree\n",
    "#https://scikit-learn.org/stable/modules/tree.html\n",
    "\n",
    "features_ax=[\"c_ax\", \"c_ay\", \"c_az\",\"c_ecg\",\"c_emg\",\"c_eda\",\"c_temp\",\"c_resp\"]\n",
    "classes_ay=['0', '1', '2', '3', '4']\n",
    "\n",
    "dot_data = tree.export_graphviz(clf_i, out_file=None, \n",
    "                      feature_names=features_ax,  \n",
    "                      class_names=classes_ay,  \n",
    "                      filled=True, rounded=True,  \n",
    "                      special_characters=True)  \n",
    "graph = graphviz.Source(dot_data)  \n",
    "graph.render(\"Decision_tree\")\n",
    "graph \n"
   ]
  },
  {
   "cell_type": "markdown",
   "metadata": {
    "id": "HI3k4UbkdAuV"
   },
   "source": [
    "# Simple Decision Tree + Depth = 5 + Cross Validation + Normalization"
   ]
  },
  {
   "cell_type": "code",
   "execution_count": null,
   "metadata": {
    "id": "VEPCNvT8dAuV",
    "outputId": "6e0b5f98-372d-4631-ef5f-6182ad6cb23e"
   },
   "outputs": [],
   "source": [
    "\n",
    "clf = DecisionTreeClassifier(criterion=\"entropy\", max_depth=5)\n",
    "\n",
    "\n",
    "norm_y_out = cross_val_predict(clf, norm_x, norm_y, cv=10)\n",
    "\n",
    "lm=(classification_report(norm_y, norm_y_out, digits=4))\n",
    "print(lm)\n"
   ]
  },
  {
   "cell_type": "markdown",
   "metadata": {
    "id": "RVPRcKI7dAuV"
   },
   "source": [
    "# Simple Decision Tree + Depth = 7 + Normalization + Cross Validation"
   ]
  },
  {
   "cell_type": "code",
   "execution_count": null,
   "metadata": {
    "id": "Cq2qFpBfdAuV",
    "outputId": "d97ba0e8-cee2-41c8-ef55-1c39a28c707b"
   },
   "outputs": [],
   "source": [
    "\n",
    "clf = DecisionTreeClassifier(criterion=\"entropy\", max_depth=7)\n",
    "\n",
    "norm_y_out = cross_val_predict(clf, norm_x, norm_y, cv=10)\n",
    "\n",
    "lm=(classification_report(norm_y, norm_y_out, digits=4))\n",
    "print(lm)\n"
   ]
  },
  {
   "cell_type": "markdown",
   "metadata": {
    "id": "-7ZS5rDSdAuW"
   },
   "source": [
    "# Simple Decision Tree + Normalization + Cross Validation\n",
    "\n",
    "## Criterion = Gini, Max_depth = 5, CV = 10"
   ]
  },
  {
   "cell_type": "code",
   "execution_count": null,
   "metadata": {
    "id": "oAo1CBr3dAuW",
    "outputId": "a286610b-edc3-47fd-c2df-51f3b601b118"
   },
   "outputs": [],
   "source": [
    "\n",
    "clf = DecisionTreeClassifier(criterion=\"gini\", max_depth=5)\n",
    "\n",
    "norm_y_out = cross_val_predict(clf, norm_x, norm_y, cv=10)\n",
    "\n",
    "lm=(classification_report(norm_y, norm_y_out, digits=4))\n",
    "print(lm)\n"
   ]
  },
  {
   "cell_type": "code",
   "execution_count": null,
   "metadata": {
    "id": "geBwfi8DdAuW"
   },
   "outputs": [],
   "source": []
  },
  {
   "cell_type": "markdown",
   "metadata": {
    "id": "KxMQ0WD0dAuW"
   },
   "source": [
    "# XGB Implementation \n",
    "\n",
    "## Normalization + max_depth = 10, alpha = 10, n_estimators = 50, gamma=10\n",
    "\n",
    "## colsample_bytree = 0.3, learning_rate = 0.1"
   ]
  },
  {
   "cell_type": "code",
   "execution_count": null,
   "metadata": {
    "id": "dqKZT-ZVdAuZ",
    "outputId": "13cd60fb-d70b-4868-fbd5-f87834be6938"
   },
   "outputs": [],
   "source": [
    "#https://towardsdatascience.com/https-medium-com-vishalmorde-xgboost-algorithm-long-she-may-rein-edd9f99be63d\n",
    "#https://www.datacamp.com/community/tutorials/xgboost-in-python\n",
    "#https://medium.com/@gabrielziegler3/multiclass-multilabel-classification-with-xgboost-66195e4d9f2d\n",
    "\n",
    "xg_class = xgb.XGBClassifier(objective ='multi:softmax', colsample_bytree = 0.3, learning_rate = 0.1,\n",
    "                max_depth = 10, alpha = 10, n_estimators = 50, gamma=10)\n",
    "\n",
    "xg_class.fit(x_train,y_train)\n",
    "\n",
    "y_out = xg_class.predict(x_test)\n",
    "\n",
    "lm_xgb=(classification_report(y_test, y_out, digits=4))\n",
    "\n",
    "print(lm_xgb)\n"
   ]
  },
  {
   "cell_type": "code",
   "execution_count": null,
   "metadata": {
    "id": "TlcfzWJtdAuZ",
    "outputId": "ce065413-6092-4a4b-f0be-33cd60037161"
   },
   "outputs": [],
   "source": [
    "xg_class = xgb.XGBClassifier(objective ='multi:softmax', colsample_bytree = 0.3, learning_rate = 0.1,\n",
    "                max_depth = 10, alpha = 10, n_estimators = 50, gamma=10)\n",
    "\n",
    "\n",
    "norm_y_out = cross_val_predict(xg_class, norm_x, norm_y, cv=5)\n",
    "\n",
    "lm=(classification_report(norm_y, norm_y_out, digits=4))\n",
    "print(lm)"
   ]
  },
  {
   "cell_type": "code",
   "execution_count": null,
   "metadata": {
    "id": "_8xnUPApdAuZ",
    "outputId": "5351291e-2fee-4fdd-a0d0-9d7f7d59b933"
   },
   "outputs": [],
   "source": [
    "xg_class = xgb.XGBClassifier(objective ='multi:softmax', colsample_bytree = 0.3, learning_rate = 0.1,\n",
    "                max_depth = 10, alpha = 10, n_estimators = 50, gamma=10)\n",
    "\n",
    "\n",
    "norm_y_out = cross_val_predict(xg_class, norm_x, norm_y, cv=10)\n",
    "\n",
    "lm=(classification_report(norm_y, norm_y_out, digits=4))\n",
    "print(lm)"
   ]
  },
  {
   "cell_type": "markdown",
   "metadata": {
    "id": "3x4U-SrudAuZ"
   },
   "source": [
    "# XGB Implementation \n",
    "\n",
    "## Normalization + max_depth = 5, alpha = 10, n_estimators = 20, gamma=20\n",
    "\n",
    "## colsample_bytree = 0.3, learning_rate = 0.9"
   ]
  },
  {
   "cell_type": "code",
   "execution_count": null,
   "metadata": {
    "id": "vOczW3UCdAua",
    "outputId": "65a91ea6-40b6-4da7-9999-72fea5b9c5bc"
   },
   "outputs": [],
   "source": [
    "xg_class = xgb.XGBClassifier(objective ='multi:softmax', colsample_bytree = 0.3, learning_rate = 0.9,\n",
    "                max_depth = 5, alpha = 10, n_estimators = 20, gamma=20)\n",
    "\n",
    "\n",
    "norm_y_out = cross_val_predict(xg_class, norm_x, norm_y, cv=10)\n",
    "\n",
    "lm=(classification_report(norm_y, norm_y_out, digits=4))\n",
    "print(lm)"
   ]
  },
  {
   "cell_type": "code",
   "execution_count": null,
   "metadata": {
    "id": "_hl77_crdAua",
    "outputId": "699cae36-5ce0-48d9-eeae-beba379a4de5"
   },
   "outputs": [],
   "source": [
    "xg_class = xgb.XGBClassifier(objective ='multi:softmax', colsample_bytree = 0.3, learning_rate = 0.1,\n",
    "                max_depth = 15, alpha = 10, n_estimators = 70, gamma=10)\n",
    "\n",
    "\n",
    "norm_y_out = cross_val_predict(xg_class, norm_x, norm_y, cv=10)\n",
    "\n",
    "lm=(classification_report(norm_y, norm_y_out, digits=4))\n",
    "print(lm)"
   ]
  },
  {
   "cell_type": "markdown",
   "metadata": {
    "id": "prGocnjJdAua"
   },
   "source": [
    "# SVC + Normalization"
   ]
  },
  {
   "cell_type": "code",
   "execution_count": null,
   "metadata": {
    "id": "ac8p2VVIdAub",
    "outputId": "678965a0-0d54-4b10-c6af-ce2d11c3aada"
   },
   "outputs": [],
   "source": [
    "# Create a SVC classifier using a linear kernel\n",
    "from sklearn.svm import SVC\n",
    "clf = SVC(kernel='linear', C=1, random_state=0)\n",
    "# Train the classifier\n",
    "clf.fit(x_train, y_train)\n",
    "\n",
    "#Predict the response for test dataset\n",
    "y_out = clf.predict(x_test)\n",
    "lm_svc=(classification_report(y_test, y_out, digits=4))\n",
    "print(lm_svc)\n"
   ]
  },
  {
   "cell_type": "code",
   "execution_count": null,
   "metadata": {
    "id": "NetJNQdUdAub"
   },
   "outputs": [],
   "source": []
  },
  {
   "cell_type": "markdown",
   "metadata": {
    "id": "BZCBFZ9NdAub"
   },
   "source": [
    "# SVM + Normalization + Cross Validation"
   ]
  },
  {
   "cell_type": "code",
   "execution_count": null,
   "metadata": {
    "id": "JqIFslr9dAub",
    "outputId": "5f26d6af-ec09-4fb8-c63d-2de3f650d182"
   },
   "outputs": [],
   "source": [
    "##https://scikit-learn.org/stable/modules/svm.html\n",
    "#https://www.datacamp.com/community/tutorials/svm-classification-scikit-learn-python\n",
    "#https://medium.com/all-things-ai/in-depth-parameter-tuning-for-svc-758215394769\n",
    "###https://scikit-learn.org/stable/modules/generated/sklearn.svm.LinearSVC.html\n",
    "#https://chrisalbon.com/machine_learning/support_vector_machines/svc_parameters_using_rbf_kernel/\n",
    "\n",
    "#svm = SVC(kernel='rbf', random_state=0, gamma=10, C=1)\n",
    "#1000 iterations take 25 minutes\n",
    "from sklearn import svm\n",
    "\n",
    "#Create a svm Classifier\n",
    "clf = svm.SVC(kernel='rbf', random_state=0, gamma=10, C=100,\n",
    "              shrinking=True, tol=1.000, cache_size=10) ##(kernel='linear') # Linear Kernel\n",
    "\n",
    "#Train the model using the training sets\n",
    "clf.fit(x_train, y_train)\n",
    "\n",
    "#Predict the response for test dataset\n",
    "y_out = clf.predict(x_test)\n",
    "lm_svc=(classification_report(y_test, y_out, digits=4))\n",
    "print(lm_svc)\n",
    "          "
   ]
  },
  {
   "cell_type": "markdown",
   "metadata": {
    "id": "kJVXV0TLdAub"
   },
   "source": [
    "# SVM + Normalization + Cross Validation + Gamma = 20"
   ]
  },
  {
   "cell_type": "code",
   "execution_count": null,
   "metadata": {
    "id": "qRbjC__sdAub"
   },
   "outputs": [],
   "source": [
    "from sklearn import svm\n",
    "\n",
    "#Create a svm Classifier\n",
    "clf = svm.SVC(kernel='rbf', random_state=0, gamma=20, C=100,\n",
    "              shrinking=True, tol=1.000, cache_size=10) ##(kernel='linear') # Linear Kernel\n",
    "\n",
    "#Train the model using the training sets\n",
    "clf.fit(norm_x_train, norm_y_train)\n",
    "\n",
    "#Predict the response for test dataset\n",
    "norm_y_out = clf.predict(norm_x_test)"
   ]
  },
  {
   "cell_type": "code",
   "execution_count": null,
   "metadata": {
    "id": "4RzWqXMrdAub",
    "outputId": "fdd88c50-b64a-4913-f3de-8e0a126837fd"
   },
   "outputs": [],
   "source": [
    "lm_svm=(classification_report(norm_y_test, norm_y_out, digits=4))\n",
    "print(lm_svm)"
   ]
  },
  {
   "cell_type": "code",
   "execution_count": null,
   "metadata": {
    "id": "eRnx2mvEdAuc"
   },
   "outputs": [],
   "source": [
    "norm_y_out = cross_val_predict(clf, norm_x, norm_y, cv=10)\n",
    "\n",
    "lm=(classification_report(norm_y, norm_y_out, digits=4))\n",
    "print(lm)"
   ]
  },
  {
   "cell_type": "markdown",
   "metadata": {
    "id": "NXQQM7K7dAuc"
   },
   "source": [
    "# PCA Implementation with 4 features + KNN + XGBOOST"
   ]
  },
  {
   "cell_type": "code",
   "execution_count": null,
   "metadata": {
    "id": "JqogEIwkdAuc",
    "outputId": "f81dafc1-2e5b-42ab-c0a8-08a719a6b68a"
   },
   "outputs": [],
   "source": [
    "#https://www.datacamp.com/community/tutorials/principal-component-analysis-in-python\n",
    "\n",
    "\n",
    "pca = PCA(n_components=4)\n",
    "\n",
    "x_pca=pca.fit_transform(x)\n",
    "#x_pca = pca.transform(x_pca)\n",
    "print(\"original shape:   \", x.shape)\n",
    "print(\"transformed shape:\", x_pca.shape)"
   ]
  },
  {
   "cell_type": "code",
   "execution_count": null,
   "metadata": {
    "id": "XKyHGpHFdAuc",
    "outputId": "b4929299-f499-449f-abc8-f38482432be5"
   },
   "outputs": [],
   "source": [
    "y"
   ]
  },
  {
   "cell_type": "code",
   "execution_count": null,
   "metadata": {
    "id": "-UroH_LjdAuc",
    "outputId": "0b9fbe59-b832-40d9-adc4-907bb36d6bde"
   },
   "outputs": [],
   "source": [
    "pca_df = pd.DataFrame(data=x_pca, columns=[\"PCA-1\", \"PCA-2\", \"PCA-3\",\"PCA-4\"]) \n",
    "pca_df['w_label'] = y.values\n",
    "print(\"data frame combined\",min(y),max(y))\n",
    "print(pca_df.shape)"
   ]
  },
  {
   "cell_type": "code",
   "execution_count": null,
   "metadata": {
    "id": "iRInaJsfdAuc",
    "outputId": "5c9d68e8-a4e3-4fa0-9c4c-0e0143c68ed3"
   },
   "outputs": [],
   "source": [
    "(pca_df.head())\n",
    "#print(pca_df[\"w_label\"])"
   ]
  },
  {
   "cell_type": "code",
   "execution_count": null,
   "metadata": {
    "id": "9d7iHAVvdAud"
   },
   "outputs": [],
   "source": [
    "pca_y = pca_df.w_label\n",
    "pca_x = pca_df.drop('w_label',axis=1)\n",
    "\n",
    "pca_x_train,pca_x_test, pca_y_train, pca_y_test = train_test_split(pca_x,pca_y,test_size=0.2)\n",
    "\n",
    "\n"
   ]
  },
  {
   "cell_type": "code",
   "execution_count": null,
   "metadata": {
    "id": "mG3845m3dAud",
    "outputId": "678d3e06-90cf-4ea0-8e42-7a98d147d898"
   },
   "outputs": [],
   "source": [
    "pca_x_train"
   ]
  },
  {
   "cell_type": "code",
   "execution_count": null,
   "metadata": {
    "id": "SklW1iUBdAud",
    "outputId": "d2f36a3e-040a-400e-8b95-a752efb5a518"
   },
   "outputs": [],
   "source": [
    "pca_y_train"
   ]
  },
  {
   "cell_type": "code",
   "execution_count": null,
   "metadata": {
    "id": "1M3ukIe7dAud",
    "outputId": "f2a23ec6-162a-49bb-d486-162cc0263173"
   },
   "outputs": [],
   "source": [
    "pca_x_test"
   ]
  },
  {
   "cell_type": "code",
   "execution_count": null,
   "metadata": {
    "id": "QXJrrdXkdAud",
    "outputId": "002deffc-7d79-4fc5-c576-3e2e5274a9e3"
   },
   "outputs": [],
   "source": [
    "pca_y_test"
   ]
  },
  {
   "cell_type": "markdown",
   "metadata": {
    "id": "fX4fgmOZdAud"
   },
   "source": [
    "# PCA with 4 features + Simple Decision Tree"
   ]
  },
  {
   "cell_type": "code",
   "execution_count": null,
   "metadata": {
    "id": "Y2CtvGsedAue",
    "outputId": "a4266744-07a1-402f-cc6f-5a444efe0bf8"
   },
   "outputs": [],
   "source": [
    "# Create Decision Tree classifer object\n",
    "clf = DecisionTreeClassifier(criterion=\"entropy\", max_depth=5)\n",
    "\n",
    "# Train Decision Tree Classifer\n",
    "clf = clf.fit(pca_x_train, pca_y_train)\n",
    "\n",
    "#Predict the response for test dataset\n",
    "pca_y_out = clf.predict(pca_x_test)\n",
    "\n",
    "# Model Accuracy, how often is the classifier correct?\n",
    "#print(\"Accuracy:\",metrics.accuracy_score(y_test, y_out))\n",
    "lmIV=(classification_report(pca_y_test, pca_y_out, digits=4))\n",
    "print(lmIV)\n"
   ]
  },
  {
   "cell_type": "markdown",
   "metadata": {
    "id": "B_BUXFQFdAue"
   },
   "source": [
    "# PCA with 4 features + KNN"
   ]
  },
  {
   "cell_type": "code",
   "execution_count": null,
   "metadata": {
    "id": "hNj0fQc4dAue",
    "outputId": "29ef6d1d-0c8c-4b71-f6e4-babe71ee0acb"
   },
   "outputs": [],
   "source": [
    "knn = KNeighborsClassifier(n_neighbors=5)\n",
    "pca_y_out = cross_val_predict(knn, pca_x, pca_y, cv=20)\n",
    "lm=(classification_report(pca_y, pca_y_out, digits=4))\n",
    "#https://www.ritchieng.com/machine-learning-cross-validation/\n",
    "lm=(classification_report(pca_y, pca_y_out, digits=4))\n",
    "print(lm)\n"
   ]
  },
  {
   "cell_type": "markdown",
   "metadata": {
    "id": "fIGeP_dSdAue"
   },
   "source": [
    "# PCA with 4 features + XGBOOST"
   ]
  },
  {
   "cell_type": "code",
   "execution_count": null,
   "metadata": {
    "id": "F0FXssGydAue",
    "outputId": "c87eb10d-d4f6-4abf-a683-32d9b00d6e76"
   },
   "outputs": [],
   "source": [
    "xg_class = xgb.XGBClassifier(objective ='multi:softmax', colsample_bytree = 0.3, learning_rate = 0.1,\n",
    "                max_depth = 10, alpha = 10, n_estimators = 50, gamma=10)\n",
    "\n",
    "xg_class.fit(pca_x_train,pca_y_train)\n",
    "\n",
    "pca_y_out = xg_class.predict(pca_x_test)\n",
    "\n",
    "lm_xgbIV=(classification_report(pca_y_test, pca_y_out, digits=4))\n",
    "\n",
    "print(lm_xgbIV)"
   ]
  },
  {
   "cell_type": "code",
   "execution_count": null,
   "metadata": {
    "id": "uGUuJmpBdAue"
   },
   "outputs": [],
   "source": []
  },
  {
   "cell_type": "markdown",
   "metadata": {
    "id": "6NFuhRc9dAue"
   },
   "source": [
    "# PCA with 1 feature"
   ]
  },
  {
   "cell_type": "code",
   "execution_count": null,
   "metadata": {
    "id": "i1W5rgNidAuf",
    "outputId": "2529bdad-0f6e-4653-bd82-1f4a15ed2fe2"
   },
   "outputs": [],
   "source": [
    "pca_df_1 = pca_df_2.drop('PCA-2',axis=1)\n",
    "print(pca_df_1.head())\n",
    "\n",
    "pca_y = pca_df_1.w_label\n",
    "pca_x = pca_df_1.drop('w_label',axis=1)\n",
    "\n",
    "pca_x_trainI,pca_x_testI, pca_y_trainI, pca_y_testI = train_test_split(pca_x,pca_y,test_size=0.2)\n",
    "pca_x_trainI"
   ]
  },
  {
   "cell_type": "markdown",
   "metadata": {
    "id": "OU3oQg23dAuf"
   },
   "source": [
    "# PCA with 1 feature + XGBOOST"
   ]
  },
  {
   "cell_type": "code",
   "execution_count": null,
   "metadata": {
    "id": "wkWYWyccdAuf",
    "outputId": "207d0aef-f615-4673-a1ce-e0aa4b891922"
   },
   "outputs": [],
   "source": [
    "xg_class = xgb.XGBClassifier(objective ='multi:softmax', colsample_bytree = 0.3, learning_rate = 0.1,\n",
    "                max_depth = 10, alpha = 10, n_estimators = 50, gamma=10)\n",
    "\n",
    "xg_class.fit(pca_x_trainI,pca_y_trainI)\n",
    "\n",
    "pca_y_outI = xg_class.predict(pca_x_testI)\n",
    "\n",
    "lm_xgbI=(classification_report(pca_y_testI, pca_y_outI, digits=4))\n",
    "\n",
    "print(lm_xgbI)\n",
    "\n"
   ]
  },
  {
   "cell_type": "markdown",
   "metadata": {
    "id": "PoEgHweMdAuf"
   },
   "source": [
    "# PCA with 2 features "
   ]
  },
  {
   "cell_type": "code",
   "execution_count": null,
   "metadata": {
    "id": "4ehHIybYdAuf",
    "outputId": "23130812-10f6-43c5-8170-d71d0565310b"
   },
   "outputs": [],
   "source": [
    "pca_df_2 = pca_df_3.drop('PCA-3',axis=1)\n",
    "print(pca_df_2.head())\n",
    "pca_y = pca_df_2.w_label\n",
    "pca_x = pca_df_2.drop('w_label',axis=1)\n",
    "\n",
    "pca_x_trainII,pca_x_testII, pca_y_trainII, pca_y_testII = train_test_split(pca_x,pca_y,test_size=0.2)\n",
    "\n"
   ]
  },
  {
   "cell_type": "code",
   "execution_count": null,
   "metadata": {
    "id": "40ebbwuHdAuf",
    "outputId": "8a5ca85b-5cda-45c2-b6ae-294719833a9f"
   },
   "outputs": [],
   "source": [
    "# Create Decision Tree classifer object\n",
    "clf = DecisionTreeClassifier(criterion=\"entropy\", max_depth=5)\n",
    "\n",
    "# Train Decision Tree Classifer\n",
    "clf = clf.fit(pca_x_trainII, pca_y_trainII)\n",
    "\n",
    "#Predict the response for test dataset\n",
    "pca_y_outII = clf.predict(pca_x_testII)\n",
    "\n",
    "# Model Accuracy, how often is the classifier correct?\n",
    "#print(\"Accuracy:\",metrics.accuracy_score(y_test, y_out))\n",
    "lm=(classification_report(pca_y_testII, pca_y_outII, digits=4))\n",
    "print(lm)"
   ]
  },
  {
   "cell_type": "markdown",
   "metadata": {
    "id": "Mj5J25-rdAug"
   },
   "source": [
    "# PCA with 2 features + XGBOOST"
   ]
  },
  {
   "cell_type": "code",
   "execution_count": null,
   "metadata": {
    "id": "OY5v01E9dAug",
    "outputId": "9277d740-b74c-49f9-ecc9-f79be06f44ff"
   },
   "outputs": [],
   "source": [
    "xg_class = xgb.XGBClassifier(objective ='multi:softmax', colsample_bytree = 0.3, learning_rate = 0.1,\n",
    "                max_depth = 10, alpha = 10, n_estimators = 50, gamma=10)\n",
    "\n",
    "xg_class.fit(pca_x_trainII,pca_y_trainII)\n",
    "\n",
    "pca_y_outII = xg_class.predict(pca_x_testII)\n",
    "\n",
    "lm_xgbII=(classification_report(pca_y_testII, pca_y_outII, digits=4))\n",
    "\n",
    "print(lm_xgbII)\n"
   ]
  },
  {
   "cell_type": "code",
   "execution_count": null,
   "metadata": {
    "id": "JMObe8MzdAug"
   },
   "outputs": [],
   "source": []
  },
  {
   "cell_type": "markdown",
   "metadata": {
    "id": "VzLm_-vPdAug"
   },
   "source": [
    "# PCA with 3 features"
   ]
  },
  {
   "cell_type": "code",
   "execution_count": null,
   "metadata": {
    "id": "wNxM-Q7bdAug",
    "outputId": "a747073a-44a6-4e7b-bbf6-3f75899393d5"
   },
   "outputs": [],
   "source": [
    "pca_df_3 = pca_df.drop('PCA-4',axis=1)\n",
    "\n",
    "print(pca_df_3.head())\n",
    "pca_y = pca_df_3.w_label\n",
    "pca_x = pca_df_3.drop('w_label',axis=1)\n",
    "\n",
    "pca_x_trainIII,pca_x_testIII, pca_y_trainIII, pca_y_testIII = train_test_split(pca_x,pca_y,test_size=0.2)\n"
   ]
  },
  {
   "cell_type": "markdown",
   "metadata": {
    "id": "wMFZt-hYdAug"
   },
   "source": [
    "# PCA with 3 features + XGBOOST"
   ]
  },
  {
   "cell_type": "code",
   "execution_count": null,
   "metadata": {
    "id": "v420QkRzdAug",
    "outputId": "605036e0-2cee-4434-c960-117eab0eb168"
   },
   "outputs": [],
   "source": [
    "xg_class = xgb.XGBClassifier(objective ='multi:softmax', colsample_bytree = 0.3, learning_rate = 0.1,\n",
    "                max_depth = 10, alpha = 10, n_estimators = 50, gamma=10)\n",
    "\n",
    "xg_class.fit(pca_x_trainIII,pca_y_trainIII)\n",
    "\n",
    "pca_y_outIII = xg_class.predict(pca_x_testIII)\n",
    "\n",
    "lm_xgbIII=(classification_report(pca_y_testIII, pca_y_outIII, digits=4))\n",
    "\n",
    "print(lm_xgbIII)"
   ]
  },
  {
   "cell_type": "code",
   "execution_count": null,
   "metadata": {
    "id": "CKoexFSPdAuh"
   },
   "outputs": [],
   "source": [
    "TESTING BEST MODEL ON 7 SUBJECTS "
   ]
  },
  {
   "cell_type": "code",
   "execution_count": null,
   "metadata": {
    "id": "PBIMb-1wdAuh",
    "outputId": "70890bb1-21b5-4c66-d6d2-fecc19002442"
   },
   "outputs": [],
   "source": [
    "\n",
    "\n",
    "s3_path = r\"C:\\Users\\pc\\S3.pkl\"\n",
    "\n",
    "with open(s3_path, 'rb') as file:\n",
    "    s2_data = pickle.load(file, encoding='latin1')\n",
    "    \n",
    "c_ax=s2_data['signal']['chest']['ACC'][0:,0]#[baseline_to_plot]\n",
    "c_ay=s2_data['signal']['chest']['ACC'][0:,1]#[baseline_to_plot]#[0:100] # hundred values\n",
    "c_az=s2_data['signal']['chest']['ACC'][0:,2]#[baseline_to_plot]\n",
    "c_ecg=s2_data['signal']['chest']['ECG'][:,0]#[baseline_to_plot]\n",
    "c_emg=s2_data['signal']['chest']['EMG'][:,0]#[baseline_to_plot]\n",
    "c_eda=s2_data['signal']['chest']['EDA'][:,0]#[baseline_to_plot]\n",
    "c_temp=s2_data['signal']['chest']['Temp'][:,0]#[baseline_to_plot]\n",
    "c_resp=s2_data['signal']['chest']['Resp'][:,0]#[baseline_to_plot]\n",
    "w_ax=s2_data['signal']['wrist']['ACC'][0:,0]#[stress_to_plot]\n",
    "w_ay=s2_data['signal']['wrist']['ACC'][0:,1]#[stress_to_plot]\n",
    "w_az=s2_data['signal']['wrist']['ACC'][0:,2]#[stress_to_plot]\n",
    "w_bvp=s2_data['signal']['wrist']['BVP'][:,0]#[stress_to_plot]\n",
    "w_eda=s2_data['signal']['wrist']['EDA'][:,0]#[stress_to_plot]\n",
    "w_temp=s2_data['signal']['wrist']['TEMP'][:,0]#[stress_to_plot]\n",
    "w_label=s2_data['label']\n",
    "\n",
    "print(\"Equated_3\")    \n",
    "\n",
    "numpy_data1=np.array([c_ax, c_ay, c_az,c_ecg,c_emg,c_eda,c_temp,c_resp,w_label])\n",
    "numpy_data1=numpy_data1.T\n",
    "\n",
    "#df = pd.DataFrame(data=numpy_data1, columns=[\"c_ax\", \"c_ay\", \"c_az\",\"c_ecg\",\"c_emg\",\"c_eda\",\"c_temp\",\"c_resp\",\"w_ax\",\"w_ay\",\"w_az\",\"w_bvp\",\"w_eda\",\"w_temp\"],orient='index') \n",
    "df = pd.DataFrame(data=numpy_data1, columns=[\"c_ax\", \"c_ay\", \"c_az\",\"c_ecg\",\"c_emg\",\"c_eda\",\"c_temp\",\"c_resp\",\"w_label\"]) \n",
    "\n",
    "print(\"data frame combined\")\n"
   ]
  },
  {
   "cell_type": "code",
   "execution_count": null,
   "metadata": {
    "id": "jbQvSoa-dAuh",
    "outputId": "edb27e0b-fbd2-4f8f-b51e-3f6c99617a70"
   },
   "outputs": [],
   "source": [
    "Q1 = df.quantile(0.25)\n",
    "Q3 = df.quantile(0.75)\n",
    "IQR = Q3 - Q1\n",
    "print(\"IQR is\\n\", IQR)\n",
    "#print((df < (Q1 - 1.5 * IQR)) |(df > (Q3 + 1.5 * IQR)) )\n",
    "df_out = df[~((df < (Q1 - 1.5 * IQR)) |(df > (Q3 + 1.5 * IQR))).any(axis=1)]\n",
    "print(df_out.shape)"
   ]
  },
  {
   "cell_type": "code",
   "execution_count": null,
   "metadata": {
    "id": "tlqL6es1dAuh"
   },
   "outputs": [],
   "source": [
    "norm_df_out=(df_out-df_out.mean())/df_out.std()\n",
    "\n",
    "norm_y_3 = df_out.w_label #keep original labels Dont normalize labels\n",
    "norm_x_3 = norm_df_out.drop('w_label',axis=1)\n",
    "\n",
    "\n",
    "norm_x_train_3,norm_x_test_3,norm_y_train_3,norm_y_test_3=train_test_split(norm_x_3,norm_y_3,test_size=0.2)"
   ]
  },
  {
   "cell_type": "code",
   "execution_count": null,
   "metadata": {
    "id": "qWEUhanldAuh",
    "outputId": "ec267e94-fdda-46d7-a07c-3e341f3d8a45"
   },
   "outputs": [],
   "source": [
    "qda_clf = QuadraticDiscriminantAnalysis(priors=None, reg_param=0)\n",
    "norm_y_out_3 = cross_val_predict(qda_clf, norm_x_3, norm_y_3, cv=10)\n",
    "lm_3=(classification_report(norm_y_3, norm_y_out_3, digits=4))\n",
    "print(lm_3)\n"
   ]
  },
  {
   "cell_type": "code",
   "execution_count": null,
   "metadata": {
    "id": "oTh5Ju3AdAuh",
    "outputId": "3f44ebf8-323e-46e9-b29b-c33e0e906866"
   },
   "outputs": [],
   "source": [
    "\n",
    "\n",
    "s4_path = r\"C:\\Users\\pc\\S4.pkl\"\n",
    "\n",
    "with open(s4_path, 'rb') as file:\n",
    "    s2_data = pickle.load(file, encoding='latin1')\n",
    "    \n",
    "c_ax=s2_data['signal']['chest']['ACC'][0:,0]#[baseline_to_plot]\n",
    "c_ay=s2_data['signal']['chest']['ACC'][0:,1]#[baseline_to_plot]#[0:100] # hundred values\n",
    "c_az=s2_data['signal']['chest']['ACC'][0:,2]#[baseline_to_plot]\n",
    "c_ecg=s2_data['signal']['chest']['ECG'][:,0]#[baseline_to_plot]\n",
    "c_emg=s2_data['signal']['chest']['EMG'][:,0]#[baseline_to_plot]\n",
    "c_eda=s2_data['signal']['chest']['EDA'][:,0]#[baseline_to_plot]\n",
    "c_temp=s2_data['signal']['chest']['Temp'][:,0]#[baseline_to_plot]\n",
    "c_resp=s2_data['signal']['chest']['Resp'][:,0]#[baseline_to_plot]\n",
    "w_ax=s2_data['signal']['wrist']['ACC'][0:,0]#[stress_to_plot]\n",
    "w_ay=s2_data['signal']['wrist']['ACC'][0:,1]#[stress_to_plot]\n",
    "w_az=s2_data['signal']['wrist']['ACC'][0:,2]#[stress_to_plot]\n",
    "w_bvp=s2_data['signal']['wrist']['BVP'][:,0]#[stress_to_plot]\n",
    "w_eda=s2_data['signal']['wrist']['EDA'][:,0]#[stress_to_plot]\n",
    "w_temp=s2_data['signal']['wrist']['TEMP'][:,0]#[stress_to_plot]\n",
    "w_label=s2_data['label']\n",
    "\n",
    "print(\"Equated\")    \n",
    "\n",
    "numpy_data1=np.array([c_ax, c_ay, c_az,c_ecg,c_emg,c_eda,c_temp,c_resp,w_label])\n",
    "numpy_data1=numpy_data1.T\n",
    "\n",
    "#df = pd.DataFrame(data=numpy_data1, columns=[\"c_ax\", \"c_ay\", \"c_az\",\"c_ecg\",\"c_emg\",\"c_eda\",\"c_temp\",\"c_resp\",\"w_ax\",\"w_ay\",\"w_az\",\"w_bvp\",\"w_eda\",\"w_temp\"],orient='index') \n",
    "df = pd.DataFrame(data=numpy_data1, columns=[\"c_ax\", \"c_ay\", \"c_az\",\"c_ecg\",\"c_emg\",\"c_eda\",\"c_temp\",\"c_resp\",\"w_label\"]) \n",
    "\n",
    "print(\"data frame combined\")\n"
   ]
  },
  {
   "cell_type": "code",
   "execution_count": null,
   "metadata": {
    "id": "dXURrG__dAuh",
    "outputId": "89a02318-8195-4204-dce0-f2765aeef8dd"
   },
   "outputs": [],
   "source": [
    "Q1 = df.quantile(0.25)\n",
    "Q3 = df.quantile(0.75)\n",
    "IQR = Q3 - Q1\n",
    "print(\"IQR is\\n\", IQR)\n",
    "#print((df < (Q1 - 1.5 * IQR)) |(df > (Q3 + 1.5 * IQR)) )\n",
    "df_out = df[~((df < (Q1 - 1.5 * IQR)) |(df > (Q3 + 1.5 * IQR))).any(axis=1)]\n",
    "print(df_out.shape)"
   ]
  },
  {
   "cell_type": "code",
   "execution_count": null,
   "metadata": {
    "id": "OhloTycldAui"
   },
   "outputs": [],
   "source": [
    "norm_df_out=(df_out-df_out.mean())/df_out.std()\n",
    "\n",
    "norm_y_4 = df_out.w_label #keep original labels Dont normalize labels\n",
    "norm_x_4 = norm_df_out.drop('w_label',axis=1)\n",
    "\n",
    "\n",
    "norm_x_train_4,norm_x_test_4,norm_y_train_4,norm_y_test_4=train_test_split(norm_x_4,norm_y_4,test_size=0.2)"
   ]
  },
  {
   "cell_type": "code",
   "execution_count": null,
   "metadata": {
    "id": "8us8BhDpdAui",
    "outputId": "2657793a-39eb-4ff4-ee01-a894db84afc3"
   },
   "outputs": [],
   "source": [
    "qda_clf = QuadraticDiscriminantAnalysis(priors=None, reg_param=0)\n",
    "norm_y_out_4 = cross_val_predict(qda_clf, norm_x_4, norm_y_4, cv=10)\n",
    "lm_4=(classification_report(norm_y_4, norm_y_out_4, digits=4))\n",
    "print(lm_4)\n"
   ]
  },
  {
   "cell_type": "code",
   "execution_count": null,
   "metadata": {
    "id": "3oFcC_y0dAui"
   },
   "outputs": [],
   "source": []
  },
  {
   "cell_type": "code",
   "execution_count": null,
   "metadata": {
    "id": "LtK5_0aldAui",
    "outputId": "16442af1-81bb-48ce-b3be-ca7cec193d2e"
   },
   "outputs": [],
   "source": [
    "\n",
    "\n",
    "s10_path = r\"C:\\Users\\pc\\S10.pkl\"\n",
    "\n",
    "with open(s10_path, 'rb') as file:\n",
    "    s2_data = pickle.load(file, encoding='latin1')\n",
    "    \n",
    "c_ax=s2_data['signal']['chest']['ACC'][0:,0]#[baseline_to_plot]\n",
    "c_ay=s2_data['signal']['chest']['ACC'][0:,1]#[baseline_to_plot]#[0:100] # hundred values\n",
    "c_az=s2_data['signal']['chest']['ACC'][0:,2]#[baseline_to_plot]\n",
    "c_ecg=s2_data['signal']['chest']['ECG'][:,0]#[baseline_to_plot]\n",
    "c_emg=s2_data['signal']['chest']['EMG'][:,0]#[baseline_to_plot]\n",
    "c_eda=s2_data['signal']['chest']['EDA'][:,0]#[baseline_to_plot]\n",
    "c_temp=s2_data['signal']['chest']['Temp'][:,0]#[baseline_to_plot]\n",
    "c_resp=s2_data['signal']['chest']['Resp'][:,0]#[baseline_to_plot]\n",
    "w_ax=s2_data['signal']['wrist']['ACC'][0:,0]#[stress_to_plot]\n",
    "w_ay=s2_data['signal']['wrist']['ACC'][0:,1]#[stress_to_plot]\n",
    "w_az=s2_data['signal']['wrist']['ACC'][0:,2]#[stress_to_plot]\n",
    "w_bvp=s2_data['signal']['wrist']['BVP'][:,0]#[stress_to_plot]\n",
    "w_eda=s2_data['signal']['wrist']['EDA'][:,0]#[stress_to_plot]\n",
    "w_temp=s2_data['signal']['wrist']['TEMP'][:,0]#[stress_to_plot]\n",
    "w_label=s2_data['label']\n",
    "\n",
    "print(\"Equated\")    \n",
    "\n",
    "numpy_data1=np.array([c_ax, c_ay, c_az,c_ecg,c_emg,c_eda,c_temp,c_resp,w_label])\n",
    "numpy_data1=numpy_data1.T\n",
    "\n",
    "#df = pd.DataFrame(data=numpy_data1, columns=[\"c_ax\", \"c_ay\", \"c_az\",\"c_ecg\",\"c_emg\",\"c_eda\",\"c_temp\",\"c_resp\",\"w_ax\",\"w_ay\",\"w_az\",\"w_bvp\",\"w_eda\",\"w_temp\"],orient='index') \n",
    "df = pd.DataFrame(data=numpy_data1, columns=[\"c_ax\", \"c_ay\", \"c_az\",\"c_ecg\",\"c_emg\",\"c_eda\",\"c_temp\",\"c_resp\",\"w_label\"]) \n",
    "\n",
    "print(\"data frame combined\")\n"
   ]
  },
  {
   "cell_type": "code",
   "execution_count": null,
   "metadata": {
    "id": "s8QgG3kWdAui",
    "outputId": "87f197c5-15f0-4c50-9c23-66c251e2ede4"
   },
   "outputs": [],
   "source": [
    "Q1 = df.quantile(0.25)\n",
    "Q3 = df.quantile(0.75)\n",
    "IQR = Q3 - Q1\n",
    "print(\"IQR is\\n\", IQR)\n",
    "#print((df < (Q1 - 1.5 * IQR)) |(df > (Q3 + 1.5 * IQR)) )\n",
    "df_out = df[~((df < (Q1 - 1.5 * IQR)) |(df > (Q3 + 1.5 * IQR))).any(axis=1)]\n",
    "print(df_out.shape)"
   ]
  },
  {
   "cell_type": "code",
   "execution_count": null,
   "metadata": {
    "id": "PSs28Nx2dAui"
   },
   "outputs": [],
   "source": [
    "norm_df_out=(df_out-df_out.mean())/df_out.std()\n",
    "\n",
    "norm_y_10 = df_out.w_label #keep original labels Dont normalize labels\n",
    "norm_x_10 = norm_df_out.drop('w_label',axis=1)\n",
    "\n",
    "\n",
    "norm_x_train_10,norm_x_test_10,norm_y_train_10,norm_y_test_10=train_test_split(norm_x_10,norm_y_10,test_size=0.2)"
   ]
  },
  {
   "cell_type": "code",
   "execution_count": null,
   "metadata": {
    "id": "irePTeUadAuj",
    "outputId": "90ad4ebe-3d7e-432e-df6e-c271f70e69e4"
   },
   "outputs": [],
   "source": [
    "qda_clf = QuadraticDiscriminantAnalysis(priors=None, reg_param=0)\n",
    "norm_y_out_10 = cross_val_predict(qda_clf, norm_x_10, norm_y_10, cv=10)\n",
    "lm_10=(classification_report(norm_y_10, norm_y_out_10, digits=4))\n",
    "print(lm_10)\n"
   ]
  },
  {
   "cell_type": "code",
   "execution_count": null,
   "metadata": {
    "id": "xrs9XfHTdAuj"
   },
   "outputs": [],
   "source": []
  },
  {
   "cell_type": "code",
   "execution_count": null,
   "metadata": {
    "id": "HsvRSWypdAuj",
    "outputId": "3a4dba3d-ed49-436b-9bc5-c7f60a287f1a"
   },
   "outputs": [],
   "source": [
    "\n",
    "\n",
    "s11_path = r\"C:\\Users\\pc\\S11.pkl\"\n",
    "\n",
    "with open(s11_path, 'rb') as file:\n",
    "    s2_data = pickle.load(file, encoding='latin1')\n",
    "    \n",
    "c_ax=s2_data['signal']['chest']['ACC'][0:,0]#[baseline_to_plot]\n",
    "c_ay=s2_data['signal']['chest']['ACC'][0:,1]#[baseline_to_plot]#[0:100] # hundred values\n",
    "c_az=s2_data['signal']['chest']['ACC'][0:,2]#[baseline_to_plot]\n",
    "c_ecg=s2_data['signal']['chest']['ECG'][:,0]#[baseline_to_plot]\n",
    "c_emg=s2_data['signal']['chest']['EMG'][:,0]#[baseline_to_plot]\n",
    "c_eda=s2_data['signal']['chest']['EDA'][:,0]#[baseline_to_plot]\n",
    "c_temp=s2_data['signal']['chest']['Temp'][:,0]#[baseline_to_plot]\n",
    "c_resp=s2_data['signal']['chest']['Resp'][:,0]#[baseline_to_plot]\n",
    "w_ax=s2_data['signal']['wrist']['ACC'][0:,0]#[stress_to_plot]\n",
    "w_ay=s2_data['signal']['wrist']['ACC'][0:,1]#[stress_to_plot]\n",
    "w_az=s2_data['signal']['wrist']['ACC'][0:,2]#[stress_to_plot]\n",
    "w_bvp=s2_data['signal']['wrist']['BVP'][:,0]#[stress_to_plot]\n",
    "w_eda=s2_data['signal']['wrist']['EDA'][:,0]#[stress_to_plot]\n",
    "w_temp=s2_data['signal']['wrist']['TEMP'][:,0]#[stress_to_plot]\n",
    "w_label=s2_data['label']\n",
    "\n",
    "print(\"Equated\")    \n",
    "\n",
    "numpy_data1=np.array([c_ax, c_ay, c_az,c_ecg,c_emg,c_eda,c_temp,c_resp,w_label])\n",
    "numpy_data1=numpy_data1.T\n",
    "\n",
    "#df = pd.DataFrame(data=numpy_data1, columns=[\"c_ax\", \"c_ay\", \"c_az\",\"c_ecg\",\"c_emg\",\"c_eda\",\"c_temp\",\"c_resp\",\"w_ax\",\"w_ay\",\"w_az\",\"w_bvp\",\"w_eda\",\"w_temp\"],orient='index') \n",
    "df = pd.DataFrame(data=numpy_data1, columns=[\"c_ax\", \"c_ay\", \"c_az\",\"c_ecg\",\"c_emg\",\"c_eda\",\"c_temp\",\"c_resp\",\"w_label\"]) \n",
    "\n",
    "print(\"data frame combined\")\n"
   ]
  },
  {
   "cell_type": "code",
   "execution_count": null,
   "metadata": {
    "id": "M7fyBeqxdAuj",
    "outputId": "0cdda035-ae7c-4c70-9b6b-0b1534231de2"
   },
   "outputs": [],
   "source": [
    "Q1 = df.quantile(0.25)\n",
    "Q3 = df.quantile(0.75)\n",
    "IQR = Q3 - Q1\n",
    "print(\"IQR is\\n\", IQR)\n",
    "#print((df < (Q1 - 1.5 * IQR)) |(df > (Q3 + 1.5 * IQR)) )\n",
    "df_out = df[~((df < (Q1 - 1.5 * IQR)) |(df > (Q3 + 1.5 * IQR))).any(axis=1)]\n",
    "print(df_out.shape)"
   ]
  },
  {
   "cell_type": "code",
   "execution_count": null,
   "metadata": {
    "id": "mhb7BA_OdAuj"
   },
   "outputs": [],
   "source": [
    "norm_df_out=(df_out-df_out.mean())/df_out.std()\n",
    "\n",
    "norm_y_11 = df_out.w_label #keep original labels Dont normalize labels\n",
    "norm_x_11 = norm_df_out.drop('w_label',axis=1)\n",
    "\n",
    "\n",
    "norm_x_train_11,norm_x_test_11,norm_y_train_11,norm_y_test_11=train_test_split(norm_x_11,norm_y_11,test_size=0.2)"
   ]
  },
  {
   "cell_type": "code",
   "execution_count": null,
   "metadata": {
    "id": "XypUBB20dAuj",
    "outputId": "74f8e5a7-dc7a-4540-90e2-7d3bb3075921"
   },
   "outputs": [],
   "source": [
    "qda_clf = QuadraticDiscriminantAnalysis(priors=None, reg_param=0)\n",
    "norm_y_out_11 = cross_val_predict(qda_clf, norm_x_11, norm_y_11, cv=10)\n",
    "lm_11=(classification_report(norm_y_11, norm_y_out_11, digits=4))\n",
    "print(lm_11)\n"
   ]
  },
  {
   "cell_type": "code",
   "execution_count": null,
   "metadata": {
    "id": "T5jCme-BdAuj"
   },
   "outputs": [],
   "source": []
  },
  {
   "cell_type": "code",
   "execution_count": null,
   "metadata": {
    "id": "jJWuS-5LdAuj",
    "outputId": "bde1c873-fa1b-43f8-b43c-4651cc86d3e3"
   },
   "outputs": [],
   "source": [
    "\n",
    "\n",
    "s16_path = r\"C:\\Users\\pc\\S16.pkl\"\n",
    "\n",
    "with open(s16_path, 'rb') as file:\n",
    "    s2_data = pickle.load(file, encoding='latin1')\n",
    "    \n",
    "c_ax=s2_data['signal']['chest']['ACC'][0:,0]#[baseline_to_plot]\n",
    "c_ay=s2_data['signal']['chest']['ACC'][0:,1]#[baseline_to_plot]#[0:100] # hundred values\n",
    "c_az=s2_data['signal']['chest']['ACC'][0:,2]#[baseline_to_plot]\n",
    "c_ecg=s2_data['signal']['chest']['ECG'][:,0]#[baseline_to_plot]\n",
    "c_emg=s2_data['signal']['chest']['EMG'][:,0]#[baseline_to_plot]\n",
    "c_eda=s2_data['signal']['chest']['EDA'][:,0]#[baseline_to_plot]\n",
    "c_temp=s2_data['signal']['chest']['Temp'][:,0]#[baseline_to_plot]\n",
    "c_resp=s2_data['signal']['chest']['Resp'][:,0]#[baseline_to_plot]\n",
    "w_ax=s2_data['signal']['wrist']['ACC'][0:,0]#[stress_to_plot]\n",
    "w_ay=s2_data['signal']['wrist']['ACC'][0:,1]#[stress_to_plot]\n",
    "w_az=s2_data['signal']['wrist']['ACC'][0:,2]#[stress_to_plot]\n",
    "w_bvp=s2_data['signal']['wrist']['BVP'][:,0]#[stress_to_plot]\n",
    "w_eda=s2_data['signal']['wrist']['EDA'][:,0]#[stress_to_plot]\n",
    "w_temp=s2_data['signal']['wrist']['TEMP'][:,0]#[stress_to_plot]\n",
    "w_label=s2_data['label']\n",
    "\n",
    "print(\"Equated\")    \n",
    "\n",
    "numpy_data1=np.array([c_ax, c_ay, c_az,c_ecg,c_emg,c_eda,c_temp,c_resp,w_label])\n",
    "numpy_data1=numpy_data1.T\n",
    "\n",
    "#df = pd.DataFrame(data=numpy_data1, columns=[\"c_ax\", \"c_ay\", \"c_az\",\"c_ecg\",\"c_emg\",\"c_eda\",\"c_temp\",\"c_resp\",\"w_ax\",\"w_ay\",\"w_az\",\"w_bvp\",\"w_eda\",\"w_temp\"],orient='index') \n",
    "df = pd.DataFrame(data=numpy_data1, columns=[\"c_ax\", \"c_ay\", \"c_az\",\"c_ecg\",\"c_emg\",\"c_eda\",\"c_temp\",\"c_resp\",\"w_label\"]) \n",
    "\n",
    "print(\"data frame combined\")\n"
   ]
  },
  {
   "cell_type": "code",
   "execution_count": null,
   "metadata": {
    "id": "9XHdpOomdAuk",
    "outputId": "8ff6b4f7-0ad4-421d-f879-9f4cb6898f31"
   },
   "outputs": [],
   "source": [
    "Q1 = df.quantile(0.25)\n",
    "Q3 = df.quantile(0.75)\n",
    "IQR = Q3 - Q1\n",
    "print(\"IQR is\\n\", IQR)\n",
    "#print((df < (Q1 - 1.5 * IQR)) |(df > (Q3 + 1.5 * IQR)) )\n",
    "df_out = df[~((df < (Q1 - 1.5 * IQR)) |(df > (Q3 + 1.5 * IQR))).any(axis=1)]\n",
    "print(df_out.shape)"
   ]
  },
  {
   "cell_type": "code",
   "execution_count": null,
   "metadata": {
    "id": "c9AMvjMwdAuk"
   },
   "outputs": [],
   "source": [
    "norm_df_out=(df_out-df_out.mean())/df_out.std()\n",
    "\n",
    "norm_y_16 = df_out.w_label #keep original labels Dont normalize labels\n",
    "norm_x_16 = norm_df_out.drop('w_label',axis=1)\n",
    "\n",
    "\n",
    "norm_x_train_16,norm_x_test_16,norm_y_train_16,norm_y_test_16=train_test_split(norm_x_16,norm_y_16,test_size=0.2)"
   ]
  },
  {
   "cell_type": "code",
   "execution_count": null,
   "metadata": {
    "id": "pzT18GM0dAuk",
    "outputId": "74cad129-9ea1-4591-e343-5699d91e3128"
   },
   "outputs": [],
   "source": [
    "norm_x_16"
   ]
  },
  {
   "cell_type": "code",
   "execution_count": null,
   "metadata": {
    "id": "PzW_4rd-dAuk",
    "outputId": "ac4a9116-fa9b-4f77-95c5-ece74616dc42"
   },
   "outputs": [],
   "source": [
    "qda_clf = QuadraticDiscriminantAnalysis(priors=None, reg_param=0)\n",
    "norm_y_out_16 = cross_val_predict(qda_clf, norm_x_16, norm_y_16, cv=10)\n",
    "lm_16=(classification_report(norm_y_16, norm_y_out_16, digits=4))\n",
    "print(lm_16)\n"
   ]
  },
  {
   "cell_type": "code",
   "execution_count": null,
   "metadata": {
    "id": "siQS5NSwdAuk"
   },
   "outputs": [],
   "source": []
  },
  {
   "cell_type": "code",
   "execution_count": null,
   "metadata": {
    "id": "gQ7DG99ZdAuk"
   },
   "outputs": [],
   "source": []
  },
  {
   "cell_type": "code",
   "execution_count": null,
   "metadata": {
    "id": "YHNYBBfCdAul"
   },
   "outputs": [],
   "source": []
  },
  {
   "cell_type": "code",
   "execution_count": null,
   "metadata": {
    "id": "zkc81aTTdAul"
   },
   "outputs": [],
   "source": []
  },
  {
   "cell_type": "code",
   "execution_count": null,
   "metadata": {
    "id": "kMK-vt42dAul"
   },
   "outputs": [],
   "source": []
  },
  {
   "cell_type": "code",
   "execution_count": null,
   "metadata": {
    "id": "WRNaiYmbdAul",
    "outputId": "ffec476e-ca74-44cf-8c4a-996b77711a4b"
   },
   "outputs": [],
   "source": [
    "\n",
    "\n",
    "s17_path = r\"C:\\Users\\pc\\S17.pkl\"\n",
    "\n",
    "with open(s17_path, 'rb') as file:\n",
    "    s2_data = pickle.load(file, encoding='latin1')\n",
    "    \n",
    "c_ax=s2_data['signal']['chest']['ACC'][0:,0]#[baseline_to_plot]\n",
    "c_ay=s2_data['signal']['chest']['ACC'][0:,1]#[baseline_to_plot]#[0:100] # hundred values\n",
    "c_az=s2_data['signal']['chest']['ACC'][0:,2]#[baseline_to_plot]\n",
    "c_ecg=s2_data['signal']['chest']['ECG'][:,0]#[baseline_to_plot]\n",
    "c_emg=s2_data['signal']['chest']['EMG'][:,0]#[baseline_to_plot]\n",
    "c_eda=s2_data['signal']['chest']['EDA'][:,0]#[baseline_to_plot]\n",
    "c_temp=s2_data['signal']['chest']['Temp'][:,0]#[baseline_to_plot]\n",
    "c_resp=s2_data['signal']['chest']['Resp'][:,0]#[baseline_to_plot]\n",
    "w_ax=s2_data['signal']['wrist']['ACC'][0:,0]#[stress_to_plot]\n",
    "w_ay=s2_data['signal']['wrist']['ACC'][0:,1]#[stress_to_plot]\n",
    "w_az=s2_data['signal']['wrist']['ACC'][0:,2]#[stress_to_plot]\n",
    "w_bvp=s2_data['signal']['wrist']['BVP'][:,0]#[stress_to_plot]\n",
    "w_eda=s2_data['signal']['wrist']['EDA'][:,0]#[stress_to_plot]\n",
    "w_temp=s2_data['signal']['wrist']['TEMP'][:,0]#[stress_to_plot]\n",
    "w_label=s2_data['label']\n",
    "\n",
    "print(\"Equated\")    \n",
    "\n",
    "numpy_data1=np.array([c_ax, c_ay, c_az,c_ecg,c_emg,c_eda,c_temp,c_resp,w_label])\n",
    "numpy_data1=numpy_data1.T\n",
    "\n",
    "#df = pd.DataFrame(data=numpy_data1, columns=[\"c_ax\", \"c_ay\", \"c_az\",\"c_ecg\",\"c_emg\",\"c_eda\",\"c_temp\",\"c_resp\",\"w_ax\",\"w_ay\",\"w_az\",\"w_bvp\",\"w_eda\",\"w_temp\"],orient='index') \n",
    "df = pd.DataFrame(data=numpy_data1, columns=[\"c_ax\", \"c_ay\", \"c_az\",\"c_ecg\",\"c_emg\",\"c_eda\",\"c_temp\",\"c_resp\",\"w_label\"]) \n",
    "\n",
    "print(\"data frame combined\")\n"
   ]
  },
  {
   "cell_type": "code",
   "execution_count": null,
   "metadata": {
    "id": "rjO6BR9-dAul",
    "outputId": "e85f810f-7d22-4d32-e864-48d0036ae993"
   },
   "outputs": [],
   "source": [
    "Q1 = df.quantile(0.25)\n",
    "Q3 = df.quantile(0.75)\n",
    "IQR = Q3 - Q1\n",
    "print(\"IQR is\\n\", IQR)\n",
    "#print((df < (Q1 - 1.5 * IQR)) |(df > (Q3 + 1.5 * IQR)) )\n",
    "df_out = df[~((df < (Q1 - 1.5 * IQR)) |(df > (Q3 + 1.5 * IQR))).any(axis=1)]\n",
    "print(df_out.shape)"
   ]
  },
  {
   "cell_type": "code",
   "execution_count": null,
   "metadata": {
    "id": "fQDJjgq8dAul"
   },
   "outputs": [],
   "source": [
    "norm_df_out=(df_out-df_out.mean())/df_out.std()\n",
    "\n",
    "norm_y_17 = df_out.w_label #keep original labels Dont normalize labels\n",
    "norm_x_17 = norm_df_out.drop('w_label',axis=1)\n",
    "\n",
    "\n",
    "norm_x_train_17,norm_x_test_17,norm_y_train_17,norm_y_test_17=train_test_split(norm_x_17,norm_y_17,test_size=0.2)"
   ]
  },
  {
   "cell_type": "code",
   "execution_count": null,
   "metadata": {
    "id": "cjAswprZdAul",
    "outputId": "97ae3266-69c4-4435-f17d-89c51562da4c"
   },
   "outputs": [],
   "source": [
    "qda_clf = QuadraticDiscriminantAnalysis(priors=None, reg_param=0)\n",
    "norm_y_out_17 = cross_val_predict(qda_clf, norm_x_17, norm_y_17, cv=10)\n",
    "lm_17=(classification_report(norm_y_17, norm_y_out_17, digits=4))\n",
    "print(lm_17)\n"
   ]
  },
  {
   "cell_type": "code",
   "execution_count": null,
   "metadata": {},
   "outputs": [],
   "source": [
    "pip install --upgrade keras"
   ]
  },
  {
   "cell_type": "code",
   "execution_count": null,
   "metadata": {
    "id": "fBLmefiDdAul"
   },
   "outputs": [],
   "source": [
    "import numpy as np\n",
    "from sklearn.metrics import classification_report\n",
    "import scipy.stats as st\n",
    "import sys\n",
    "import os\n",
    "import random\n",
    "import numpy as np\n",
    "import tensorflow as tf\n",
    "session_conf = tf.compat.v1.ConfigProto(intra_op_parallelism_threads=1, inter_op_parallelism_threads=1)\n",
    "\n",
    "from tensorflow.keras.callbacks import EarlyStopping, ModelCheckpoint\n",
    "from tensorflow.keras.models import Sequential, Model\n",
    "from tensorflow.keras.layers import Dense, LSTM, GRU, SimpleRNN, Dropout, Conv2D, Lambda, Input, Bidirectional, LSTM, Flatten\n",
    "from tensorflow.keras import optimizers\n",
    "from tensorflow.keras.callbacks import EarlyStopping, LearningRateScheduler, ReduceLROnPlateau\n",
    "from tensorflow.keras import backend as K\n",
    "from sklearn import metrics\n",
    "from sklearn.metrics import roc_curve, auc, confusion_matrix\n",
    "from sklearn.model_selection import train_test_split\n",
    "import sys\n",
    "from tensorflow.keras.layers import Attention\n",
    "import keras\n"
   ]
  },
  {
   "cell_type": "code",
   "execution_count": null,
   "metadata": {},
   "outputs": [],
   "source": [
    "from tensorflow.keras.layers import SelfAttention"
   ]
  },
  {
   "cell_type": "code",
   "execution_count": null,
   "metadata": {
    "id": "AAVCa5jhdAum"
   },
   "outputs": [],
   "source": [
    "pip install keras"
   ]
  },
  {
   "cell_type": "code",
   "execution_count": null,
   "metadata": {
    "id": "IpMuuWTtdAum"
   },
   "outputs": [],
   "source": [
    "pip install h5py"
   ]
  },
  {
   "cell_type": "code",
   "execution_count": null,
   "metadata": {
    "id": "sVU0sZ6xdAum"
   },
   "outputs": [],
   "source": []
  },
  {
   "cell_type": "code",
   "execution_count": null,
   "metadata": {
    "id": "8GuluZ_CdAum"
   },
   "outputs": [],
   "source": [
    "pip install keras-self-attention"
   ]
  },
  {
   "cell_type": "code",
   "execution_count": null,
   "metadata": {
    "id": "r_ejVDDsdAum"
   },
   "outputs": [],
   "source": [
    "import keras-self-attention"
   ]
  },
  {
   "cell_type": "code",
   "execution_count": null,
   "metadata": {
    "id": "5uaX6gyMdAum"
   },
   "outputs": [],
   "source": [
    "def model(x_train, num_labels, LSTM_units, num_conv_filters, batch_size, F, D):\n",
    "    \"\"\"\n",
    "    The proposed model with CNN layer, LSTM RNN layer and self attention layers.\n",
    "    Inputs:\n",
    "    - x_train: required for creating input shape for RNN layer in Keras\n",
    "    - num_labels: number of output classes (int)\n",
    "    - LSTM_units: number of RNN units (int)\n",
    "    - num_conv_filters: number of CNN filters (int)\n",
    "    - batch_size: number of samples to be processed in each batch\n",
    "    - F: the attention length (int)\n",
    "    - D: the length of the output (int) \n",
    "    Returns\n",
    "    - model: A Keras model\n",
    "    \"\"\"\n",
    "    cnn_inputs = Input(shape=(x_train.shape[1], x_train.shape[2], 1), batch_size=batch_size, name='rnn_inputs')\n",
    "    cnn_layer = Conv2D(num_conv_filters, kernel_size = (1, x_train.shape[2]), strides=(1, 1), padding='valid', data_format=\"channels_last\")\n",
    "    cnn_out = cnn_layer(cnn_inputs)\n",
    "\n",
    "    sq_layer = Lambda(lambda x: K.squeeze(x, axis = 2))\n",
    "    sq_layer_out = sq_layer(cnn_out)\n",
    "\n",
    "    rnn_layer = LSTM(LSTM_units, return_sequences=True, name='lstm', return_state=True) #return_state=True\n",
    "    rnn_layer_output, _, _ = rnn_layer(sq_layer_out)\n",
    "\n",
    "    encoder_output, attention_weights = SelfAttention(size=F, num_hops=D, use_penalization=False, batch_size = batch_size)(rnn_layer_output)\n",
    "    dense_layer = Dense(num_labels, activation = 'softmax')\n",
    "    dense_layer_output = dense_layer(encoder_output)\n",
    "\n",
    "    model = Model(inputs=cnn_inputs, outputs=dense_layer_output)\n",
    "    print (model.summary())\n",
    "\n",
    "    return model"
   ]
  },
  {
   "cell_type": "code",
   "execution_count": null,
   "metadata": {
    "id": "7qGhDSbUdAum"
   },
   "outputs": [],
   "source": [
    "os.environ[\"CUDA_DEVICE_ORDER\"]= \"PCI_BUS_ID\"\n",
    "os.environ[\"CUDA_VISIBLE_DEVICES\"]= '0'\n",
    "os.environ['TF_CPP_MIN_LOG_LEVEL'] = '3'\n",
    "sess = tf.Session(graph=tf.get_default_graph(), config=session_conf)\n",
    "K.set_session(sess)"
   ]
  },
  {
   "cell_type": "code",
   "execution_count": null,
   "metadata": {
    "id": "JWS9mhWvdAum"
   },
   "outputs": [],
   "source": [
    "EPOCH = 10\n",
    "BATCH_SIZE = 16\n",
    "LSTM_UNITS = 32\n",
    "CNN_FILTERS = 3\n",
    "NUM_LSTM_LAYERS = 1\n",
    "LEARNING_RATE = 1e-4\n",
    "PATIENCE = 20\n",
    "SEED = 0\n",
    "F = 32\n",
    "D = 10\n",
    "\n",
    "\n",
    "#if not os.path.exists(os.path.join(SAVE_DIR)):\n",
    "    #os.mkdir(os.path.join(SAVE_DIR))\n",
    "\n",
    "    \n",
    "if __name__ == '__main__':\n",
    "    SEED = 0 \n",
    "    random.seed(SEED)\n",
    "    np.random.seed(SEED)\n",
    "    tf.compat.v1.set_random_seed(0)\n",
    "\n",
    "    for DATA_FILE in DATA_FILES:\n",
    "        # data_input_file = os.path.join(BASE_DIR, DATA_FILE)\n",
    "        tmp = np.load(data_input_file, allow_pickle=True)\n",
    "        X = tmp['X']\n",
    "        X = np.squeeze(X, axis = 1)\n",
    "        y_one_hot = tmp['y']\n",
    "        folds = tmp['folds']\n",
    "        \n",
    "    NUM_LABELS = y_one_hot.shape[1]\n",
    "\n",
    "    avg_acc = []\n",
    "    avg_recall = []\n",
    "    avg_f1 = []\n",
    "    early_stopping_epoch_list = []\n",
    "    y = np.argmax(y_one_hot, axis=1)\n",
    "    \n",
    "\n",
    "    for i in range(0, len(folds)):\n",
    "        train_idx = folds[i][0]\n",
    "        test_idx = folds[i][1]\n",
    "\n",
    "        X_train, y_train, y_train_one_hot = X[train_idx], y[train_idx], y_one_hot[train_idx]\n",
    "        X_test, y_test, y_test_one_hot = X[test_idx], y[test_idx], y_one_hot[test_idx]\n",
    "\n",
    "        X_train_ = np.expand_dims(X_train, axis = 3)\n",
    "        X_test_ = np.expand_dims(X_test, axis = 3)\n",
    "\n",
    "        train_trailing_samples =  X_train_.shape[0]%BATCH_SIZE\n",
    "        test_trailing_samples =  X_test_.shape[0]%BATCH_SIZE\n",
    "\n",
    "        if train_trailing_samples!= 0:\n",
    "            X_train_ = X_train_[0:-train_trailing_samples]\n",
    "            y_train_one_hot = y_train_one_hot[0:-train_trailing_samples]\n",
    "            y_train = y_train[0:-train_trailing_samples]\n",
    "        if test_trailing_samples!= 0:\n",
    "            X_test_ = X_test_[0:-test_trailing_samples]\n",
    "            y_test_one_hot = y_test_one_hot[0:-test_trailing_samples]\n",
    "            y_test = y_test[0:-test_trailing_samples]\n",
    "\n",
    "        print (y_train.shape, y_test.shape)   \n",
    "\n",
    "        rnn_model = model(x_train = X_train_, num_labels = NUM_LABELS, LSTM_units = LSTM_UNITS, \\\n",
    "        num_conv_filters = CNN_FILTERS, batch_size = BATCH_SIZE, F = F, D= D)\n",
    "\n",
    "        # model_filename = SAVE_DIR + '/best_model_with_self_attn_' + str(DATA_FILE[0:-4]) + '_fold_' + str(i) + '.h5'\n",
    "        callbacks = [ModelCheckpoint(filepath=model_filename, monitor = 'val_acc', save_weights_only=True, save_best_only=True), EarlyStopping(monitor='val_acc', patience=PATIENCE)]#, LearningRateScheduler()]\n",
    "\n",
    "        opt = optimizers.Adam(clipnorm=1.)\n",
    "\n",
    "        rnn_model.compile(optimizer=opt, loss='categorical_crossentropy', metrics=['accuracy'])\n",
    "\n",
    "        history = rnn_model.fit(X_train_, y_train_one_hot, epochs=EPOCH, batch_size=BATCH_SIZE, verbose=1, callbacks=callbacks, validation_data=(X_test_, y_test_one_hot))\n",
    "\n",
    "        early_stopping_epoch = callbacks[1].stopped_epoch - PATIENCE + 1\n",
    "        print('Early stopping epoch: ' + str(early_stopping_epoch))\n",
    "        early_stopping_epoch_list.append(early_stopping_epoch)\n",
    "\n",
    "        if early_stopping_epoch <= 0:\n",
    "            early_stopping_epoch = -100\n",
    "\n",
    "        # Evaluate model and predict data on TEST \n",
    "        print(\"******Evaluating TEST set*********\")\n",
    "        rnn_model.load_weights(model_filename)\n",
    "\n",
    "        y_test_predict = rnn_model.predict(X_test_, batch_size = BATCH_SIZE)\n",
    "        y_test_predict = np.array(y_test_predict)\n",
    "        y_test_predict = np.argmax(y_test_predict, axis=1)\n",
    "\n",
    "        all_trainable_count = int(np.sum([K.count_params(p) for p in set(rnn_model.trainable_weights)]))\n",
    "\n",
    "        MAE = metrics.mean_absolute_error(y_test, y_test_predict, sample_weight=None, multioutput='uniform_average')\n",
    "\n",
    "        acc_fold = accuracy_score(y_test, y_test_predict)\n",
    "        avg_acc.append(acc_fold)\n",
    "\n",
    "        recall_fold = recall_score(y_test, y_test_predict, average='macro')\n",
    "        avg_recall.append(recall_fold)\n",
    "\n",
    "        f1_fold  = f1_score(y_test, y_test_predict, average='macro')\n",
    "        avg_f1.append(f1_fold)\n",
    "\n",
    "        with open(SAVE_DIR + '/results_model_with_self_attn_' + MODE + '.csv', 'a') as out_stream:\n",
    "            out_stream.write(str(SEED) + ', ' + str(DATA_FILE[0:-4]) + ', ' + str(i) + ', ' + str(early_stopping_epoch) + ', ' + str(all_trainable_count) + ', ' + str(acc_fold) + ', ' + str(MAE) + ', ' + str(recall_fold) + ', ' + str(f1_fold) + '\\n')\n",
    "\n",
    "\n",
    "        print('Accuracy[{:.4f}] Recall[{:.4f}] F1[{:.4f}] at fold[{}]'.format(acc_fold, recall_fold, f1_fold, i))\n",
    "        print('______________________________________________________')\n",
    "        K.clear_session()\n",
    "\n",
    "    ic_acc = st.t.interval(0.9, len(avg_acc) - 1, loc=np.mean(avg_acc), scale=st.sem(avg_acc))\n",
    "    ic_recall = st.t.interval(0.9, len(avg_recall) - 1, loc=np.mean(avg_recall), scale=st.sem(avg_recall))\n",
    "    ic_f1 = st.t.interval(0.9, len(avg_f1) - 1, loc = np.mean(avg_f1), scale=st.sem(avg_f1))\n",
    "\n",
    "    print('Mean Accuracy[{:.4f}] IC [{:.4f}, {:.4f}]'.format(np.mean(avg_acc), ic_acc[0], ic_acc[1]))\n",
    "    print('Mean Recall[{:.4f}] IC [{:.4f}, {:.4f}]'.format(np.mean(avg_recall), ic_recall[0], ic_recall[1]))\n",
    "    print('Mean F1[{:.4f}] IC [{:.4f}, {:.4f}]'.format(np.mean(avg_f1), ic_f1[0], ic_f1[1]))"
   ]
  },
  {
   "cell_type": "code",
   "execution_count": null,
   "metadata": {
    "id": "dqz85B_ZdAum"
   },
   "outputs": [],
   "source": [
    "from tensorflow.keras.models import Model\n",
    "from tensorflow.keras import layers\n",
    "# Input layer\n",
    "\n",
    "input_shape = (None, 8) \n",
    "inputs = layers.Input(shape=input_shape)\n",
    "# inputs = layers.Input(shape=[100,12])\n",
    "\n",
    "# Conv1D layer, with 16 filters, kernel size 3, and padding\n",
    "cv1d = layers.Conv1D(filters=16, kernel_size=3, padding=\"same\")(inputs)\n",
    "# Batch normalization layer followed by dropout layer\n",
    "bn = layers.BatchNormalization()(cv1d)\n",
    "dropout = layers.Dropout(0.2)(bn)\n",
    "\n",
    "# First LSTM layer with 64 units with attention layer\n",
    "lstm1 = layers.LSTM(64,return_sequences=True)\n",
    "query_features = lstm1(dropout)\n",
    "value_features = lstm1(dropout)\n",
    "attention = layers.Attention()([query_features,value_features])\n",
    "\n",
    "# Second LSTM layer with 64 units with attention layer\n",
    "lstm2 = layers.LSTM(64,return_sequences=True)\n",
    "query_features = lstm2(attention)\n",
    "value_features = lstm2(attention)\n",
    "attention2 = layers.Attention()([query_features,value_features])\n",
    "\n",
    "# Branch 1: Third LSTM layer with 64 units\n",
    "lstm3 = layers.LSTM(64)(attention2)\n",
    "\n",
    "# Branch 2: Dense layer with 64 units followed by batch normalization and dropout layer\n",
    "# Then another dense layer with 64 units followed by batch normalization and dropout layer\n",
    "branch1 = layers.Dense(units = 64, activation='relu')(lstm3)\n",
    "bn1 = layers.BatchNormalization()(branch1)\n",
    "dropout1 = layers.Dropout(0.2)(bn1)\n",
    "dense2 = layers.Dense(units = 64, activation='relu')(dropout1)\n",
    "bn2 = layers.BatchNormalization()(dense2)\n",
    "dropout2 = layers.Dropout(0.2)(bn2)\n",
    "\n",
    "# Branch 3: Dense layer with 64 units followed by batch normalization and dropout layer\n",
    "# Then another dense layer with 64 units followed by batch normalization and dropout layer\n",
    "branch2 = layers.Dense(units = 64, activation='relu')(lstm3)\n",
    "bn3 = layers.BatchNormalization()(branch2)\n",
    "dropout3 = layers.Dropout(0.2)(bn3)\n",
    "dense3 = layers.Dense(units = 64, activation='relu')(dropout3)\n",
    "bn4 = layers.BatchNormalization()(dense3)\n",
    "dropout4 = layers.Dropout(0.2)(bn4)\n",
    "\n",
    "# Concatenate the three branches\n",
    "concatenated = layers.concatenate([lstm3,dropout2,dropout4])\n",
    "\n",
    "# Dense layer with 64 units followed by batch normalization and dropout layer\n",
    "dense4 = layers.Dense(units = 64, activation = 'relu')(concatenated)\n",
    "outputs = layers.Dense(units = 13, activation='softmax')(dense4)\n",
    "\n",
    "# Create the model\n",
    "model = Model(inputs=inputs, outputs=outputs)\n",
    "# Compile the model with adam optimizer and sparse categorical crossentropy loss\n",
    "model.compile(optimizer='adam', loss='sparse_categorical_crossentropy', metrics=['sparse_categorical_accuracy'])"
   ]
  },
  {
   "cell_type": "code",
   "execution_count": null,
   "metadata": {},
   "outputs": [],
   "source": [
    "from tensorflow.keras.models import Model\n",
    "from tensorflow.keras import layers\n",
    "\n",
    "# Input layer with shape (None, 8)\n",
    "inputs = layers.Input(shape=[8])\n",
    "\n",
    "# Reshape the input to match the original input shape (None, 100, 12)\n",
    "reshaped_input = layers.Reshape((100, 12))(inputs)\n",
    "\n",
    "# Continue with the rest of your model as before\n",
    "cv1d = layers.Conv1D(filters=16, kernel_size=3, padding=\"same\")(reshaped_input)\n",
    "bn = layers.BatchNormalization()(cv1d)\n",
    "dropout = layers.Dropout(0.2)(bn)\n",
    "lstm1 = layers.LSTM(64, return_sequences=True)(dropout)\n",
    "query_features = lstm1\n",
    "value_features = lstm1\n",
    "attention = layers.Attention()([query_features, value_features])\n",
    "lstm2 = layers.LSTM(64, return_sequences=True)(attention)\n",
    "query_features = lstm2\n",
    "value_features = lstm2\n",
    "attention2 = layers.Attention()([query_features, value_features])\n",
    "lstm3 = layers.LSTM(64)(attention2)\n",
    "branch1 = layers.Dense(units=64, activation='relu')(lstm3)\n",
    "bn1 = layers.BatchNormalization()(branch1)\n",
    "dropout1 = layers.Dropout(0.2)(bn1)\n",
    "dense2 = layers.Dense(units=64, activation='relu')(dropout1)\n",
    "bn2 = layers.BatchNormalization()(dense2)\n",
    "dropout2 = layers.Dropout(0.2)(bn2)\n",
    "branch2 = layers.Dense(units=64, activation='relu')(lstm3)\n",
    "bn3 = layers.BatchNormalization()(branch2)\n",
    "dropout3 = layers.Dropout(0.2)(bn3)\n",
    "dense3 = layers.Dense(units=64, activation='relu')(dropout3)\n",
    "bn4 = layers.BatchNormalization()(dense3)\n",
    "dropout4 = layers.Dropout(0.2)(bn4)\n",
    "concatenated = layers.concatenate([lstm3, dropout2, dropout4])\n",
    "dense4 = layers.Dense(units=64, activation='relu')(concatenated)\n",
    "outputs = layers.Dense(units=13, activation='softmax')(dense4)\n",
    "\n",
    "# Create the model\n",
    "model = Model(inputs=inputs, outputs=outputs)\n",
    "\n",
    "# Compile the model with adam optimizer and sparse categorical cross-entropy loss\n",
    "model.compile(optimizer='adam', loss='sparse_categorical_crossentropy', metrics=['sparse_categorical_accuracy'])\n"
   ]
  },
  {
   "cell_type": "code",
   "execution_count": null,
   "metadata": {},
   "outputs": [],
   "source": [
    "from tensorflow.keras.models import Model\n",
    "from tensorflow.keras import layers\n",
    "\n",
    "# Input layer with shape (None, 8)\n",
    "inputs = layers.Input(shape=[8])\n",
    "\n",
    "# Pad the input to match the shape (None, 100, 12)\n",
    "padded_input = layers.ZeroPadding1D(padding=(0, 100 - 8))(inputs)\n",
    "reshaped_input = layers.Reshape((100, 12))(padded_input)\n",
    "\n",
    "# Continue with the rest of your model as before\n",
    "cv1d = layers.Conv1D(filters=16, kernel_size=3, padding=\"same\")(reshaped_input)\n",
    "bn = layers.BatchNormalization()(cv1d)\n",
    "dropout = layers.Dropout(0.2)(bn)\n",
    "lstm1 = layers.LSTM(64, return_sequences=True)(dropout)\n",
    "query_features = lstm1\n",
    "value_features = lstm1\n",
    "attention = layers.Attention()([query_features, value_features])\n",
    "lstm2 = layers.LSTM(64, return_sequences=True)(attention)\n",
    "query_features = lstm2\n",
    "value_features = lstm2\n",
    "attention2 = layers.Attention()([query_features, value_features])\n",
    "lstm3 = layers.LSTM(64)(attention2)\n",
    "branch1 = layers.Dense(units=64, activation='relu')(lstm3)\n",
    "bn1 = layers.BatchNormalization()(branch1)\n",
    "dropout1 = layers.Dropout(0.2)(bn1)\n",
    "dense2 = layers.Dense(units=64, activation='relu')(dropout1)\n",
    "bn2 = layers.BatchNormalization()(dense2)\n",
    "dropout2 = layers.Dropout(0.2)(bn2)\n",
    "branch2 = layers.Dense(units=64, activation='relu')(lstm3)\n",
    "bn3 = layers.BatchNormalization()(branch2)\n",
    "dropout3 = layers.Dropout(0.2)(bn3)\n",
    "dense3 = layers.Dense(units=64, activation='relu')(dropout3)\n",
    "bn4 = layers.BatchNormalization()(dense3)\n",
    "dropout4 = layers.Dropout(0.2)(bn4)\n",
    "concatenated = layers.concatenate([lstm3, dropout2, dropout4])\n",
    "dense4 = layers.Dense(units=64, activation='relu')(concatenated)\n",
    "outputs = layers.Dense(units=13, activation='softmax')(dense4)\n",
    "\n",
    "# Create the model\n",
    "model = Model(inputs=inputs, outputs=outputs)\n",
    "\n",
    "# Compile the model with adam optimizer and sparse categorical cross-entropy loss\n",
    "model.compile(optimizer='adam', loss='sparse_categorical_crossentropy', metrics=['sparse_categorical_accuracy'])\n"
   ]
  },
  {
   "cell_type": "code",
   "execution_count": null,
   "metadata": {},
   "outputs": [],
   "source": [
    "from tensorflow.keras.models import Model\n",
    "from tensorflow.keras import layers\n",
    "\n",
    "# Input layer with shape (None, 8)\n",
    "inputs = layers.Input(shape=[8])\n",
    "\n",
    "# Repeat the input to match the shape (None, 100, 8)\n",
    "repeated_input = layers.RepeatVector(100)(inputs)\n",
    "\n",
    "# Continue with the rest of your model as before\n",
    "cv1d = layers.Conv1D(filters=16, kernel_size=3, padding=\"same\")(repeated_input)\n",
    "bn = layers.BatchNormalization()(cv1d)\n",
    "dropout = layers.Dropout(0.2)(bn)\n",
    "lstm1 = layers.LSTM(64, return_sequences=True)(dropout)\n",
    "query_features = lstm1\n",
    "value_features = lstm1\n",
    "attention = layers.Attention()([query_features, value_features])\n",
    "lstm2 = layers.LSTM(64, return_sequences=True)(attention)\n",
    "query_features = lstm2\n",
    "value_features = lstm2\n",
    "attention2 = layers.Attention()([query_features, value_features])\n",
    "lstm3 = layers.LSTM(64)(attention2)\n",
    "branch1 = layers.Dense(units=64, activation='relu')(lstm3)\n",
    "bn1 = layers.BatchNormalization()(branch1)\n",
    "dropout1 = layers.Dropout(0.2)(bn1)\n",
    "dense2 = layers.Dense(units=64, activation='relu')(dropout1)\n",
    "bn2 = layers.BatchNormalization()(dense2)\n",
    "dropout2 = layers.Dropout(0.2)(bn2)\n",
    "branch2 = layers.Dense(units=64, activation='relu')(lstm3)\n",
    "bn3 = layers.BatchNormalization()(branch2)\n",
    "dropout3 = layers.Dropout(0.2)(bn3)\n",
    "dense3 = layers.Dense(units=64, activation='relu')(dropout3)\n",
    "bn4 = layers.BatchNormalization()(dense3)\n",
    "dropout4 = layers.Dropout(0.2)(bn4)\n",
    "concatenated = layers.concatenate([lstm3, dropout2, dropout4])\n",
    "dense4 = layers.Dense(units=64, activation='relu')(concatenated)\n",
    "outputs = layers.Dense(units=13, activation='softmax')(dense4)\n",
    "\n",
    "# Create the model\n",
    "model = Model(inputs=inputs, outputs=outputs)\n",
    "\n",
    "# Compile the model with adam optimizer and sparse categorical cross-entropy loss\n",
    "model.compile(optimizer='adam', loss='sparse_categorical_crossentropy', metrics=['sparse_categorical_accuracy'])\n"
   ]
  },
  {
   "cell_type": "code",
   "execution_count": null,
   "metadata": {
    "id": "0NzTHddddAun"
   },
   "outputs": [],
   "source": [
    "model.summary()"
   ]
  },
  {
   "cell_type": "code",
   "execution_count": null,
   "metadata": {
    "id": "QRLf1mo8dAun"
   },
   "outputs": [],
   "source": [
    "tf.keras.utils.plot_model(model, show_shapes=True, to_file = 'model.png')"
   ]
  },
  {
   "cell_type": "code",
   "execution_count": null,
   "metadata": {
    "id": "hxUJ9MA9dAun"
   },
   "outputs": [],
   "source": [
    "pip install pydot"
   ]
  },
  {
   "cell_type": "code",
   "execution_count": null,
   "metadata": {
    "id": "eG-3YfVxdAun"
   },
   "outputs": [],
   "source": [
    "pip install graphviz"
   ]
  },
  {
   "cell_type": "code",
   "execution_count": null,
   "metadata": {
    "id": "cAxVqq0VdAun"
   },
   "outputs": [],
   "source": [
    "tf.keras.utils.plot_model(model, show_shapes=True, to_file = 'model.png')"
   ]
  },
  {
   "cell_type": "code",
   "execution_count": null,
   "metadata": {
    "id": "rkdW1JbBdAun"
   },
   "outputs": [],
   "source": [
    "callbacks = [keras.callbacks.ModelCheckpoint(\"mhealth_best.h5\", save_best_only=True, monitor=\"val_loss\"),\n",
    "             keras.callbacks.EarlyStopping(monitor=\"val_loss\", patience=50, verbose=1)]\n",
    "model_history = model.fit(x_train,y_train, epochs= 20, validation_data=(x_test,y_test), callbacks=callbacks)"
   ]
  },
  {
   "cell_type": "code",
   "execution_count": null,
   "metadata": {
    "id": "y-VxpwEUdAun"
   },
   "outputs": [],
   "source": [
    "train_loss = model_history.history['loss']\n",
    "val_loss = model_history.history['val_loss']\n",
    "train_accuracy = model_history.history['sparse_categorical_accuracy']\n",
    "val_accuracy = model_history.history['val_sparse_categorical_accuracy']\n",
    "\n",
    "plt.figure(figsize=(12,6))\n",
    "\n",
    "plt.subplot(1,2,1)\n",
    "plt.plot(train_loss, 'r', label='Training loss')\n",
    "plt.plot(val_loss, 'b', label='Validation loss')\n",
    "plt.title('Training and Validation Loss')\n",
    "plt.xlabel('Epoch')\n",
    "plt.ylabel('Loss Value')\n",
    "plt.legend()\n",
    "\n",
    "plt.subplot(1,2,2)\n",
    "plt.plot(train_accuracy, 'r', label='Training Accuracy')\n",
    "plt.plot(val_accuracy, 'b', label='Validation Accuracy')\n",
    "plt.title('Training and Validation Accuracy')\n",
    "plt.xlabel('Epoch')\n",
    "plt.ylabel('Accuracy')\n",
    "plt.legend()\n",
    "\n",
    "plt.show()"
   ]
  },
  {
   "cell_type": "code",
   "execution_count": null,
   "metadata": {
    "id": "CMYJ5KB4dAun"
   },
   "outputs": [],
   "source": [
    "model = keras.models.load_model('./mhealth_best.h5')\n",
    "\n",
    "train_loss, train_acc = model.evaluate(x_train,y_train)\n",
    "test_loss, test_acc = model.evaluate(x_test,y_test)\n",
    "\n",
    "print(\"Train accuracy\", round(train_acc*100, 2),'%')\n",
    "print(\"Train loss\", train_loss)\n",
    "print(\"Test accuracy\", round(test_acc*100, 2),'%')\n",
    "print(\"Test loss\", test_loss)"
   ]
  },
  {
   "cell_type": "code",
   "execution_count": null,
   "metadata": {
    "id": "Xv0SupUvdAun"
   },
   "outputs": [],
   "source": [
    "y = df_out.w_label\n",
    "x = df_out.drop('w_label', axis=1)\n",
    "\n",
    "# Split the data into 80% training and 20% for validation + test\n",
    "X_train, X_temp, X_train, Y_temp = train_test_split(norm_x_17, norm_y_17, test_size=0.2, random_state=42)\n",
    "\n",
    "# Split the remaining 20% into 10% validation and 10% test\n",
    "X_validation, X_test, Y_validation, Y_test = train_test_split(X_temp, Y_temp, test_size=0.5, random_state=42)"
   ]
  },
  {
   "cell_type": "code",
   "execution_count": null,
   "metadata": {},
   "outputs": [],
   "source": []
  },
  {
   "cell_type": "code",
   "execution_count": null,
   "metadata": {
    "id": "lHAGRPOgdAun"
   },
   "outputs": [],
   "source": [
    "callbacks = [keras.callbacks.ModelCheckpoint(\"mhealth_best_v2.0.h5\", save_best_only=True, monitor=\"val_loss\"),\n",
    "             keras.callbacks.EarlyStopping(monitor=\"val_loss\", patience=5, verbose=1)]\n",
    "model_history = model.fit(x_train,y_train, epochs= 20, validation_data=(X_validation,Y_validation), callbacks=callbacks)"
   ]
  },
  {
   "cell_type": "code",
   "execution_count": null,
   "metadata": {},
   "outputs": [],
   "source": [
    "model = keras.models.load_model('./mhealth_best_v2.0.h5')\n",
    "\n",
    "train_loss, train_acc = model.evaluate(x_train,y_train)\n",
    "test_loss, test_acc = model.evaluate(X_test,Y_test)\n",
    "\n",
    "print(\"Train accuracy\", round(train_acc*100, 2),'%')\n",
    "print(\"Train loss\", train_loss)\n",
    "print(\"Test accuracy\", round(test_acc*100, 2),'%')\n",
    "print(\"Test loss\", test_loss)"
   ]
  },
  {
   "cell_type": "code",
   "execution_count": null,
   "metadata": {
    "id": "lP5FhP09dAun"
   },
   "outputs": [],
   "source": [
    "train_loss = model_history.history['loss']\n",
    "val_loss = model_history.history['val_loss']\n",
    "train_accuracy = model_history.history['sparse_categorical_accuracy']\n",
    "val_accuracy = model_history.history['val_sparse_categorical_accuracy']\n",
    "\n",
    "plt.figure(figsize=(12,6))\n",
    "\n",
    "plt.subplot(1,2,1)\n",
    "plt.plot(train_loss, 'r', label='Training loss')\n",
    "plt.plot(val_loss, 'b', label='Validation loss')\n",
    "plt.title('Training and Validation Loss')\n",
    "plt.xlabel('Epoch')\n",
    "plt.ylabel('Loss Value')\n",
    "plt.legend()\n",
    "\n",
    "plt.subplot(1,2,2)\n",
    "plt.plot(train_accuracy, 'r', label='Training Accuracy')\n",
    "plt.plot(val_accuracy, 'b', label='Validation Accuracy')\n",
    "plt.title('Training and Validation Accuracy')\n",
    "plt.xlabel('Epoch')\n",
    "plt.ylabel('Accuracy')\n",
    "plt.legend()\n",
    "\n",
    "plt.show()"
   ]
  },
  {
   "cell_type": "code",
   "execution_count": null,
   "metadata": {
    "id": "trtGLEQNdAuo"
   },
   "outputs": [],
   "source": [
    "model = keras.models.load_model('./mhealth_best_v1.0.h5')\n",
    "\n",
    "train_loss, train_acc = model.evaluate(x_train,y_train)\n",
    "test_loss, test_acc = model.evaluate(X_test,Y_test)\n",
    "\n",
    "print(\"Train accuracy\", round(train_acc*100, 2),'%')\n",
    "print(\"Train loss\", train_loss)\n",
    "print(\"Test accuracy\", round(test_acc*100, 2),'%')\n",
    "print(\"Test loss\", test_loss)"
   ]
  },
  {
   "cell_type": "code",
   "execution_count": null,
   "metadata": {
    "id": "ip9jgzz0dAuo"
   },
   "outputs": [],
   "source": [
    "# simplified model\n",
    "\n",
    "from tensorflow.keras.models import Model\n",
    "from tensorflow.keras import layers\n",
    "\n",
    "# Input layer with shape (None, 8)\n",
    "inputs = layers.Input(shape=[8])\n",
    "\n",
    "# Continue with the rest of your model with reduced complexity\n",
    "cv1d = layers.Conv1D(filters=16, kernel_size=3, padding=\"same\")(inputs)\n",
    "bn = layers.BatchNormalization()(cv1d)\n",
    "dropout = layers.Dropout(0.2)(bn)\n",
    "lstm1 = layers.LSTM(32, return_sequences=True)(dropout)  # Reduced units\n",
    "lstm2 = layers.LSTM(32, return_sequences=True)(lstm1)    # Reduced units\n",
    "lstm3 = layers.LSTM(32)(lstm2)                           # Reduced units\n",
    "\n",
    "# Reduce the number of dense layers and units\n",
    "dense1 = layers.Dense(units=32, activation='relu')(lstm3)\n",
    "bn1 = layers.BatchNormalization()(dense1)\n",
    "dropout1 = layers.Dropout(0.2)(bn1)\n",
    "\n",
    "# Output layer\n",
    "outputs = layers.Dense(units=13, activation='softmax')(dropout1)\n",
    "\n",
    "# Create the simplified model\n",
    "model_simple = Model(inputs=inputs, outputs=outputs)\n",
    "\n",
    "# Compile the model with adam optimizer and sparse categorical cross-entropy loss\n",
    "model.compile(optimizer='adam', loss='sparse_categorical_crossentropy', metrics=['sparse_categorical_accuracy'])\n"
   ]
  },
  {
   "cell_type": "code",
   "execution_count": null,
   "metadata": {
    "id": "YtsF_NkwdAuo"
   },
   "outputs": [],
   "source": []
  },
  {
   "cell_type": "code",
   "execution_count": null,
   "metadata": {
    "id": "wHuk3KN6dAuo"
   },
   "outputs": [],
   "source": []
  },
  {
   "cell_type": "code",
   "execution_count": null,
   "metadata": {
    "id": "JBkNRKgAdAuo"
   },
   "outputs": [],
   "source": []
  },
  {
   "cell_type": "code",
   "execution_count": null,
   "metadata": {
    "id": "qxLY-RI0dAuo"
   },
   "outputs": [],
   "source": []
  },
  {
   "cell_type": "code",
   "execution_count": null,
   "metadata": {
    "id": "xPp03-C-dAuo"
   },
   "outputs": [],
   "source": []
  },
  {
   "cell_type": "code",
   "execution_count": null,
   "metadata": {
    "id": "QoZj4M7kdAuo"
   },
   "outputs": [],
   "source": []
  },
  {
   "cell_type": "code",
   "execution_count": null,
   "metadata": {
    "id": "13RtEu-WdAuo"
   },
   "outputs": [],
   "source": []
  },
  {
   "cell_type": "code",
   "execution_count": null,
   "metadata": {
    "id": "GqiwHsoYdAuq"
   },
   "outputs": [],
   "source": []
  }
 ],
 "metadata": {
  "colab": {
   "provenance": []
  },
  "kernelspec": {
   "display_name": "Python 3 (ipykernel)",
   "language": "python",
   "name": "python3"
  },
  "language_info": {
   "codemirror_mode": {
    "name": "ipython",
    "version": 3
   },
   "file_extension": ".py",
   "mimetype": "text/x-python",
   "name": "python",
   "nbconvert_exporter": "python",
   "pygments_lexer": "ipython3",
   "version": "3.9.19"
  }
 },
 "nbformat": 4,
 "nbformat_minor": 1
}
